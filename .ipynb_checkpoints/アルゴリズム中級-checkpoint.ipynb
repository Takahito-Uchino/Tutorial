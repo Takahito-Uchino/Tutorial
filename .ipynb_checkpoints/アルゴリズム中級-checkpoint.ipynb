{
 "cells": [
  {
   "cell_type": "code",
   "execution_count": null,
   "id": "0c333310",
   "metadata": {},
   "outputs": [],
   "source": [
    "nums = [0, 1, 5, 7, 9, 11, 15, 20, 24]\n",
    "#binary_search(nums, 11) -> 5\n",
    "#binary_search(nums, 12) -> 'NotFound'\n",
    "def binary_search(nums, integer)\n",
    "    while left_index <= right_index:\n",
    "        if nums[len(nums) / 2] > integer:\n",
    "            nums = nums[:integer]\n",
    "        elif nums[len(nums)/2] < integer:\n",
    "            nums = nums[integer:]\n",
    "        else:\n",
    "            return left_index"
   ]
  },
  {
   "cell_type": "code",
   "execution_count": 17,
   "id": "f00a443c",
   "metadata": {},
   "outputs": [
    {
     "name": "stdout",
     "output_type": "stream",
     "text": [
      "5\n",
      "NotFound\n"
     ]
    }
   ],
   "source": [
    "nums = [0, 1, 5, 7, 9, 11, 15, 20, 24]\n",
    "\n",
    "def binary_search(nums, value):\n",
    "    left_index, right_index = 0, len(nums) - 1\n",
    "    while left_index <= right_index:\n",
    "        center_index = (left_index + right_index) // 2\n",
    "        if nums[center_index] == value:\n",
    "            return center_index\n",
    "        elif nums[center_index] < value:\n",
    "            left_index = center_index + 1\n",
    "        else:\n",
    "            right_index = center_index - 1\n",
    "    return 'NotFound'\n",
    "\n",
    "print(binary_search(nums, 11))\n",
    "print(binary_search(nums, 12))"
   ]
  },
  {
   "cell_type": "code",
   "execution_count": 20,
   "id": "d565fcaa",
   "metadata": {},
   "outputs": [
    {
     "data": {
      "text/plain": [
       "5"
      ]
     },
     "execution_count": 20,
     "metadata": {},
     "output_type": "execute_result"
    }
   ],
   "source": [
    "def binary_search(nums, value):\n",
    "    def _binary_search(nums, value, left_index, right_index):\n",
    "        if left_index > right_index:\n",
    "            return 'NotFound'\n",
    "        center_index = (left_index + right_index) // 2\n",
    "        if nums[center_index] == value:\n",
    "            return center_index\n",
    "        elif nums[center_index] < value:\n",
    "            return _binary_search(nums, value, left_index = center_index + 1, right_index = right_index)\n",
    "        else:\n",
    "            return _binary_search(nums, value, left_index = left_index, right_index = right_index - 1)\n",
    "    return _binary_search(nums, value, 0, len(nums) - 1)\n",
    "\n",
    "binary_search(nums, 11)"
   ]
  },
  {
   "cell_type": "code",
   "execution_count": null,
   "id": "3dc61265",
   "metadata": {},
   "outputs": [],
   "source": [
    "#再帰\n",
    "def fib(n):\n",
    "    if n <= 2:\n",
    "        return 1\n",
    "    else:\n",
    "        return fib(n-1) + fib(n-2)"
   ]
  },
  {
   "cell_type": "code",
   "execution_count": 23,
   "id": "85cc1fcd",
   "metadata": {},
   "outputs": [
    {
     "data": {
      "text/plain": [
       "[1, 2, 3, 4, 5, 6, 7, 8]"
      ]
     },
     "execution_count": 23,
     "metadata": {},
     "output_type": "execute_result"
    }
   ],
   "source": [
    "nums = [5, 4, 1, 8, 7, 3, 2, 6]\n",
    "\n",
    "def merge_sort(nums):\n",
    "    if len(nums) <= 1:\n",
    "        return nums\n",
    "    #データを分割\n",
    "    center_index = len(nums) // 2\n",
    "    left_nums = nums[:center_index]\n",
    "    right_nums = nums[center_index:]\n",
    "    #再帰的にソート\n",
    "    merge_sort(left_nums)\n",
    "    merge_sort(right_nums)\n",
    "    #分割したデータをソート\n",
    "    left_index = right_index = index = 0\n",
    "    #while文\n",
    "    while left_index < len(left_nums) and right_index < len(right_nums):\n",
    "        if left_nums[left_index] <= right_nums[right_index]:\n",
    "            nums[index] = left_nums[left_index]\n",
    "            left_index += 1\n",
    "        else:\n",
    "            nums[index] = right_nums[right_index]\n",
    "            right_index += 1\n",
    "        index += 1\n",
    "\n",
    "    while right_index < len(right_nums):\n",
    "        nums[index] = right_nums[right_index]\n",
    "        index += 1\n",
    "        right_index += 1\n",
    "    \n",
    "    while left_index < len(left_nums):\n",
    "        nums[index] = left_nums[left_index]\n",
    "        index += 1\n",
    "        left_index += 1\n",
    "    \n",
    "    return nums\n",
    "\n",
    "merge_sort(nums)"
   ]
  },
  {
   "cell_type": "code",
   "execution_count": null,
   "id": "446c7467",
   "metadata": {},
   "outputs": [],
   "source": []
  },
  {
   "cell_type": "code",
   "execution_count": null,
   "id": "7c21fd17",
   "metadata": {},
   "outputs": [],
   "source": [
    "if mark_stack:\n",
    "    print('something in stack')\n",
    "else:\n",
    "    print('stack is empty')"
   ]
  },
  {
   "cell_type": "code",
   "execution_count": 38,
   "id": "df6e0b95",
   "metadata": {},
   "outputs": [
    {
     "name": "stdout",
     "output_type": "stream",
     "text": [
      "True\n",
      "False\n",
      "False\n"
     ]
    }
   ],
   "source": [
    "char1 = \"{'key1': 'value1', 'key2': [1, 2, 3], 'key3': (1, 2, 3)}\"\n",
    "char2 = \"{'key1': ['value1', 'key2': [1, 2, 3], 'key3': (1, 2, 3)}\"\n",
    "char3 = \"{'key1': 'value1', 'key2': [1, 2, 3], 'key3': (1, 2, 3})\"\n",
    "\n",
    "def validate_format(chars):\n",
    "\n",
    "    mark_dict = {'{': '}', '[': ']', '(': ')'}\n",
    "    mark_stack = []\n",
    "\n",
    "    for char in chars:\n",
    "        if char in mark_dict.keys():\n",
    "            mark_stack.append(mark_dict[char])\n",
    "        if char in mark_dict.values():\n",
    "            if not mark_stack:\n",
    "                return False\n",
    "            elif char != mark_stack.pop():\n",
    "                return False\n",
    "            \n",
    "    if mark_stack:\n",
    "        return False\n",
    "\n",
    "    return True\n",
    "\n",
    "print(validate_format(char1))\n",
    "print(validate_format(char2))\n",
    "print(validate_format(char3))"
   ]
  },
  {
   "cell_type": "code",
   "execution_count": null,
   "id": "a889636a",
   "metadata": {},
   "outputs": [],
   "source": [
    "chars = 'RareTECH'\n",
    "\n",
    "for char in chars:\n",
    "    print(char)"
   ]
  },
  {
   "cell_type": "code",
   "execution_count": 24,
   "id": "8e38ebfa",
   "metadata": {},
   "outputs": [
    {
     "name": "stdout",
     "output_type": "stream",
     "text": [
      "[]\n",
      "[1]\n",
      "[1, 2]\n",
      "[1]\n",
      "[]\n"
     ]
    }
   ],
   "source": [
    "#スタック\n",
    "l = []\n",
    "\n",
    "print(l)\n",
    "l.append(1)\n",
    "print(l)\n",
    "l.append(2)\n",
    "print(l)\n",
    "l.pop()\n",
    "print(l)\n",
    "l.pop()\n",
    "print(l)"
   ]
  },
  {
   "cell_type": "code",
   "execution_count": 39,
   "id": "14ca45e0",
   "metadata": {},
   "outputs": [
    {
     "name": "stdout",
     "output_type": "stream",
     "text": [
      "[]\n",
      "[1]\n",
      "[1, 2]\n",
      "[2]\n",
      "[]\n"
     ]
    }
   ],
   "source": [
    "#キュー： 先入れ先出し\n",
    "l = []\n",
    "\n",
    "print(l)\n",
    "l.append(1)\n",
    "print(l)\n",
    "l.append(2)\n",
    "print(l)\n",
    "l.pop(0)\n",
    "print(l)\n",
    "l.pop(0)\n",
    "print(l)"
   ]
  },
  {
   "cell_type": "code",
   "execution_count": 40,
   "id": "fc777ebc",
   "metadata": {},
   "outputs": [],
   "source": [
    "from collections import deque"
   ]
  },
  {
   "cell_type": "code",
   "execution_count": 41,
   "id": "78fc3b27",
   "metadata": {},
   "outputs": [
    {
     "name": "stdout",
     "output_type": "stream",
     "text": [
      "deque([1])\n",
      "deque([1, 2])\n",
      "deque([1])\n",
      "deque([])\n"
     ]
    }
   ],
   "source": [
    "s = deque([])\n",
    "s.append(1)\n",
    "print(s)\n",
    "s.append(2)\n",
    "print(s)\n",
    "s.pop()\n",
    "print(s)\n",
    "s.pop()\n",
    "print(s)"
   ]
  },
  {
   "cell_type": "code",
   "execution_count": 43,
   "id": "c35f296a",
   "metadata": {},
   "outputs": [
    {
     "name": "stdout",
     "output_type": "stream",
     "text": [
      "deque([1])\n",
      "deque([1, 2])\n",
      "deque([2])\n",
      "deque([])\n"
     ]
    }
   ],
   "source": [
    "q = deque ([])\n",
    "q.append(1)\n",
    "print(q)\n",
    "q.append(2)\n",
    "print(q)\n",
    "q.popleft()\n",
    "print(q)\n",
    "q.popleft()\n",
    "print(q)\n",
    "#少しだけ動作の速度が早くなる"
   ]
  },
  {
   "cell_type": "code",
   "execution_count": null,
   "id": "a3c87f83",
   "metadata": {},
   "outputs": [],
   "source": [
    "#全要素一桁の整数が格納されているリストを引数に指定したときに、全要素を連結した数値に１を足した整数を返すlist_to_int_plus_one関数を作成"
   ]
  },
  {
   "cell_type": "code",
   "execution_count": null,
   "id": "b23481e5",
   "metadata": {},
   "outputs": [],
   "source": [
    "nums1 = [1, 2, 3]\n",
    "nums2 = [1, 2, 9]\n",
    "nums3 = [1, 9, 9]\n",
    "nums4 = [0, 1, 9, 9]\n",
    "nums5 = [9, 9, 9, 9]\n",
    "nums6 = [0, 0, 0, 9, 9, 9, 9]\n",
    "\n",
    "for num in nums:\n",
    "    "
   ]
  }
 ],
 "metadata": {
  "kernelspec": {
   "display_name": "Python 3 (ipykernel)",
   "language": "python",
   "name": "python3"
  },
  "language_info": {
   "codemirror_mode": {
    "name": "ipython",
    "version": 3
   },
   "file_extension": ".py",
   "mimetype": "text/x-python",
   "name": "python",
   "nbconvert_exporter": "python",
   "pygments_lexer": "ipython3",
   "version": "3.10.9"
  }
 },
 "nbformat": 4,
 "nbformat_minor": 5
}
