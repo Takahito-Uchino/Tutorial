{
 "cells": [
  {
   "cell_type": "code",
   "execution_count": null,
   "id": "a34f57f9",
   "metadata": {},
   "outputs": [],
   "source": [
    "nums = [0, 1, 5, 7, 9, 11, 15, 20, 24]\n",
    "#binary_search(nums, 11) -> 5\n",
    "#binary_search(nums, 12) -> 'NotFound'\n",
    "def binary_search(nums, integer)\n",
    "    while left_index <= right_index:\n",
    "        if nums[len(nums) / 2] > integer:\n",
    "            nums = nums[:integer]\n",
    "        elif nums[len(nums)/2] < integer:\n",
    "            nums = nums[integer:]\n",
    "        else:\n",
    "            return left_index"
   ]
  },
  {
   "cell_type": "code",
   "execution_count": 17,
   "id": "d38598ef",
   "metadata": {},
   "outputs": [
    {
     "name": "stdout",
     "output_type": "stream",
     "text": [
      "5\n",
      "NotFound\n"
     ]
    }
   ],
   "source": [
    "nums = [0, 1, 5, 7, 9, 11, 15, 20, 24]\n",
    "\n",
    "def binary_search(nums, value):\n",
    "    left_index, right_index = 0, len(nums) - 1\n",
    "    while left_index <= right_index:\n",
    "        center_index = (left_index + right_index) // 2\n",
    "        if nums[center_index] == value:\n",
    "            return center_index\n",
    "        elif nums[center_index] < value:\n",
    "            left_index = center_index + 1\n",
    "        else:\n",
    "            right_index = center_index - 1\n",
    "    return 'NotFound'\n",
    "print(binary_search(nums, 11))\n",
    "print(binary_search(nums, 12))"
   ]
  },
  {
   "cell_type": "code",
   "execution_count": null,
   "id": "febad887",
   "metadata": {},
   "outputs": [],
   "source": []
  },
  {
   "cell_type": "code",
   "execution_count": null,
   "id": "14d88c3f",
   "metadata": {},
   "outputs": [],
   "source": []
  }
 ],
 "metadata": {
  "kernelspec": {
   "display_name": "Python 3 (ipykernel)",
   "language": "python",
   "name": "python3"
  },
  "language_info": {
   "codemirror_mode": {
    "name": "ipython",
    "version": 3
   },
   "file_extension": ".py",
   "mimetype": "text/x-python",
   "name": "python",
   "nbconvert_exporter": "python",
   "pygments_lexer": "ipython3",
   "version": "3.10.9"
  }
 },
 "nbformat": 4,
 "nbformat_minor": 5
}
