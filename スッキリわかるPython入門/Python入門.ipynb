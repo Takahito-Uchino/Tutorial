{
 "cells": [
  {
   "attachments": {},
   "cell_type": "markdown",
   "metadata": {},
   "source": [
    "# 第0章 ようこそPythonの世界へ"
   ]
  },
  {
   "attachments": {},
   "cell_type": "markdown",
   "metadata": {},
   "source": [
    "## 0.2 はじめてのプログラミング"
   ]
  },
  {
   "cell_type": "code",
   "execution_count": null,
   "metadata": {},
   "outputs": [],
   "source": [
    "print('Hello, World')"
   ]
  },
  {
   "cell_type": "code",
   "execution_count": null,
   "metadata": {},
   "outputs": [],
   "source": [
    "print('浅木薫、がんばります！！')"
   ]
  },
  {
   "cell_type": "code",
   "execution_count": null,
   "metadata": {},
   "outputs": [],
   "source": [
    "print('松田くん、かっこいい！ 最高！)"
   ]
  },
  {
   "cell_type": "code",
   "execution_count": null,
   "metadata": {},
   "outputs": [],
   "source": [
    "print('工藤 慎平')\n",
    "print('30歳')\n",
    "print('三度の飯より数学が好き')"
   ]
  },
  {
   "cell_type": "code",
   "execution_count": null,
   "metadata": {},
   "outputs": [],
   "source": [
    "\"\"\"\n",
    "自己紹介プログラム\n",
    "作成者： 工藤 慎平\n",
    "作成者： 20XX年XX月XX日\n",
    "\"\"\"\n",
    "\n",
    "# 名前と特技を表示\n",
    "print('僕の名前は工藤 慎平')\n",
    "print('三度の飯より数学が好き')"
   ]
  },
  {
   "attachments": {},
   "cell_type": "markdown",
   "metadata": {},
   "source": []
  },
  {
   "attachments": {},
   "cell_type": "markdown",
   "metadata": {},
   "source": [
    "# 第1章 変数とデータ型"
   ]
  },
  {
   "attachments": {},
   "cell_type": "markdown",
   "metadata": {},
   "source": [
    "## 1.1 式と演算"
   ]
  },
  {
   "cell_type": "code",
   "execution_count": null,
   "metadata": {},
   "outputs": [],
   "source": [
    "print(1)\n",
    "print(10)"
   ]
  },
  {
   "cell_type": "code",
   "execution_count": null,
   "metadata": {},
   "outputs": [],
   "source": [
    "print(1 + 1)\n",
    "print(10 - 2)"
   ]
  },
  {
   "cell_type": "code",
   "execution_count": null,
   "metadata": {},
   "outputs": [],
   "source": [
    "print('1' + '1')"
   ]
  },
  {
   "cell_type": "code",
   "execution_count": null,
   "metadata": {},
   "outputs": [],
   "source": [
    "print('Python' + 'の世界へようこそ')\n",
    "print('Pythonは' + 'とっても' * 3 + '楽しいですよ')"
   ]
  },
  {
   "cell_type": "code",
   "execution_count": null,
   "metadata": {},
   "outputs": [],
   "source": [
    "print('はじめまして松田です身体を動かすのが好きです')\n",
    "print('はじめまして\\n松田です\\n身体を動かすのが好きです')\n",
    "print('引用符には、\\'と\\\"があります')"
   ]
  },
  {
   "attachments": {},
   "cell_type": "markdown",
   "metadata": {},
   "source": []
  },
  {
   "attachments": {},
   "cell_type": "markdown",
   "metadata": {},
   "source": [
    "## 1.2 変数"
   ]
  },
  {
   "cell_type": "code",
   "execution_count": null,
   "metadata": {},
   "outputs": [],
   "source": [
    "print('半径は3cmの円の直径は、')\n",
    "print(3 * 2)\n",
    "print('その円は円周の長さは、直径X円周率で求まるため、')\n",
    "print(3 * 2 * 3.14)"
   ]
  },
  {
   "cell_type": "code",
   "execution_count": null,
   "metadata": {},
   "outputs": [],
   "source": [
    "name = '松田'\n",
    "age = 22\n",
    "print(name)\n",
    "print(age)"
   ]
  },
  {
   "cell_type": "code",
   "execution_count": null,
   "metadata": {},
   "outputs": [],
   "source": [
    "print('半径は3cmの円の直径は、')\n",
    "dia = 3 * 2\n",
    "print(dia)\n",
    "print('その円の円周の長さは、')\n",
    "print(dia * 3.14)"
   ]
  },
  {
   "cell_type": "code",
   "execution_count": null,
   "metadata": {},
   "outputs": [],
   "source": [
    "age = 20\n",
    "print('浅木の年齢は')\n",
    "print(age)\n",
    "age = 24\n",
    "print('うそ。本当は')\n",
    "print(age)"
   ]
  },
  {
   "cell_type": "code",
   "execution_count": null,
   "metadata": {},
   "outputs": [],
   "source": [
    "name, age = '浅木', 24"
   ]
  },
  {
   "cell_type": "code",
   "execution_count": null,
   "metadata": {},
   "outputs": [],
   "source": [
    "age = 24\n",
    "print('浅木先輩の今年の年齢は…')\n",
    "print(age)\n",
    "age + 1\n",
    "print('来年は…')\n",
    "print(age)\n",
    "age + 1\n",
    "print('再来年は…')\n",
    "print(age)"
   ]
  },
  {
   "cell_type": "code",
   "execution_count": null,
   "metadata": {},
   "outputs": [],
   "source": [
    "age = 24\n",
    "print('浅木先輩の今年の年齢は…')\n",
    "print(age)\n",
    "age = age + 1\n",
    "print('来年は…')\n",
    "print(age)\n",
    "age = age + 1\n",
    "print('再来年は…')\n",
    "print(age)"
   ]
  },
  {
   "cell_type": "code",
   "execution_count": null,
   "metadata": {},
   "outputs": [],
   "source": [
    "age += 1\n",
    "price *= 1.5"
   ]
  },
  {
   "cell_type": "code",
   "execution_count": null,
   "metadata": {},
   "outputs": [],
   "source": [
    "name = input('あなたの名前を入力してください >>')\n",
    "print('おお' + name + 'よ、そなたがくるのを待っておったぞ！')"
   ]
  },
  {
   "cell_type": "code",
   "execution_count": null,
   "metadata": {},
   "outputs": [],
   "source": [
    "price = input('料金を入力 >>')\n",
    "number = input('人数を入力 >>')\n",
    "payment = price / number\n",
    "print('お支払いは' + payment + '円です')"
   ]
  },
  {
   "attachments": {},
   "cell_type": "markdown",
   "metadata": {},
   "source": [
    "## 1.3 データ型"
   ]
  },
  {
   "cell_type": "code",
   "execution_count": null,
   "metadata": {},
   "outputs": [],
   "source": [
    "x = '松田'\n",
    "print(x)\n",
    "x = 23\n",
    "print(x)\n",
    "x = 175.6\n",
    "print(x)"
   ]
  },
  {
   "cell_type": "code",
   "execution_count": null,
   "metadata": {},
   "outputs": [],
   "source": [
    "x = 10\n",
    "print(type(x))"
   ]
  },
  {
   "cell_type": "code",
   "execution_count": null,
   "metadata": {},
   "outputs": [],
   "source": [
    "price = input('料金を入力 >>')\n",
    "print(type(price))"
   ]
  },
  {
   "cell_type": "code",
   "execution_count": null,
   "metadata": {},
   "outputs": [],
   "source": [
    "x = 3.14\n",
    "y = int(x)\n",
    "print(y)\n",
    "print(type(y))\n",
    "z = str(x)\n",
    "print(z)\n",
    "print(type(z))\n",
    "print(z * 2)"
   ]
  },
  {
   "cell_type": "code",
   "execution_count": null,
   "metadata": {},
   "outputs": [],
   "source": [
    "price = input('料金を入力 >>')\n",
    "price = int(price)\n",
    "number = input('人数を入力 >>')\n",
    "number = int(number)\n",
    "payment = price / number\n",
    "payment = int(payment)\n",
    "payment = str(payment)\n",
    "print('お支払いは' + payment + '円です')"
   ]
  },
  {
   "cell_type": "code",
   "execution_count": null,
   "metadata": {},
   "outputs": [],
   "source": [
    "name = '松田光太'\n",
    "age = 23\n",
    "height = 175.6\n",
    "print('私の名前は' + name + 'で、年齢は' + str(age) + '歳で、身長は' + str(height) + 'cmです。')"
   ]
  },
  {
   "cell_type": "code",
   "execution_count": null,
   "metadata": {},
   "outputs": [],
   "source": [
    "name = '松田光太'\n",
    "age = 23\n",
    "height = 175.6\n",
    "print('私の名前は{}で、年齢は{}歳で、身長は{}cmです'.format(name, age, height))"
   ]
  },
  {
   "cell_type": "code",
   "execution_count": null,
   "metadata": {},
   "outputs": [],
   "source": [
    "name = '松田光太'\n",
    "age = 23\n",
    "height = 175.6\n",
    "print(f'私の名前は{name}で、年齢は{age}歳で、身長は{height}cmです')"
   ]
  },
  {
   "cell_type": "code",
   "execution_count": null,
   "metadata": {},
   "outputs": [],
   "source": [
    "price = int(input('料金を入力 >>'))\n",
    "number = int(input('人数を入力 >>'))\n",
    "payment = int(price / number)\n",
    "print('お支払いは{}円です'.format(payment))"
   ]
  },
  {
   "attachments": {},
   "cell_type": "markdown",
   "metadata": {},
   "source": [
    "## 1.5 練習問題"
   ]
  },
  {
   "attachments": {},
   "cell_type": "markdown",
   "metadata": {},
   "source": [
    "### 練習 1-1"
   ]
  },
  {
   "attachments": {},
   "cell_type": "markdown",
   "metadata": {},
   "source": [
    "1. 2 + 10 * 5 -> 2 + 50 -> 52\n",
    "2. '7' * (3 + 4) -> '7' * 7 -> '7777777'\n",
    "3. 'version{}'.format(3 + 2 * 0.1 + 9 * 0.01) -> 'version{}'.format(3 + 0.2 + 0.09) -> 'version{}'.format(3.29) -> 'version3.29'\n",
    "4. 4 * 'num' + '回目のTypeError' -> 'numnumnumnum' + '回目のTypeError' -> 'numnumnumnum回目のTypeError' "
   ]
  },
  {
   "attachments": {},
   "cell_type": "markdown",
   "metadata": {},
   "source": [
    "### 練習 1-2"
   ]
  },
  {
   "attachments": {},
   "cell_type": "markdown",
   "metadata": {},
   "source": [
    "1. int\n",
    "2. エラー\n",
    "3. str\n",
    "4. float"
   ]
  },
  {
   "attachments": {},
   "cell_type": "markdown",
   "metadata": {},
   "source": [
    "### 練習 1-3"
   ]
  },
  {
   "cell_type": "code",
   "execution_count": null,
   "metadata": {},
   "outputs": [],
   "source": [
    "height = float(input('身長(cm)を入力してください >>')) / 100\n",
    "weight = float(input('体重(kg)を入力してください >>'))\n",
    "bmi = weight / height / height\n",
    "print(f'あなたのBMIは{bmi}です')"
   ]
  },
  {
   "attachments": {},
   "cell_type": "markdown",
   "metadata": {},
   "source": [
    "# 第2章 コレクション"
   ]
  },
  {
   "attachments": {},
   "cell_type": "markdown",
   "metadata": {},
   "source": [
    "## 2.1 データの集まり"
   ]
  },
  {
   "cell_type": "code",
   "execution_count": null,
   "metadata": {},
   "outputs": [],
   "source": [
    "network = 88\n",
    "database = 95\n",
    "security = 90\n",
    "total = network + database + security\n",
    "avg = total / 3\n",
    "print(f'合計点：{total}')\n",
    "print(f'平均点：{avg}')"
   ]
  },
  {
   "attachments": {},
   "cell_type": "markdown",
   "metadata": {},
   "source": [
    "## 2.2 リスト"
   ]
  },
  {
   "cell_type": "code",
   "execution_count": null,
   "metadata": {},
   "outputs": [],
   "source": [
    "member = ['工藤', '松田', '浅木']\n",
    "print(member)"
   ]
  },
  {
   "cell_type": "code",
   "execution_count": null,
   "metadata": {},
   "outputs": [],
   "source": [
    "print(member[0])"
   ]
  },
  {
   "cell_type": "code",
   "execution_count": null,
   "metadata": {},
   "outputs": [],
   "source": [
    "print(member[3])"
   ]
  },
  {
   "cell_type": "code",
   "execution_count": null,
   "metadata": {},
   "outputs": [],
   "source": [
    "scores = [88, 90, 95]\n",
    "total = scores[0] + scores[1] + scores[2]\n",
    "print(f'合計{total}点')"
   ]
  },
  {
   "cell_type": "code",
   "execution_count": null,
   "metadata": {},
   "outputs": [],
   "source": [
    "total = sum(scores)\n",
    "print(f'合計{total}点')"
   ]
  },
  {
   "cell_type": "code",
   "execution_count": null,
   "metadata": {},
   "outputs": [],
   "source": [
    "avg = total / len(scores)\n",
    "print(f'合計{total}点、平均{avg}点')"
   ]
  },
  {
   "cell_type": "code",
   "execution_count": null,
   "metadata": {},
   "outputs": [],
   "source": [
    "members = ['工藤', '松田', '浅木']\n",
    "members.append('菅原')\n",
    "members.append('湊')\n",
    "members.append('朝香')\n",
    "print(members)"
   ]
  },
  {
   "cell_type": "code",
   "execution_count": null,
   "metadata": {},
   "outputs": [],
   "source": [
    "members = ['工藤', '松田', '浅木']\n",
    "members.remove('松田')\n",
    "print(members)"
   ]
  },
  {
   "cell_type": "code",
   "execution_count": null,
   "metadata": {},
   "outputs": [],
   "source": [
    "members = ['工藤', '松田', '浅木']\n",
    "members[0] = '菅原'\n",
    "print(members)"
   ]
  },
  {
   "cell_type": "code",
   "execution_count": null,
   "metadata": {},
   "outputs": [],
   "source": [
    "a = [10, 20, 30, 40, 50]\n",
    "print(a[1: 3])\n",
    "print(a[2:])\n",
    "print(a[: 3])"
   ]
  },
  {
   "cell_type": "code",
   "execution_count": null,
   "metadata": {},
   "outputs": [],
   "source": [
    "print(a[-1])\n",
    "print(a[-2])"
   ]
  },
  {
   "attachments": {},
   "cell_type": "markdown",
   "metadata": {},
   "source": [
    "## 2.3 ディクショナリ"
   ]
  },
  {
   "cell_type": "code",
   "execution_count": null,
   "metadata": {},
   "outputs": [],
   "source": [
    "scores = {'network': 60, 'database': 80, 'security': 50}\n",
    "print(scores)"
   ]
  },
  {
   "cell_type": "code",
   "execution_count": null,
   "metadata": {},
   "outputs": [],
   "source": [
    "print(scores['database'])"
   ]
  },
  {
   "cell_type": "code",
   "execution_count": null,
   "metadata": {},
   "outputs": [],
   "source": [
    "scores['programming'] = 65\n",
    "scores['security'] = 55\n",
    "print(scores)"
   ]
  },
  {
   "cell_type": "code",
   "execution_count": null,
   "metadata": {},
   "outputs": [],
   "source": [
    "scores = {'network': 60, 'database': 80, 'security': 55}\n",
    "del scores['security']\n",
    "print(scores)"
   ]
  },
  {
   "cell_type": "code",
   "execution_count": null,
   "metadata": {},
   "outputs": [],
   "source": [
    "scores = {'network': 60, 'database': 80, 'security': 50}\n",
    "total = sum(scores.values())\n",
    "print(total)"
   ]
  },
  {
   "attachments": {},
   "cell_type": "markdown",
   "metadata": {},
   "source": [
    "## 2.4 タプルとセット"
   ]
  },
  {
   "cell_type": "code",
   "execution_count": null,
   "metadata": {},
   "outputs": [],
   "source": [
    "scores = (70, 80, 55)\n",
    "print(scores)\n",
    "print(scores[0])\n",
    "print(f'要素数は{len(scores)}')\n",
    "print(f'合計は{sum(scores)}')"
   ]
  },
  {
   "cell_type": "code",
   "execution_count": null,
   "metadata": {},
   "outputs": [],
   "source": [
    "scores[0] = 80"
   ]
  },
  {
   "cell_type": "code",
   "execution_count": null,
   "metadata": {},
   "outputs": [],
   "source": [
    "members = ['松田']\n",
    "scores = {'network': 82}\n",
    "print(type(members))\n",
    "print(type(scores))"
   ]
  },
  {
   "cell_type": "code",
   "execution_count": null,
   "metadata": {},
   "outputs": [],
   "source": [
    "members = ('松田')\n",
    "print(type(members))"
   ]
  },
  {
   "cell_type": "code",
   "execution_count": null,
   "metadata": {},
   "outputs": [],
   "source": [
    "members = ('松田', )\n",
    "print(type(members))"
   ]
  },
  {
   "cell_type": "code",
   "execution_count": null,
   "metadata": {},
   "outputs": [],
   "source": [
    "scores = {70, 80, 55, 80}\n",
    "scores.add(80)\n",
    "print(scores)\n",
    "print(f'要素数は{len(scores)}')\n",
    "print(f'合計は{sum(scores)}')"
   ]
  },
  {
   "attachments": {},
   "cell_type": "markdown",
   "metadata": {},
   "source": [
    "## 2.5 コレクションの応用"
   ]
  },
  {
   "cell_type": "code",
   "execution_count": null,
   "metadata": {},
   "outputs": [],
   "source": [
    "scores = {'network': 60, 'database': 80, 'security': 60}\n",
    "members = ['松田', '浅木', '工藤']\n",
    "print(tuple(members))\n",
    "print(list(scores))\n",
    "print(set(scores.values()))"
   ]
  },
  {
   "cell_type": "code",
   "execution_count": null,
   "metadata": {},
   "outputs": [],
   "source": [
    "matsuda_scores = {'network': 60, 'database': 80, 'security': 50}\n",
    "asagi_scores = {'network': 80, 'database': 75, 'security': 92}\n",
    "member_scores = {\n",
    "    '松田': matsuda_scores,\n",
    "    '浅木': asagi_scores\n",
    "}\n",
    "print(member_scores)"
   ]
  },
  {
   "cell_type": "code",
   "execution_count": null,
   "metadata": {},
   "outputs": [],
   "source": [
    "member_hobbies = {\n",
    "    '松田': {'SNS', '麻雀', '自転車'},\n",
    "    '浅木': {'麻雀', '食べ歩き', '数学', '数学', '数学'}\n",
    "}\n",
    "print(member_hobbies)\n",
    "print(member_hobbies['松田'])\n",
    "print(member_hobbies['浅木'])"
   ]
  },
  {
   "cell_type": "code",
   "execution_count": null,
   "metadata": {},
   "outputs": [],
   "source": [
    "a = [1, 2, 3]\n",
    "b = [4, 5, 6]\n",
    "c = [a, b]\n",
    "print(c)\n",
    "print(c[0])\n",
    "print(c[1][2])"
   ]
  },
  {
   "cell_type": "code",
   "execution_count": null,
   "metadata": {},
   "outputs": [],
   "source": [
    "common_hobbies = member_hobbies['松田'] & member_hobbies['浅木']\n",
    "print(common_hobbies)"
   ]
  },
  {
   "cell_type": "code",
   "execution_count": null,
   "metadata": {},
   "outputs": [],
   "source": [
    "A = {1, 2, 3, 4}\n",
    "B = {2, 3, 4, 5}\n",
    "print(A | B)\n",
    "print(A & B)\n",
    "print(A - B)\n",
    "print(A ^ B)"
   ]
  },
  {
   "attachments": {},
   "cell_type": "markdown",
   "metadata": {},
   "source": [
    "## 2.7 練習問題"
   ]
  },
  {
   "attachments": {},
   "cell_type": "markdown",
   "metadata": {},
   "source": [
    "### 練習 2-1"
   ]
  },
  {
   "attachments": {},
   "cell_type": "markdown",
   "metadata": {},
   "source": [
    "1. ディクショナリ\n",
    "2. リスト\n",
    "3. セット\n",
    "4. セット\n",
    "5. ディクショナリ"
   ]
  },
  {
   "cell_type": "code",
   "execution_count": null,
   "metadata": {},
   "outputs": [],
   "source": [
    "scores = []\n",
    "scores.append(int(input('国語の点数を入力してください >>')))\n",
    "scores.append(int(input('算数の点数を入力してください >>')))\n",
    "scores.append(int(input('理科の点数を入力してください >>')))\n",
    "scores.append(int(input('社会の点数を入力してください >>')))\n",
    "scores.append(int(input('英語の点数を入力してください >>')))\n",
    "print(f'合計点は{sum(scores)}で、平均点は{sum(scores) / len(scores)}')"
   ]
  },
  {
   "cell_type": "code",
   "execution_count": null,
   "metadata": {},
   "outputs": [],
   "source": [
    "player1 = {'読書', '昼寝', '映画鑑賞', '散歩', '料理'}\n",
    "player2 = {'テニス', '将棋', '料理', '読書', '旅行'}\n",
    "input('心の準備ができたらEnterキーを押してください')\n",
    "compatibility = len(player1 & player2) / len(player1 | player2)\n",
    "compatibility_rate = compatibility * 100\n",
    "print(f'相性度は{compatibility_rate}％です')"
   ]
  },
  {
   "attachments": {},
   "cell_type": "markdown",
   "metadata": {},
   "source": [
    "# 第３章 条件分岐"
   ]
  },
  {
   "attachments": {},
   "cell_type": "markdown",
   "metadata": {},
   "source": [
    "## 3.2 プログラムの流れ"
   ]
  },
  {
   "cell_type": "code",
   "execution_count": null,
   "metadata": {},
   "outputs": [],
   "source": [
    "name = input('あなたの名前を教えてください >>')\n",
    "print(f'{name}さん、こんにちは')\n",
    "food = input(f'{name}さんの好きな食べ物を教えてください >>')\n",
    "print(f'私も{food}が好きですよ')"
   ]
  },
  {
   "cell_type": "code",
   "execution_count": null,
   "metadata": {},
   "outputs": [],
   "source": [
    "name = input('あなたの名前を教えてください >>')\n",
    "print(f'{name}さん、こんにちは')\n",
    "food = input(f'{name}さんの好きな食べ物を教えてください >>')\n",
    "if food == 'カレー':\n",
    "    print('素敵です。カレーは最高ですよね！！')\n",
    "else:\n",
    "    print(f'私も{food}が好きですよ')"
   ]
  },
  {
   "cell_type": "code",
   "execution_count": null,
   "metadata": {},
   "outputs": [],
   "source": [
    "score = int(input('試験の点数を入力してください >>'))\n",
    "if score >= 60:\n",
    "    print('合格！\\nよく頑張りましたね')\n",
    "else:\n",
    "    print('残念ながら不合格です')\n",
    "print('追試を受けてください')"
   ]
  },
  {
   "attachments": {},
   "cell_type": "markdown",
   "metadata": {},
   "source": [
    "## 3.3 条件式"
   ]
  },
  {
   "cell_type": "code",
   "execution_count": null,
   "metadata": {},
   "outputs": [],
   "source": [
    "name = input('あなたの名前を教えてください >>')\n",
    "print(f'{name}さん、こんにちは')\n",
    "food = input(f'{name}さんの好きな食べ物を教えてください >>')\n",
    "if 'カレー' in food:\n",
    "    print('素敵です。カレーは最高ですよね！！')\n",
    "else:\n",
    "    print(f'私も{food}が好きですよ')"
   ]
  },
  {
   "cell_type": "code",
   "execution_count": null,
   "metadata": {},
   "outputs": [],
   "source": [
    "scores = [80, 100, 20, 60]\n",
    "if 100 in scores:\n",
    "    print('100点満点の試験があったんですね。おめでとう！')\n",
    "else:\n",
    "    print('次はどれか1つでも 100点満点をとろう')"
   ]
  },
  {
   "cell_type": "code",
   "execution_count": null,
   "metadata": {},
   "outputs": [],
   "source": [
    "scores = {'network': 60, 'database': 80, 'security': 50}\n",
    "key = input('追加する科目名を入力してください >>')\n",
    "if key in scores:\n",
    "    print('すでに登録済みです')\n",
    "else:\n",
    "    data = int(input('得点を入力してください >>'))\n",
    "    scores[key] = data\n",
    "print(scores)"
   ]
  },
  {
   "cell_type": "code",
   "execution_count": null,
   "metadata": {},
   "outputs": [],
   "source": [
    "name = '松田'\n",
    "if name < '浅木':\n",
    "    print('条件が成立')\n",
    "else:\n",
    "    print('条件が成立しない')"
   ]
  },
  {
   "cell_type": "code",
   "execution_count": null,
   "metadata": {},
   "outputs": [],
   "source": [
    "score = int(input('試験の点数を入力 >>'))\n",
    "print(score >= 60)"
   ]
  },
  {
   "attachments": {},
   "cell_type": "markdown",
   "metadata": {},
   "source": [
    "## 3.4 分岐構文のバリエーション"
   ]
  },
  {
   "cell_type": "code",
   "execution_count": null,
   "metadata": {},
   "outputs": [],
   "source": [
    "name = input('あなたの名前を教えてください >>')\n",
    "print(f'{name}さん、こんにちは')\n",
    "if name == '松田':\n",
    "    print('松田さんに会えて嬉しいです')\n",
    "food = input(f'{name}さんの好きな食べ物を教えてください >>')\n",
    "if 'カレー' in food:\n",
    "    print('素敵です。とにかくカレーは最高ですよね!!')\n",
    "else:\n",
    "    print(f'私も{food}が好きですよ')"
   ]
  },
  {
   "cell_type": "code",
   "execution_count": null,
   "metadata": {},
   "outputs": [],
   "source": [
    "score = int(input('試験の点数を入力してください >>'))\n",
    "if score < 0 or score > 100:\n",
    "    print('異常な点数です\\n入力し直してください')\n",
    "elif score >= 60:\n",
    "    print('合格!\\nよくがんばりましたね')\n",
    "else:\n",
    "    print('残念ながら不合格です\\n追試を受けてください')"
   ]
  },
  {
   "cell_type": "code",
   "execution_count": null,
   "metadata": {},
   "outputs": [],
   "source": [
    "print('すべての質問に y または n で答えてください')\n",
    "okane_aruka = input('お金に余裕はありますか? >>')\n",
    "if okane_aruka == 'y':\n",
    "    onaka_suiteruka = input('お腹がすごく空いていますか? >>')\n",
    "    nomitai_kibunka = input('ビールを飲みたいですか? >>')\n",
    "    if onaka_suiteruka == 'y' and nomitai_kibunka == 'y':\n",
    "        print('焼肉はいかがですか')\n",
    "    elif onaka_suiteruka == 'y':\n",
    "        print('カレーはいかがですか')\n",
    "    elif nomitai_kibunka == 'y':\n",
    "        print('焼き鳥はいかがですか')\n",
    "    else:\n",
    "        print('パスタはいかがですか')\n",
    "    yashoku_iruka = input('夜食は必要ですか？ >>')\n",
    "    if yashoku_iruka == 'y':\n",
    "        print('コンビニのチキンはいかがですか')\n",
    "else:\n",
    "    print('家で食べましょう')"
   ]
  },
  {
   "attachments": {},
   "cell_type": "markdown",
   "metadata": {},
   "source": [
    "## 3.6 練習問題"
   ]
  },
  {
   "attachments": {},
   "cell_type": "markdown",
   "metadata": {},
   "source": [
    "### 練習 3-1"
   ]
  },
  {
   "attachments": {},
   "cell_type": "markdown",
   "metadata": {},
   "source": [
    "1. priceの1.1倍が300000以下かどうか\n",
    "2. X\n",
    "3. gihuがkansaiに含まれるかどうか\n",
    "4. a足すbが60より大きくかつdayが3かどうか\n",
    "4. Falseかどうか"
   ]
  },
  {
   "cell_type": "code",
   "execution_count": null,
   "metadata": {},
   "outputs": [],
   "source": [
    "initial == 'K'\n",
    "point >= 80 and point < 256\n",
    "bmi < 20 or bmi > 25\n",
    "year % 4 == 0\n",
    "not(day in [28, 39, 31])"
   ]
  },
  {
   "cell_type": "code",
   "execution_count": null,
   "metadata": {},
   "outputs": [],
   "source": [
    "isError = False\n",
    "n = 80\n",
    "if isError == False and n < 100:\n",
    "    print(True)"
   ]
  },
  {
   "cell_type": "code",
   "execution_count": null,
   "metadata": {},
   "outputs": [],
   "source": [
    "number = int(input('数字を入力してください >>'))\n",
    "if number % 2 == 0:\n",
    "    print('Number is even')\n",
    "else:\n",
    "    print('Number is odd')"
   ]
  },
  {
   "cell_type": "code",
   "execution_count": null,
   "metadata": {},
   "outputs": [],
   "source": [
    "div = '偶数' if number % 2 == 0 else '奇数'\n",
    "print(f'{div}です')"
   ]
  },
  {
   "cell_type": "code",
   "execution_count": null,
   "metadata": {},
   "outputs": [],
   "source": [
    "response = input('挨拶してください >>')\n",
    "if response == 'こんにちは':\n",
    "    print('ようこそ!')\n",
    "elif response == '景気は?':\n",
    "    print('ぼちぼちです')\n",
    "elif response == 'さようなら':\n",
    "    print('お元気で!')\n",
    "else:\n",
    "    print('どうしました?')"
   ]
  },
  {
   "attachments": {},
   "cell_type": "markdown",
   "metadata": {},
   "source": [
    "1. 1, 3, 5, 7, 8, 10, 12\n",
    "    - 31日までありますね\n",
    "    - 年が明けてから\n",
    "    - month箇月が過ぎました\n",
    "2. 4, 6, 9, 11\n",
    "    - 30日までですね\n",
    "    - 年が明けてから\n",
    "    - month箇月が過ぎました\n",
    "3. 2\n",
    "    - 1年で一番寒い月ですね\n",
    "    - 年が明けてから\n",
    "    - 2箇月が過ぎました"
   ]
  },
  {
   "attachments": {},
   "cell_type": "markdown",
   "metadata": {},
   "source": [
    "# 第4章 繰り返し"
   ]
  },
  {
   "attachments": {},
   "cell_type": "markdown",
   "metadata": {},
   "source": [
    "## 4.1 繰り返しの基本構造"
   ]
  },
  {
   "cell_type": "code",
   "execution_count": null,
   "metadata": {},
   "outputs": [],
   "source": [
    "print('さあ、寝ようかしら')\n",
    "count = 0\n",
    "count += 1\n",
    "print(f'ひつじが{count}匹')\n",
    "count += 1\n",
    "print(f'ひつじが{count}匹')\n",
    "count += 1\n",
    "print(f'ひつじが{count}匹')\n",
    "print('おやすみなさい…')"
   ]
  },
  {
   "cell_type": "code",
   "execution_count": null,
   "metadata": {},
   "outputs": [],
   "source": [
    "count = 0\n",
    "while count < 3:\n",
    "    count += 1\n",
    "    print(f'ひつじは{count}匹')\n",
    "print('おやすみなさい…')"
   ]
  },
  {
   "cell_type": "code",
   "execution_count": null,
   "metadata": {},
   "outputs": [],
   "source": [
    "count = 0\n",
    "while count < 3:\n",
    "    print(f'ひつじは{count}匹')\n",
    "print('スヤスヤ…zzz')"
   ]
  },
  {
   "cell_type": "code",
   "execution_count": null,
   "metadata": {},
   "outputs": [],
   "source": [
    "is_awake = True\n",
    "count = 0\n",
    "while is_awake == True:\n",
    "    count += 1\n",
    "    print(f'ひつじが{count}匹…')\n",
    "    key = input('もう眠りそうですか? (y/n) >>')\n",
    "    if key == 'y':\n",
    "        is_awake = False\n",
    "print('おやすみなさい…')"
   ]
  },
  {
   "cell_type": "code",
   "execution_count": null,
   "metadata": {},
   "outputs": [],
   "source": [
    "count = 0\n",
    "student_num = int(input('学生の数を入力 >>'))\n",
    "score_list = list()\n",
    "while count < student_num:\n",
    "    count += 1\n",
    "    score = int(input(f'{count}人目の試験の得点を入力 >>'))\n",
    "    score_list.append(score)\n",
    "print(score_list)\n",
    "total = sum(score_list)\n",
    "print(f'平均点は{total / student_num}点です')"
   ]
  },
  {
   "cell_type": "code",
   "execution_count": null,
   "metadata": {},
   "outputs": [],
   "source": [
    "scores = [80, 20, 75, 60]\n",
    "count = 0\n",
    "while count < len(scores):\n",
    "    if scores[count] >= 60:\n",
    "        print('合格')\n",
    "    else:\n",
    "        print('不合格')\n",
    "    count += 1"
   ]
  },
  {
   "attachments": {},
   "cell_type": "markdown",
   "metadata": {},
   "source": [
    "## 4.2 for文"
   ]
  },
  {
   "cell_type": "code",
   "execution_count": null,
   "metadata": {},
   "outputs": [],
   "source": [
    "for data in scores:\n",
    "    if data >= 60:\n",
    "        print('合格')\n",
    "    else:\n",
    "        print('不合格')"
   ]
  },
  {
   "cell_type": "code",
   "execution_count": null,
   "metadata": {},
   "outputs": [],
   "source": [
    "for num in range(3):\n",
    "    print('Pythonは楽しい')"
   ]
  },
  {
   "attachments": {},
   "cell_type": "markdown",
   "metadata": {},
   "source": [
    "## 4.3 繰り返しの制御"
   ]
  },
  {
   "cell_type": "code",
   "execution_count": null,
   "metadata": {},
   "outputs": [],
   "source": [
    "ages = [28, 50, 8, 20, 78, 25, 22, 10, 27, 33]\n",
    "num = 5\n",
    "samples = list()\n",
    "for age in ages:\n",
    "    if age >= 20 and age < 30:\n",
    "        if len(samples) < num:\n",
    "            samples.append(age)\n",
    "print(samples)"
   ]
  },
  {
   "cell_type": "code",
   "execution_count": null,
   "metadata": {},
   "outputs": [],
   "source": [
    "ages = [28, 50, 8, 20, 78, 25, 22, 10, 27, 33]\n",
    "num = 5\n",
    "samples = list()\n",
    "for data in ages:\n",
    "    if data >= 20 and data < 30:\n",
    "        samples.append(data)\n",
    "        if len(samples) == num:\n",
    "            break\n",
    "print(samples)"
   ]
  },
  {
   "cell_type": "code",
   "execution_count": null,
   "metadata": {},
   "outputs": [],
   "source": [
    "ages = [28, 50, 'ひみつ', 20, 78, 25, 22, 10, '無回答', 33]\n",
    "samples = list()\n",
    "for data in ages:\n",
    "    if not isinstance(data, int):\n",
    "        continue\n",
    "    if data < 20 or data >= 30:\n",
    "        continue\n",
    "    samples.append(data)\n",
    "print(samples)"
   ]
  },
  {
   "attachments": {},
   "cell_type": "markdown",
   "metadata": {},
   "source": [
    "## 4.5 練習問題"
   ]
  },
  {
   "attachments": {},
   "cell_type": "markdown",
   "metadata": {},
   "source": [
    "### 練習 4-1"
   ]
  },
  {
   "attachments": {},
   "cell_type": "markdown",
   "metadata": {},
   "source": [
    "1. 5\n",
    "2. 5\n",
    "3. 5\n",
    "4. 5\n",
    "5. 5\n",
    "6. 5\n",
    "7. 4\n",
    "8. 5"
   ]
  },
  {
   "attachments": {},
   "cell_type": "markdown",
   "metadata": {},
   "source": [
    "### 練習 4-2"
   ]
  },
  {
   "cell_type": "code",
   "execution_count": 1,
   "metadata": {},
   "outputs": [
    {
     "name": "stdout",
     "output_type": "stream",
     "text": [
      "カレーを召し上がれ\n",
      "1皿のカレーを食べました\n",
      "2皿のカレーを食べました\n",
      "3皿のカレーを食べました\n",
      "ごちそうさまでした\n"
     ]
    }
   ],
   "source": [
    "count = 1\n",
    "answer = True\n",
    "print('カレーを召し上がれ')\n",
    "while answer == True:\n",
    "    print(f'{count}皿のカレーを食べました')\n",
    "    key = input('おかわりはいかがですか? (y/n) >>')\n",
    "    if key == 'y':\n",
    "        count += 1\n",
    "    else:\n",
    "        answer = False\n",
    "print('ごちそうさまでした')"
   ]
  },
  {
   "attachments": {},
   "cell_type": "markdown",
   "metadata": {},
   "source": [
    "### 練習 4-3"
   ]
  },
  {
   "cell_type": "code",
   "execution_count": 2,
   "metadata": {},
   "outputs": [
    {
     "name": "stdout",
     "output_type": "stream",
     "text": [
      "10、9、8、7、6、5、4、3、2、1、Lift off !\n"
     ]
    }
   ],
   "source": [
    "for i in range(10):\n",
    "    print(f'{10 - i}、', end='')\n",
    "print('Lift off !')"
   ]
  },
  {
   "attachments": {},
   "cell_type": "markdown",
   "metadata": {},
   "source": [
    "### 練習 4-4"
   ]
  },
  {
   "cell_type": "code",
   "execution_count": 3,
   "metadata": {},
   "outputs": [
    {
     "name": "stdout",
     "output_type": "stream",
     "text": [
      "1\n",
      "2\n",
      "3\n",
      "4\n",
      "5\n",
      "6\n",
      "7\n",
      "8\n",
      "9\n",
      "2\n",
      "4\n",
      "6\n",
      "8\n",
      "10\n",
      "12\n",
      "14\n",
      "16\n",
      "18\n",
      "3\n",
      "6\n",
      "9\n",
      "12\n",
      "15\n",
      "18\n",
      "21\n",
      "24\n",
      "27\n",
      "4\n",
      "8\n",
      "12\n",
      "16\n",
      "20\n",
      "24\n",
      "28\n",
      "32\n",
      "36\n",
      "5\n",
      "10\n",
      "15\n",
      "20\n",
      "25\n",
      "30\n",
      "35\n",
      "40\n",
      "45\n",
      "6\n",
      "12\n",
      "18\n",
      "24\n",
      "30\n",
      "36\n",
      "42\n",
      "48\n",
      "54\n",
      "7\n",
      "14\n",
      "21\n",
      "28\n",
      "35\n",
      "42\n",
      "49\n",
      "56\n",
      "63\n",
      "8\n",
      "16\n",
      "24\n",
      "32\n",
      "40\n",
      "48\n",
      "56\n",
      "64\n",
      "72\n",
      "9\n",
      "18\n",
      "27\n",
      "36\n",
      "45\n",
      "54\n",
      "63\n",
      "72\n",
      "81\n"
     ]
    }
   ],
   "source": [
    "for i in range(1, 10):\n",
    "    for j in range(1, 10):\n",
    "        print(i * j)"
   ]
  },
  {
   "cell_type": "code",
   "execution_count": 4,
   "metadata": {},
   "outputs": [
    {
     "name": "stdout",
     "output_type": "stream",
     "text": [
      "1\n",
      "2\n",
      "3\n",
      "4\n",
      "5\n",
      "6\n",
      "7\n",
      "8\n",
      "9\n",
      "3\n",
      "6\n",
      "9\n",
      "12\n",
      "15\n",
      "18\n",
      "21\n",
      "24\n",
      "27\n",
      "5\n",
      "10\n",
      "15\n",
      "20\n",
      "25\n",
      "30\n",
      "35\n",
      "40\n",
      "45\n",
      "7\n",
      "14\n",
      "21\n",
      "28\n",
      "35\n",
      "42\n",
      "49\n",
      "56\n",
      "63\n",
      "9\n",
      "18\n",
      "27\n",
      "36\n",
      "45\n",
      "54\n",
      "63\n",
      "72\n",
      "81\n"
     ]
    }
   ],
   "source": [
    "for i in range(1, 10):\n",
    "    if i % 2 == 0:\n",
    "        continue\n",
    "    for j in range(1, 10):\n",
    "        print(i * j)"
   ]
  },
  {
   "cell_type": "code",
   "execution_count": 6,
   "metadata": {},
   "outputs": [
    {
     "name": "stdout",
     "output_type": "stream",
     "text": [
      "1\n",
      "2\n",
      "3\n",
      "4\n",
      "5\n",
      "6\n",
      "7\n",
      "8\n",
      "9\n",
      "3\n",
      "6\n",
      "9\n",
      "12\n",
      "15\n",
      "18\n",
      "21\n",
      "24\n",
      "27\n",
      "5\n",
      "10\n",
      "15\n",
      "20\n",
      "25\n",
      "30\n",
      "35\n",
      "40\n",
      "45\n",
      "7\n",
      "14\n",
      "21\n",
      "28\n",
      "35\n",
      "42\n",
      "49\n",
      "9\n",
      "18\n",
      "27\n",
      "36\n",
      "45\n"
     ]
    }
   ],
   "source": [
    "for i in range(1, 10):\n",
    "    if i % 2 == 0:\n",
    "        continue\n",
    "    for j in range(1, 10):\n",
    "        if i * j > 50:\n",
    "            break\n",
    "        print(i * j)"
   ]
  },
  {
   "attachments": {},
   "cell_type": "markdown",
   "metadata": {},
   "source": [
    "### 練習 4-5"
   ]
  },
  {
   "cell_type": "code",
   "execution_count": 2,
   "metadata": {},
   "outputs": [
    {
     "name": "stdout",
     "output_type": "stream",
     "text": [
      "[7.8, 9.1, 10.2, 11.0, 12.5, 12.4, 14.3, 13.8, 12.9, 12.4]\n"
     ]
    }
   ],
   "source": [
    "temp = list()\n",
    "for i in range(10):\n",
    "    data = float(input('気温を入力 >>'))\n",
    "    temp.append(data)\n",
    "print(temp)"
   ]
  },
  {
   "cell_type": "code",
   "execution_count": 4,
   "metadata": {},
   "outputs": [
    {
     "name": "stdout",
     "output_type": "stream",
     "text": [
      "時刻:8 気温:7.8\n",
      "時刻:9 気温:9.1\n",
      "時刻:10 気温:10.2\n",
      "時刻:11 気温:11.0\n",
      "時刻:12 気温:12.5\n",
      "時刻:13 気温:12.4\n",
      "時刻:14 気温:14.3\n",
      "時刻:15 気温:13.8\n",
      "時刻:16 気温:12.9\n",
      "時刻:17 気温:12.4\n"
     ]
    }
   ],
   "source": [
    "for j in range(len(temp)):\n",
    "    print(f'時刻:{j + 8} 気温:{temp[j]}')"
   ]
  },
  {
   "cell_type": "code",
   "execution_count": 5,
   "metadata": {},
   "outputs": [
    {
     "name": "stdout",
     "output_type": "stream",
     "text": [
      "[7.8, 9.1, 10.2, 11.0, 12.5, 12.4, 14.3, 13.8, 12.9, 12.4]\n",
      "[7.8, 9.1, 10.2, 11.0, 12.5, 'N/A', 14.3, 13.8, 12.9, 12.4]\n"
     ]
    }
   ],
   "source": [
    "temp_new = list()\n",
    "for k in range(len(temp)):\n",
    "    if k != 5:\n",
    "        temp_new.append(temp[k])\n",
    "    else:\n",
    "        temp_new.append('N/A')\n",
    "print(temp)\n",
    "print(temp_new)"
   ]
  },
  {
   "cell_type": "code",
   "execution_count": 12,
   "metadata": {},
   "outputs": [
    {
     "name": "stdout",
     "output_type": "stream",
     "text": [
      "平均気温は11.555555555555555度です\n"
     ]
    }
   ],
   "source": [
    "total = 0\n",
    "for l in range(len(temp_new)):\n",
    "    if isinstance(temp_new[l], float):\n",
    "        total += temp_new[l]\n",
    "avg = total / (len(temp_new) - 1)\n",
    "print(f'平均気温は{avg}度です')"
   ]
  },
  {
   "attachments": {},
   "cell_type": "markdown",
   "metadata": {},
   "source": [
    "### 練習 4-6"
   ]
  },
  {
   "cell_type": "code",
   "execution_count": 24,
   "metadata": {},
   "outputs": [
    {
     "name": "stdout",
     "output_type": "stream",
     "text": [
      "[1, 1, 2, 3, 5, 8, 13, 21, 34, 55, 89, 144, 233, 377, 610, 987]\n"
     ]
    }
   ],
   "source": [
    "numbers = [1, 1]\n",
    "count = 1\n",
    "num = numbers[0] + numbers[1]\n",
    "while num < 1000:\n",
    "    numbers.append(num)\n",
    "    num = numbers[count] + numbers[count + 1]\n",
    "    count += 1\n",
    "print(numbers)\n"
   ]
  },
  {
   "cell_type": "code",
   "execution_count": 25,
   "metadata": {},
   "outputs": [
    {
     "name": "stdout",
     "output_type": "stream",
     "text": [
      "[1.0, 2.0, 1.5, 1.6666666666666667, 1.6, 1.625, 1.6153846153846154, 1.619047619047619, 1.6176470588235294, 1.6181818181818182, 1.6179775280898876, 1.6180555555555556, 1.6180257510729614, 1.6180371352785146, 1.618032786885246]\n"
     ]
    }
   ],
   "source": [
    "ratios = list()\n",
    "for i in range(len(numbers) - 1):\n",
    "    data = numbers[i + 1] / numbers[i]\n",
    "    ratios.append(data)\n",
    "print(ratios)\n"
   ]
  },
  {
   "cell_type": "code",
   "execution_count": 26,
   "metadata": {},
   "outputs": [
    {
     "name": "stdout",
     "output_type": "stream",
     "text": [
      "[1.0, 2.0, 1.5, 1.666, 1.6, 1.625, 1.615, 1.619, 1.617, 1.618, 1.617, 1.618, 1.618, 1.618, 1.618]\n"
     ]
    }
   ],
   "source": [
    "for j in range(len(ratios)):\n",
    "    count = int(ratios[j] * 1000)\n",
    "    count = count / 1000\n",
    "    ratios[j] = count\n",
    "print(ratios)"
   ]
  },
  {
   "attachments": {},
   "cell_type": "markdown",
   "metadata": {},
   "source": [
    "# 第5章 関数"
   ]
  },
  {
   "attachments": {},
   "cell_type": "markdown",
   "metadata": {},
   "source": [
    "## 5.1 オリジナルの関数"
   ]
  },
  {
   "cell_type": "code",
   "execution_count": 1,
   "metadata": {},
   "outputs": [
    {
     "name": "stdout",
     "output_type": "stream",
     "text": [
      "浅木さんの試験結果を入力してください\n",
      "松田さんの試験結果を入力してください\n",
      "浅木さんの平均点は90.0です\n",
      "松田さんの平均点は50.0です\n"
     ]
    }
   ],
   "source": [
    "student_list = ['浅木', '松田']\n",
    "for student in student_list:\n",
    "    print(f'{student}さんの試験結果を入力してください')\n",
    "    network = int(input('ネットワークの得点? >>'))\n",
    "    database = int(input('データベースの得点? >>'))\n",
    "    security = int(input('セキュリティの得点? >>'))\n",
    "    if student == '浅木':\n",
    "        asagi_scores = [network, database, security]\n",
    "        asagi_avg = sum(asagi_scores) / len(asagi_scores)\n",
    "    else:\n",
    "        matsuda_scores = [network, database, security]\n",
    "        mastuda_avg = sum(matsuda_scores) / len(matsuda_scores)\n",
    "print(f'浅木さんの平均点は{asagi_avg}です')\n",
    "print(f'松田さんの平均点は{mastuda_avg}です')"
   ]
  },
  {
   "cell_type": "code",
   "execution_count": 2,
   "metadata": {},
   "outputs": [],
   "source": [
    "def hello():\n",
    "    print('こんにちは。工藤です。')"
   ]
  },
  {
   "cell_type": "code",
   "execution_count": 3,
   "metadata": {},
   "outputs": [
    {
     "name": "stdout",
     "output_type": "stream",
     "text": [
      "こんにちは。工藤です。\n"
     ]
    }
   ],
   "source": [
    "hello()"
   ]
  },
  {
   "attachments": {},
   "cell_type": "markdown",
   "metadata": {},
   "source": [
    "## 5.2 引数と戻り値"
   ]
  },
  {
   "cell_type": "code",
   "execution_count": 4,
   "metadata": {},
   "outputs": [],
   "source": [
    "def hello(name):\n",
    "    print(f'こんにちは。{name}です。')"
   ]
  },
  {
   "cell_type": "code",
   "execution_count": 5,
   "metadata": {},
   "outputs": [
    {
     "name": "stdout",
     "output_type": "stream",
     "text": [
      "こんにちは。浅木です。\n",
      "こんにちは。松田です。\n"
     ]
    }
   ],
   "source": [
    "hello('浅木')\n",
    "hello('松田')"
   ]
  },
  {
   "cell_type": "code",
   "execution_count": 6,
   "metadata": {},
   "outputs": [],
   "source": [
    "def profile(name, age, hobby):\n",
    "    print(f'私の名前は{name}です。\\n年齢は{age}です。\\n趣味は{hobby}です。')"
   ]
  },
  {
   "cell_type": "code",
   "execution_count": 7,
   "metadata": {},
   "outputs": [
    {
     "name": "stdout",
     "output_type": "stream",
     "text": [
      "私の名前は浅木です。\n",
      "年齢は24です。\n",
      "趣味はカフェ巡りです。\n"
     ]
    }
   ],
   "source": [
    "profile('浅木', 24, 'カフェ巡り')"
   ]
  },
  {
   "cell_type": "code",
   "execution_count": 8,
   "metadata": {},
   "outputs": [],
   "source": [
    "def calc_average(scores):\n",
    "    avg = sum(scores) / len(scores)\n",
    "    print(f'平均点は{avg}です')"
   ]
  },
  {
   "cell_type": "code",
   "execution_count": 9,
   "metadata": {},
   "outputs": [],
   "source": [
    "def input_scores(name):\n",
    "    print(f'{name}さんの試験結果を入力してください')\n",
    "    network = int(input('ネットワークの得点? >>'))\n",
    "    database = int(input('データベースの得点? >>'))\n",
    "    security = int(input('セキュリティの得点? >>'))\n",
    "    scores = [network, database, security]"
   ]
  },
  {
   "cell_type": "code",
   "execution_count": 10,
   "metadata": {},
   "outputs": [
    {
     "name": "stdout",
     "output_type": "stream",
     "text": [
      "浅木さんの試験結果を入力してください\n"
     ]
    },
    {
     "ename": "NameError",
     "evalue": "name 'scores' is not defined",
     "output_type": "error",
     "traceback": [
      "\u001b[0;31m---------------------------------------------------------------------------\u001b[0m",
      "\u001b[0;31mNameError\u001b[0m                                 Traceback (most recent call last)",
      "Cell \u001b[0;32mIn[10], line 2\u001b[0m\n\u001b[1;32m      1\u001b[0m input_scores(\u001b[39m'\u001b[39m\u001b[39m浅木\u001b[39m\u001b[39m'\u001b[39m)\n\u001b[0;32m----> 2\u001b[0m calc_average(scores)\n",
      "\u001b[0;31mNameError\u001b[0m: name 'scores' is not defined"
     ]
    }
   ],
   "source": [
    "input_scores('浅木')\n",
    "calc_average(scores)"
   ]
  },
  {
   "cell_type": "code",
   "execution_count": 11,
   "metadata": {},
   "outputs": [],
   "source": [
    "def plus(x, y):\n",
    "    answer = x + y\n",
    "    return answer"
   ]
  },
  {
   "cell_type": "code",
   "execution_count": 13,
   "metadata": {},
   "outputs": [
    {
     "name": "stdout",
     "output_type": "stream",
     "text": [
      "足し算の答えは150です\n"
     ]
    }
   ],
   "source": [
    "answer = plus(100, 50)\n",
    "print(f'足し算の答えは{answer}です')"
   ]
  },
  {
   "cell_type": "code",
   "execution_count": 14,
   "metadata": {},
   "outputs": [],
   "source": [
    "def input_scores(name):\n",
    "    print(f'{name}さんの試験結果を入力してください')\n",
    "    network = int(input('ネットワークの得点? >>'))\n",
    "    database = int(input('データベースの得点? >>'))\n",
    "    security = int(input('セキュリティの得点? >>'))\n",
    "    scores = [network, database, security]\n",
    "    return scores\n",
    "\n",
    "def calc_average(scores):\n",
    "    avg = sum(scores) / len(scores)\n",
    "    return avg\n",
    "\n",
    "def output_result(name, avg):\n",
    "    print(f'{name}さんの平均点は{avg}です')"
   ]
  },
  {
   "cell_type": "code",
   "execution_count": 15,
   "metadata": {},
   "outputs": [
    {
     "name": "stdout",
     "output_type": "stream",
     "text": [
      "浅木さんの試験結果を入力してください\n",
      "松田さんの試験結果を入力してください\n",
      "浅木さんの平均点は10.0です\n",
      "松田さんの平均点は20.0です\n"
     ]
    }
   ],
   "source": [
    "asagi_scores = input_scores('浅木')\n",
    "matsuda_scores = input_scores('松田')\n",
    "\n",
    "asagi_avg = calc_average(asagi_scores)\n",
    "mastuda_avg = calc_average(matsuda_scores)\n",
    "\n",
    "output_result('浅木', asagi_avg)\n",
    "output_result('松田', mastuda_avg)"
   ]
  },
  {
   "attachments": {},
   "cell_type": "markdown",
   "metadata": {},
   "source": [
    "## 5.3 関数の応用テクニック"
   ]
  },
  {
   "cell_type": "code",
   "execution_count": 16,
   "metadata": {},
   "outputs": [],
   "source": [
    "def plus_and_minus(a, b):\n",
    "    return a + b, a - b\n",
    "\n",
    "next, prev = plus_and_minus(1978, 1)"
   ]
  },
  {
   "cell_type": "code",
   "execution_count": 18,
   "metadata": {},
   "outputs": [],
   "source": [
    "def eat(breakfast, lunch, dinner):\n",
    "    print(f'朝は{breakfast}を食べました\\n昼は{lunch}を食べました\\n晩は{dinner}を食べました')"
   ]
  },
  {
   "cell_type": "code",
   "execution_count": 19,
   "metadata": {},
   "outputs": [
    {
     "name": "stdout",
     "output_type": "stream",
     "text": [
      "8月1日\n",
      "朝はトーストを食べました\n",
      "昼はおにぎりを食べました\n",
      "晩はカレーを食べました\n",
      "8月2日\n",
      "朝は納豆ごはんを食べました\n",
      "昼はラーメンを食べました\n",
      "晩はカレーを食べました\n",
      "8月3日\n",
      "朝はバナナを食べました\n",
      "昼はそばを食べました\n",
      "晩は焼肉を食べました\n",
      "8月4日\n",
      "朝はサンドウィッチを食べました\n",
      "昼はしゅうまい弁当を食べました\n",
      "晩はカレーを食べました\n"
     ]
    }
   ],
   "source": [
    "print('8月1日')\n",
    "eat('トースト', 'おにぎり', 'カレー')\n",
    "print('8月2日')\n",
    "eat('納豆ごはん', 'ラーメン', 'カレー')\n",
    "print('8月3日')\n",
    "eat('バナナ', 'そば', '焼肉')\n",
    "print('8月4日')\n",
    "eat('サンドウィッチ', 'しゅうまい弁当', 'カレー')"
   ]
  },
  {
   "cell_type": "code",
   "execution_count": 20,
   "metadata": {},
   "outputs": [],
   "source": [
    "def eat(breakfast, lunch, dinner = 'カレー'):\n",
    "    print(f'朝は{breakfast}を食べました\\n昼は{lunch}を食べました\\n晩は{dinner}を食べました')"
   ]
  },
  {
   "cell_type": "code",
   "execution_count": 21,
   "metadata": {},
   "outputs": [
    {
     "name": "stdout",
     "output_type": "stream",
     "text": [
      "8月1日\n",
      "朝はトーストを食べました\n",
      "昼はおにぎりを食べました\n",
      "晩はカレーを食べました\n",
      "8月2日\n",
      "朝は納豆ごはんを食べました\n",
      "昼はラーメンを食べました\n",
      "晩はカレーを食べました\n",
      "8月3日\n",
      "朝はバナナを食べました\n",
      "昼はそばを食べました\n",
      "晩は焼肉を食べました\n",
      "8月4日\n",
      "朝はサンドウィッチを食べました\n",
      "昼はしゅうまい弁当を食べました\n",
      "晩はカレーを食べました\n"
     ]
    }
   ],
   "source": [
    "print('8月1日')\n",
    "eat('トースト', 'おにぎり')\n",
    "print('8月2日')\n",
    "eat('納豆ごはん', 'ラーメン')\n",
    "print('8月3日')\n",
    "eat('バナナ', 'そば', '焼肉')\n",
    "print('8月4日')\n",
    "eat('サンドウィッチ', 'しゅうまい弁当')"
   ]
  },
  {
   "cell_type": "code",
   "execution_count": 23,
   "metadata": {},
   "outputs": [],
   "source": [
    "def eat(breakfast, lunch = 'ラーメン', dinner = 'カレー'):\n",
    "    print(f'朝は{breakfast}を食べました\\n昼は{lunch}を食べました\\n晩は{dinner}を食べました')"
   ]
  },
  {
   "cell_type": "code",
   "execution_count": 24,
   "metadata": {},
   "outputs": [
    {
     "name": "stdout",
     "output_type": "stream",
     "text": [
      "朝は納豆ごはんを食べました\n",
      "昼はラーメンを食べました\n",
      "晩はカレーうどんを食べました\n",
      "朝は納豆ごはんを食べました\n",
      "昼はラーメンを食べました\n",
      "晩はカレーうどんを食べました\n",
      "朝は納豆ごはんを食べました\n",
      "昼はラーメンを食べました\n",
      "晩はカレーうどんを食べました\n"
     ]
    }
   ],
   "source": [
    "eat(breakfast = '納豆ごはん', dinner = 'カレーうどん')\n",
    "eat(dinner = 'カレーうどん', breakfast = '納豆ごはん')\n",
    "eat('納豆ごはん', dinner = 'カレーうどん')"
   ]
  },
  {
   "cell_type": "code",
   "execution_count": 25,
   "metadata": {},
   "outputs": [],
   "source": [
    "def eat(breakfast, lunch, dinner = 'カレー', desserts = ()):\n",
    "    print(f'朝は{breakfast}を食べました\\n昼は{lunch}を食べました\\n晩は{dinner}を食べました')\n",
    "    for d in desserts:\n",
    "        print(f'おやつに{d}を食べました')"
   ]
  },
  {
   "cell_type": "code",
   "execution_count": 26,
   "metadata": {},
   "outputs": [
    {
     "name": "stdout",
     "output_type": "stream",
     "text": [
      "朝はトーストを食べました\n",
      "昼はパスタを食べました\n",
      "晩はカレーを食べました\n",
      "おやつにアイスを食べました\n",
      "おやつにチョコを食べました\n",
      "おやつにパフェを食べました\n"
     ]
    }
   ],
   "source": [
    "eat('トースト', 'パスタ', 'カレー', ('アイス', 'チョコ', 'パフェ'))"
   ]
  },
  {
   "cell_type": "code",
   "execution_count": 27,
   "metadata": {},
   "outputs": [],
   "source": [
    "def eat(breakfast, lunch, dinner = 'カレー', *desserts):\n",
    "    print(f'朝は{breakfast}を食べました\\n昼は{lunch}を食べました\\n晩は{dinner}を食べました')\n",
    "    for d in desserts:\n",
    "        print(f'おやつに{d}を食べました')"
   ]
  },
  {
   "cell_type": "code",
   "execution_count": 28,
   "metadata": {},
   "outputs": [
    {
     "name": "stdout",
     "output_type": "stream",
     "text": [
      "朝はトーストを食べました\n",
      "昼はパスタを食べました\n",
      "晩はカレーを食べました\n",
      "おやつにアイスを食べました\n",
      "おやつにチョコを食べました\n",
      "おやつにパフェを食べました\n"
     ]
    }
   ],
   "source": [
    "eat('トースト', 'パスタ', 'カレー', 'アイス', 'チョコ', 'パフェ')"
   ]
  },
  {
   "cell_type": "code",
   "execution_count": 35,
   "metadata": {},
   "outputs": [],
   "source": [
    "def eat(**kwargs):\n",
    "    for key in kwargs:\n",
    "        print(f'{key}に{kwargs[key]}を食べました')"
   ]
  },
  {
   "cell_type": "code",
   "execution_count": 36,
   "metadata": {},
   "outputs": [
    {
     "name": "stdout",
     "output_type": "stream",
     "text": [
      "朝食に納豆を食べました\n",
      "遅めの昼食にパスタを食べました\n",
      "夕方のおやつにカレーパンを食べました\n"
     ]
    }
   ],
   "source": [
    "eat(朝食 = '納豆', 遅めの昼食 = 'パスタ', 夕方のおやつ = 'カレーパン')"
   ]
  },
  {
   "attachments": {},
   "cell_type": "markdown",
   "metadata": {},
   "source": [
    "## 5.4 独立性の破れ"
   ]
  },
  {
   "cell_type": "code",
   "execution_count": 37,
   "metadata": {},
   "outputs": [],
   "source": [
    "name = '松田'\n",
    "\n",
    "def hello():\n",
    "    print('こんにちは' + name + 'さん')"
   ]
  },
  {
   "cell_type": "code",
   "execution_count": 39,
   "metadata": {},
   "outputs": [
    {
     "name": "stdout",
     "output_type": "stream",
     "text": [
      "こんにちは松田さん\n"
     ]
    }
   ],
   "source": [
    "hello()"
   ]
  },
  {
   "cell_type": "code",
   "execution_count": 40,
   "metadata": {},
   "outputs": [],
   "source": [
    "name = '松田'\n",
    "\n",
    "def change_name():\n",
    "    name = '浅木'\n",
    "\n",
    "def hello():\n",
    "    print('こんにちは' + name + 'さん')"
   ]
  },
  {
   "cell_type": "code",
   "execution_count": 41,
   "metadata": {},
   "outputs": [
    {
     "name": "stdout",
     "output_type": "stream",
     "text": [
      "こんにちは松田さん\n"
     ]
    }
   ],
   "source": [
    "change_name()\n",
    "hello()"
   ]
  },
  {
   "cell_type": "code",
   "execution_count": 42,
   "metadata": {},
   "outputs": [],
   "source": [
    "name = '松田'\n",
    "\n",
    "def change_name():\n",
    "    global name\n",
    "    name = '浅木'\n",
    "\n",
    "def hello():\n",
    "    print('こんにちは' + name + 'さん')"
   ]
  },
  {
   "cell_type": "code",
   "execution_count": 43,
   "metadata": {},
   "outputs": [
    {
     "name": "stdout",
     "output_type": "stream",
     "text": [
      "こんにちは浅木さん\n"
     ]
    }
   ],
   "source": [
    "change_name()\n",
    "hello()"
   ]
  },
  {
   "attachments": {},
   "cell_type": "markdown",
   "metadata": {},
   "source": [
    "## 練習問題"
   ]
  },
  {
   "attachments": {},
   "cell_type": "markdown",
   "metadata": {},
   "source": [
    "### 練習 5-1"
   ]
  },
  {
   "attachments": {},
   "cell_type": "markdown",
   "metadata": {},
   "source": [
    "1. def weather(): なし\n",
    "2. def calc_circle_area(radius): float\n",
    "3. def nowstr(): str\n",
    "4. nowint(): int\n",
    "5. def is_leapyear(year): bool"
   ]
  },
  {
   "attachments": {},
   "cell_type": "markdown",
   "metadata": {},
   "source": [
    "### 練習 5-2"
   ]
  },
  {
   "cell_type": "code",
   "execution_count": 44,
   "metadata": {},
   "outputs": [],
   "source": [
    "def is_leapyear(year):\n",
    "    if year % 400 == 0:\n",
    "        return True\n",
    "    elif year % 4 == 0 and year * 100 != 0:\n",
    "        return True\n",
    "    else:\n",
    "        return False"
   ]
  },
  {
   "cell_type": "code",
   "execution_count": 45,
   "metadata": {},
   "outputs": [
    {
     "name": "stdout",
     "output_type": "stream",
     "text": [
      "西暦2023年は、うるう年ではありません\n"
     ]
    }
   ],
   "source": [
    "year = int(input('現在の西暦は何年? >>'))\n",
    "leap_year = is_leapyear(year)\n",
    "if leap_year == True:\n",
    "    print(f'西暦{year}年は、うるう年です')\n",
    "else:\n",
    "    print(f'西暦{year}年は、うるう年ではありません')"
   ]
  },
  {
   "attachments": {},
   "cell_type": "markdown",
   "metadata": {},
   "source": [
    "### 練習 5-3"
   ]
  },
  {
   "cell_type": "code",
   "execution_count": 46,
   "metadata": {},
   "outputs": [
    {
     "name": "stdout",
     "output_type": "stream",
     "text": [
      "行ってきます!\n",
      "ちょっと歩きます\n",
      "バスに乗ります\n",
      "走ります!\n",
      "ちょっと歩きます\n",
      "走ります!\n",
      "ちょっと歩きます\n",
      "ただいま\n"
     ]
    }
   ],
   "source": [
    "def take_bus():\n",
    "    print('バスに乗ります')\n",
    "\n",
    "def run():\n",
    "    print('走ります!')\n",
    "    walk()\n",
    "\n",
    "def walk():\n",
    "    print('ちょっと歩きます')\n",
    "\n",
    "print('行ってきます!')\n",
    "walk(); take_bus(); run(); run()\n",
    "print('ただいま')"
   ]
  },
  {
   "attachments": {},
   "cell_type": "markdown",
   "metadata": {},
   "source": [
    "### 練習 5-4"
   ]
  },
  {
   "attachments": {},
   "cell_type": "markdown",
   "metadata": {},
   "source": [
    "1. X 英語は入力しないで良い\n",
    "2. O\n",
    "3. X int型の80が渡される\n",
    "4. O\n",
    "5. O"
   ]
  },
  {
   "attachments": {},
   "cell_type": "markdown",
   "metadata": {},
   "source": [
    "### 練習 5-5"
   ]
  },
  {
   "cell_type": "code",
   "execution_count": 47,
   "metadata": {},
   "outputs": [
    {
     "name": "stdout",
     "output_type": "stream",
     "text": [
      "*** 支払額 ***\n",
      "1人あたり4000.0円(4)、幹事は4000.0円です\n"
     ]
    }
   ],
   "source": [
    "amount = int(input('支払総額を入力してください >>'))\n",
    "people = int(input('参加人数を入力してください >>'))\n",
    "\n",
    "dnum = amount / people\n",
    "pay = dnum // 100 * 100\n",
    "if dnum > pay:\n",
    "    pay = int(pay + 100)\n",
    "\n",
    "payorg = amount - pay * (people - 1)\n",
    "\n",
    "print('*** 支払額 ***')\n",
    "print(f'1人あたり{pay}円({people - 1})、幹事は{payorg}円です')"
   ]
  },
  {
   "cell_type": "code",
   "execution_count": 49,
   "metadata": {},
   "outputs": [],
   "source": [
    "def int_input(message):\n",
    "    return int(input(f'{message}を入力してください >>'))\n",
    "\n",
    "def calc_payment(amount, people = 2):\n",
    "    dnum = amount / people\n",
    "    pay = dnum // 100 * 100\n",
    "    if dnum > pay:\n",
    "        pay = int(pay + 100)\n",
    "    payorg = amount - pay * (people - 1)\n",
    "    return pay, payorg\n",
    "\n",
    "def show_payment(pay, payorg, people = 2):\n",
    "    print(f'*** 支払額 ***\\n1人あたり{pay}円({people - 1}人)、幹事は{payorg}円です')"
   ]
  },
  {
   "attachments": {},
   "cell_type": "markdown",
   "metadata": {},
   "source": [
    "# 第6章 オブジェクト"
   ]
  },
  {
   "attachments": {},
   "cell_type": "markdown",
   "metadata": {},
   "source": [
    "## 6.1 「値」の正体"
   ]
  },
  {
   "cell_type": "code",
   "execution_count": 50,
   "metadata": {},
   "outputs": [
    {
     "name": "stdout",
     "output_type": "stream",
     "text": [
      "3人目は工藤さん\n"
     ]
    }
   ],
   "source": [
    "tpl = '3人目は{}さん'\n",
    "names = ['松田', '浅木']\n",
    "names.append('工藤')\n",
    "message = tpl.format(names[2])\n",
    "print(message)"
   ]
  },
  {
   "cell_type": "code",
   "execution_count": 51,
   "metadata": {},
   "outputs": [
    {
     "name": "stdout",
     "output_type": "stream",
     "text": [
      "4\n"
     ]
    }
   ],
   "source": [
    "num = 10\n",
    "print(num.bit_length())\n",
    "names = ['松田', '浅木']\n",
    "names.append('工藤')"
   ]
  },
  {
   "cell_type": "code",
   "execution_count": 52,
   "metadata": {},
   "outputs": [
    {
     "name": "stdout",
     "output_type": "stream",
     "text": [
      "工藤さんはB型なので大吉です\n"
     ]
    }
   ],
   "source": [
    "userinfo = input('名前と血液型をカンマで区切って1行で入力 >>')\n",
    "[name, blood] = userinfo.split(',')\n",
    "blood = blood.upper().strip()\n",
    "print(f'{name}さんは{blood}型なので大吉です')"
   ]
  },
  {
   "attachments": {},
   "cell_type": "markdown",
   "metadata": {},
   "source": [
    "## 6.2 オブジェクトの設計図"
   ]
  },
  {
   "cell_type": "code",
   "execution_count": 53,
   "metadata": {},
   "outputs": [],
   "source": [
    "int_value1 = 0\n",
    "int_value2 = int()\n",
    "int_value3 = int(9)\n",
    "list_value1 = []\n",
    "list_value2 = list()\n",
    "list_value3 = list(('松田', '浅木'))"
   ]
  },
  {
   "cell_type": "code",
   "execution_count": 54,
   "metadata": {},
   "outputs": [
    {
     "name": "stdout",
     "output_type": "stream",
     "text": [
      "スッキリファンタジーXII ~金色の理想郷~\n",
      "松田は3時間寝た!\n",
      "松田のHPは現在103です\n"
     ]
    }
   ],
   "source": [
    "class Hero:\n",
    "    name = '松田'\n",
    "    hp = 100\n",
    "    def sleep(self, hours):\n",
    "        print(f'{self.name}は{hours}時間寝た!')\n",
    "        self.hp += hours\n",
    "\n",
    "print('スッキリファンタジーXII ~金色の理想郷~')\n",
    "h = Hero()\n",
    "h.sleep(3)\n",
    "print(f'{h.name}のHPは現在{h.hp}です')"
   ]
  },
  {
   "attachments": {},
   "cell_type": "markdown",
   "metadata": {},
   "source": [
    "## 6.3 オブジェクトの落とし穴"
   ]
  },
  {
   "cell_type": "code",
   "execution_count": 55,
   "metadata": {},
   "outputs": [
    {
     "name": "stdout",
     "output_type": "stream",
     "text": [
      "scores1のidentify: 4368519104\n",
      "scores2のidentify: 4368525056\n",
      "scores1とscores2は同じ内容です\n",
      "scores1とscores2は違う内容です\n"
     ]
    }
   ],
   "source": [
    "scores1 = [80, 40, 50]\n",
    "scores2 = [80, 40, 50]\n",
    "print(f'scores1のidentify: {id(scores1)}')\n",
    "print(f'scores2のidentify: {id(scores2)}')\n",
    "\n",
    "if scores1 == scores2:\n",
    "    print('scores1とscores2は同じ内容です')\n",
    "else:\n",
    "    print('scores1とscores2は違う内容です')\n",
    "\n",
    "if id(scores1) == id(scores2):\n",
    "    print('scores1とscores2は同じ内容です')\n",
    "else:\n",
    "    print('scores1とscores2は違う内容です')"
   ]
  },
  {
   "cell_type": "code",
   "execution_count": 56,
   "metadata": {},
   "outputs": [
    {
     "name": "stdout",
     "output_type": "stream",
     "text": [
      "scores1の先頭要素は80\n",
      "scores2の先頭要素は80\n",
      "変数scores2の中身を変数scores1に代入（コピー）します\n",
      "scores1の先頭要素を90に書き換えます\n",
      "90を代入したscores1の先頭要素は90\n",
      "90を代入していないscores2の先頭要素は90\n"
     ]
    }
   ],
   "source": [
    "scores1 = [80, 40, 50]\n",
    "scores2 = [80, 40, 50]\n",
    "print(f'scores1の先頭要素は{scores1[0]}')\n",
    "print(f'scores2の先頭要素は{scores2[0]}')\n",
    "\n",
    "print('変数scores2の中身を変数scores1に代入（コピー）します')\n",
    "scores1 = scores2\n",
    "\n",
    "print('scores1の先頭要素を90に書き換えます')\n",
    "scores1[0] = 90\n",
    "\n",
    "print(f'90を代入したscores1の先頭要素は{scores1[0]}')\n",
    "print(f'90を代入していないscores2の先頭要素は{scores2[0]}')"
   ]
  },
  {
   "cell_type": "code",
   "execution_count": 57,
   "metadata": {},
   "outputs": [
    {
     "name": "stdout",
     "output_type": "stream",
     "text": [
      "さん付け後:松田さん\n",
      "さん付け前:松田さん\n"
     ]
    }
   ],
   "source": [
    "def add_suffix(names):\n",
    "    for i in range(len(names)):\n",
    "        names[i] = names[i] + 'さん'\n",
    "    return names\n",
    "\n",
    "before_names = ['松田', '浅木', '工藤']\n",
    "after_names = add_suffix(before_names)\n",
    "print('さん付け後:' + after_names[0])\n",
    "print('さん付け前:' + before_names[0])"
   ]
  },
  {
   "cell_type": "code",
   "execution_count": 58,
   "metadata": {},
   "outputs": [
    {
     "name": "stdout",
     "output_type": "stream",
     "text": [
      "さん付け後:松田さん\n",
      "さん付け前:松田\n"
     ]
    }
   ],
   "source": [
    "def add_suffix(names):\n",
    "    for i in range(len(names)):\n",
    "        names[i] = names[i] + 'さん'\n",
    "    return names\n",
    "\n",
    "before_names = ['松田', '浅木', '工藤']\n",
    "copied_names = list()\n",
    "for n in before_names:\n",
    "    copied_names.append(n)\n",
    "after_names = add_suffix(copied_names)\n",
    "print('さん付け後:' + after_names[0])\n",
    "print('さん付け前:' + before_names[0])"
   ]
  },
  {
   "cell_type": "code",
   "execution_count": 60,
   "metadata": {},
   "outputs": [
    {
     "name": "stdout",
     "output_type": "stream",
     "text": [
      "さん付け後:松田さん\n",
      "さん付け前:松田\n"
     ]
    }
   ],
   "source": [
    "def add_suffix(name):\n",
    "    name = name + 'さん'\n",
    "    return name\n",
    "\n",
    "before_name = '松田'\n",
    "after_name = add_suffix(before_name)\n",
    "print('さん付け後:' + after_name)\n",
    "print('さん付け前:' + before_name)"
   ]
  },
  {
   "cell_type": "code",
   "execution_count": 61,
   "metadata": {},
   "outputs": [
    {
     "name": "stdout",
     "output_type": "stream",
     "text": [
      "変更前のlistのidentity: 4365202816\n",
      "変更後のlistのidentity: 4365202816\n",
      "変更前のstrのidentity: 4368420656\n",
      "変更後のstrのidentity: 4368419792\n"
     ]
    }
   ],
   "source": [
    "names = list()\n",
    "print(f'変更前のlistのidentity: {id(names)}')\n",
    "names.append('松田')\n",
    "print(f'変更後のlistのidentity: {id(names)}')\n",
    "\n",
    "name = '松田'\n",
    "print(f'変更前のstrのidentity: {id(name)}')\n",
    "name = 'スーパー' + name\n",
    "print(f'変更後のstrのidentity: {id(name)}')"
   ]
  },
  {
   "attachments": {},
   "cell_type": "markdown",
   "metadata": {},
   "source": [
    "## 6.5 練習問題"
   ]
  },
  {
   "attachments": {},
   "cell_type": "markdown",
   "metadata": {},
   "source": [
    "### 練習 6-1"
   ]
  },
  {
   "attachments": {},
   "cell_type": "markdown",
   "metadata": {},
   "source": [
    "a. str 不変\n",
    "b. list 可変\n",
    "c. MyClass 可変"
   ]
  },
  {
   "attachments": {},
   "cell_type": "markdown",
   "metadata": {},
   "source": [
    "### 練習 6-2"
   ]
  },
  {
   "cell_type": "code",
   "execution_count": 62,
   "metadata": {},
   "outputs": [
    {
     "name": "stdout",
     "output_type": "stream",
     "text": [
      "True\n",
      "False\n",
      "XYZ\n"
     ]
    }
   ],
   "source": [
    "x = ['ABC']\n",
    "y = [input()]\n",
    "print(x[0] == y[0])\n",
    "print(id(x[0]) == id(y[0]))\n",
    "y = x\n",
    "y[0] = 'XYZ'\n",
    "print(x[0])"
   ]
  },
  {
   "attachments": {},
   "cell_type": "markdown",
   "metadata": {},
   "source": [
    "### 練習 6-3"
   ]
  },
  {
   "cell_type": "code",
   "execution_count": 65,
   "metadata": {},
   "outputs": [
    {
     "name": "stdout",
     "output_type": "stream",
     "text": [
      "ようこそ内野さん\n",
      "あなたは来年27歳だから大吉です!\n",
      "26歳の内野さん、またプレイしてくださいね\n"
     ]
    }
   ],
   "source": [
    "def welcome(u):\n",
    "    print(f'ようこそ{u[\"name\"]}さん')\n",
    "    u['age'] = u['age'] + 1\n",
    "    print(f'あなたは来年{u[\"age\"]}歳だから大吉です!')\n",
    "\n",
    "username = input('名前を入力してください >>')\n",
    "userage = int(input('年齢を入力してください >>'))\n",
    "user = {'name': username, 'age': userage}\n",
    "user_copied = user.copy()\n",
    "welcome(user_copied)\n",
    "print(f'{user[\"age\"]}歳の{user[\"name\"]}さん、またプレイしてくださいね')"
   ]
  },
  {
   "attachments": {},
   "cell_type": "markdown",
   "metadata": {},
   "source": [
    "現在の年齢がプラス1されている\n",
    "防御的コピーを行う"
   ]
  },
  {
   "attachments": {},
   "cell_type": "markdown",
   "metadata": {},
   "source": [
    "# 第7章 モジュール"
   ]
  },
  {
   "attachments": {},
   "cell_type": "markdown",
   "metadata": {},
   "source": [
    "## 7.2 組み込み関数"
   ]
  },
  {
   "cell_type": "code",
   "execution_count": 68,
   "metadata": {},
   "outputs": [],
   "source": [
    "text = input('何を記録しますか? >>')\n",
    "file = open('diary.txt', 'a')\n",
    "file.write(text + '\\n')\n",
    "file.close()"
   ]
  },
  {
   "cell_type": "code",
   "execution_count": 69,
   "metadata": {},
   "outputs": [],
   "source": [
    "text = input('今日は何をした? >>')\n",
    "with open('diary.txt', 'a') as file:\n",
    "    file.write(text + '\\n')"
   ]
  },
  {
   "attachments": {},
   "cell_type": "markdown",
   "metadata": {},
   "source": [
    "## 7.3 モジュールの利用"
   ]
  },
  {
   "cell_type": "code",
   "execution_count": 71,
   "metadata": {},
   "outputs": [
    {
     "name": "stdout",
     "output_type": "stream",
     "text": [
      "円周率は3.141592653589793です\n",
      "小数点以下を切り捨てれば3です\n",
      "小数点以下を切り上げれば4です\n"
     ]
    }
   ],
   "source": [
    "import math\n",
    "print(f'円周率は{math.pi}です')\n",
    "print(f'小数点以下を切り捨てれば{math.floor(math.pi)}です')\n",
    "print(f'小数点以下を切り上げれば{math.ceil(math.pi)}です')"
   ]
  },
  {
   "cell_type": "code",
   "execution_count": 73,
   "metadata": {},
   "outputs": [
    {
     "name": "stdout",
     "output_type": "stream",
     "text": [
      "円周率は3.141592653589793です\n",
      "小数点以下を切り捨てれば3です\n",
      "小数点以下を切り上げれば4です\n"
     ]
    }
   ],
   "source": [
    "import math as m\n",
    "print(f'円周率は{m.pi}です')\n",
    "print(f'小数点以下を切り捨てれば{m.floor(m.pi)}です')\n",
    "print(f'小数点以下を切り上げれば{m.ceil(m.pi)}です')"
   ]
  },
  {
   "cell_type": "code",
   "execution_count": 74,
   "metadata": {},
   "outputs": [
    {
     "name": "stdout",
     "output_type": "stream",
     "text": [
      "円周率は3.141592653589793\n",
      "小数点以下を切り捨てれば3です\n"
     ]
    }
   ],
   "source": [
    "from math import pi, floor\n",
    "print(f'円周率は{pi}')\n",
    "print(f'小数点以下を切り捨てれば{floor(pi)}です')"
   ]
  },
  {
   "cell_type": "code",
   "execution_count": 75,
   "metadata": {},
   "outputs": [
    {
     "name": "stdout",
     "output_type": "stream",
     "text": [
      "10を記録します\n"
     ]
    }
   ],
   "source": [
    "from math import log\n",
    "def log(msg):\n",
    "    print(f'{msg}を記録します')\n",
    "\n",
    "log(10)"
   ]
  },
  {
   "cell_type": "code",
   "execution_count": 76,
   "metadata": {},
   "outputs": [
    {
     "name": "stdout",
     "output_type": "stream",
     "text": [
      "円周率は3.141592653589793\n",
      "小数点以下を切り捨てれば3です\n"
     ]
    }
   ],
   "source": [
    "from math import pi as ensyuritsu\n",
    "from math import floor as kirisute\n",
    "print(f'円周率は{ensyuritsu}')\n",
    "print(f'小数点以下を切り捨てれば{kirisute(ensyuritsu)}です')"
   ]
  },
  {
   "cell_type": "code",
   "execution_count": 77,
   "metadata": {},
   "outputs": [
    {
     "name": "stdout",
     "output_type": "stream",
     "text": [
      "円周率は3.141592653589793\n",
      "小数点以下を切り捨てれば3です\n",
      "小数点以下を切り上げれば4です\n"
     ]
    }
   ],
   "source": [
    "from math import *\n",
    "print(f'円周率は{pi}')\n",
    "print(f'小数点以下を切り捨てれば{floor(pi)}です')\n",
    "print(f'小数点以下を切り上げれば{ceil(pi)}です')"
   ]
  },
  {
   "attachments": {},
   "cell_type": "markdown",
   "metadata": {},
   "source": [
    "## 7.4 パッケージの利用"
   ]
  },
  {
   "cell_type": "code",
   "execution_count": 78,
   "metadata": {},
   "outputs": [],
   "source": [
    "import http.client\n",
    "conn = http.client.HTTPConnection('www.python.org')"
   ]
  },
  {
   "cell_type": "code",
   "execution_count": 79,
   "metadata": {},
   "outputs": [],
   "source": [
    "from http import client\n",
    "conn = client.HTTPConnection('www.python.org')"
   ]
  },
  {
   "cell_type": "code",
   "execution_count": 80,
   "metadata": {},
   "outputs": [],
   "source": [
    "from http.client import HTTPConnection\n",
    "conn = HTTPConnection('www.python.org')"
   ]
  },
  {
   "attachments": {},
   "cell_type": "markdown",
   "metadata": {},
   "source": [
    "## 7.5 外部ライブラリの利用"
   ]
  },
  {
   "cell_type": "code",
   "execution_count": 81,
   "metadata": {},
   "outputs": [
    {
     "data": {
      "text/plain": [
       "[<matplotlib.lines.Line2D at 0x1077fac50>]"
      ]
     },
     "execution_count": 81,
     "metadata": {},
     "output_type": "execute_result"
    },
    {
     "data": {
      "image/png": "[encoded data removed]",
      "text/plain": [
       "<Figure size 640x480 with 1 Axes>"
      ]
     },
     "metadata": {},
     "output_type": "display_data"
    }
   ],
   "source": [
    "%matplotlib inline\n",
    "import matplotlib.pyplot as plt\n",
    "weight = [68.4, 68.0, 69.5, 68.4, 68.6, 70.2, 71.4, 70.8, 68.5, 68.6, 68.3, 68.4]\n",
    "plt.plot(weight)"
   ]
  },
  {
   "cell_type": "code",
   "execution_count": 82,
   "metadata": {},
   "outputs": [
    {
     "name": "stdout",
     "output_type": "stream",
     "text": [
      "<!doctype html>\n",
      "<!--[if lt IE 7]>   <html class=\"no-js ie6 lt-ie7 lt-ie8 lt-ie9\">   <![endif]-->\n",
      "<!--[if IE 7]>      <html class=\"no-js ie7 lt-ie8 lt-ie9\">          <![endif]-->\n",
      "<!--[if IE 8]>      <html class=\"no-js ie8 lt-ie9\">                 <![endif]-->\n",
      "<!--[if gt IE 8]><!--><html class=\"no-js\" lang=\"en\" dir=\"ltr\">  <!--<![endif]-->\n",
      "\n",
      "<head>\n",
      "    <!-- Google tag (gtag.js) -->\n",
      "    <script async src=\"https://www.googletagmanager.com/gtag/js?id=G-TF35YF9CVH\"></script>\n",
      "    <script>\n",
      "      window.dataLayer = window.dataLayer || [];\n",
      "      function gtag(){dataLayer.push(arguments);}\n",
      "      gtag('js', new Date());\n",
      "      gtag('config', 'G-TF35YF9CVH');\n",
      "    </script>\n",
      "\n",
      "    <meta charset=\"utf-8\">\n",
      "    <meta http-equiv=\"X-UA-Compatible\" content=\"IE=edge\">\n",
      "\n",
      "    <link rel=\"prefetch\" href=\"//ajax.googleapis.com/ajax/libs/jquery/1.8.2/jquery.min.js\">\n",
      "    <link rel=\"prefetch\" href=\"//ajax.googleapis.com/ajax/libs/jqueryui/1.12.1/jquery-ui.min.js\">\n",
      "\n",
      "    <meta name=\"application-name\" content=\"Python.org\">\n",
      "    <meta name=\"msapplication-tooltip\" content=\"The official home of the Python Programming Language\">\n",
      "    <meta name=\"apple-mobile-web-app-title\" content=\"Python.org\">\n",
      "    <meta name=\"apple-mobile-web-app-capable\" content=\"yes\">\n",
      "    <meta name=\"apple-mobile-web-app-status-bar-style\" content=\"black\">\n",
      "\n",
      "    <meta name=\"viewport\" content=\"width=device-width, initial-scale=1.0\">\n",
      "    <meta name=\"HandheldFriendly\" content=\"True\">\n",
      "    <meta name=\"format-detection\" content=\"telephone=no\">\n",
      "    <meta http-equiv=\"cleartype\" content=\"on\">\n",
      "    <meta http-equiv=\"imagetoolbar\" content=\"false\">\n",
      "\n",
      "    <script async\n",
      "            src=\"https://media.ethicalads.io/media/client/v1.4.0/ethicalads.min.js\"\n",
      "            integrity=\"sha256-U3hKDidudIaxBDEzwGJApJgPEf2mWk6cfMWghrAa6i0= sha384-UcmsCqcNRSLW/dV3Lo1oCi2/VaurXbib6p4HyUEOeIa/4OpsrnucrugAefzVZJfI sha512-q4t1L4xEjGV2R4hzqCa41P8jrgFUS8xTb8rdNv4FGvw7FpydVj/kkxBJHOiaoxHa8olCcx1Slk9K+3sNbsM4ug==\"\n",
      "            crossorigin=\"anonymous\"\n",
      "    ></script>\n",
      "    <script src=\"/static/js/libs/modernizr.js\"></script>\n",
      "\n",
      "    <link href=\"/static/stylesheets/style.2135bffe4dde.css\" rel=\"stylesheet\" type=\"text/css\" media=\"all\" title=\"default\" />\n",
      "    <link href=\"/static/stylesheets/mq.f9187444a4a1.css\" rel=\"stylesheet\" type=\"text/css\" media=\"not print, braille, embossed, speech, tty\" />\n",
      "    \n",
      "\n",
      "    <!--[if (lte IE 8)&(!IEMobile)]>\n",
      "    <link href=\"/static/stylesheets/no-mq.bf0c425cdb73.css\" rel=\"stylesheet\" type=\"text/css\" media=\"screen\" />\n",
      "    \n",
      "    \n",
      "    <![endif]-->\n",
      "    <link rel=\"stylesheet\" href=\"//ajax.googleapis.com/ajax/libs/jqueryui/1.12.1/themes/smoothness/jquery-ui.css\">\n",
      "\n",
      "    \n",
      "    <link rel=\"icon\" type=\"image/x-icon\" href=\"/static/favicon.ico\">\n",
      "    <link rel=\"apple-touch-icon-precomposed\" sizes=\"144x144\" href=\"/static/apple-touch-icon-144x144-precomposed.png\">\n",
      "    <link rel=\"apple-touch-icon-precomposed\" sizes=\"114x114\" href=\"/static/apple-touch-icon-114x114-precomposed.png\">\n",
      "    <link rel=\"apple-touch-icon-precomposed\" sizes=\"72x72\" href=\"/static/apple-touch-icon-72x72-precomposed.png\">\n",
      "    <link rel=\"apple-touch-icon-precomposed\" href=\"/static/apple-touch-icon-precomposed.png\">\n",
      "    <link rel=\"apple-touch-icon\" href=\"/static/apple-touch-icon-precomposed.png\">\n",
      "\n",
      "    \n",
      "    <meta name=\"msapplication-TileImage\" content=\"/static/metro-icon-144x144-precomposed.png\"><!-- white shape -->\n",
      "    <meta name=\"msapplication-TileColor\" content=\"#3673a5\"><!-- python blue -->\n",
      "    <meta name=\"msapplication-navbutton-color\" content=\"#3673a5\">\n",
      "\n",
      "    <title>Download Python | Python.org</title>\n",
      "\n",
      "    <meta name=\"description\" content=\"The official home of the Python Programming Language\">\n",
      "    <meta name=\"keywords\" content=\"Python programming language object oriented web free open source software license documentation download community\">\n",
      "\n",
      "    \n",
      "    <meta property=\"og:type\" content=\"website\">\n",
      "    <meta property=\"og:site_name\" content=\"Python.org\">\n",
      "    <meta property=\"og:title\" content=\"Download Python\">\n",
      "    <meta property=\"og:description\" content=\"The official home of the Python Programming Language\">\n",
      "    \n",
      "    <meta property=\"og:image\" content=\"https://www.python.org/static/opengraph-icon-200x200.png\">\n",
      "    <meta property=\"og:image:secure_url\" content=\"https://www.python.org/static/opengraph-icon-200x200.png\">\n",
      "    \n",
      "    <meta property=\"og:url\" content=\"https://www.python.org/downloads/\">\n",
      "\n",
      "    <link rel=\"author\" href=\"/humans.txt\">\n",
      "\n",
      "    <link rel=\"alternate\" type=\"application/rss+xml\" title=\"Python Enhancement Proposals\"\n",
      "          href=\"https://www.python.org/dev/peps/peps.rss/\">\n",
      "    <link rel=\"alternate\" type=\"application/rss+xml\" title=\"Python Job Opportunities\"\n",
      "          href=\"https://www.python.org/jobs/feed/rss/\">\n",
      "    <link rel=\"alternate\" type=\"application/rss+xml\" title=\"Python Software Foundation News\"\n",
      "          href=\"https://feeds.feedburner.com/PythonSoftwareFoundationNews\">\n",
      "    <link rel=\"alternate\" type=\"application/rss+xml\" title=\"Python Insider\"\n",
      "          href=\"https://feeds.feedburner.com/PythonInsider\">\n",
      "\n",
      "    \n",
      "\n",
      "    \n",
      "    <script type=\"application/ld+json\">\n",
      "     {\n",
      "       \"@context\": \"https://schema.org\",\n",
      "       \"@type\": \"WebSite\",\n",
      "       \"url\": \"https://www.python.org/\",\n",
      "       \"potentialAction\": {\n",
      "         \"@type\": \"SearchAction\",\n",
      "         \"target\": \"https://www.python.org/search/?q={search_term_string}\",\n",
      "         \"query-input\": \"required name=search_term_string\"\n",
      "       }\n",
      "     }\n",
      "    </script>\n",
      "\n",
      "    \n",
      "    <script type=\"text/javascript\">\n",
      "    var _gaq = _gaq || [];\n",
      "    _gaq.push(['_setAccount', 'UA-39055973-1']);\n",
      "    _gaq.push(['_trackPageview']);\n",
      "\n",
      "    (function() {\n",
      "        var ga = document.createElement('script'); ga.type = 'text/javascript'; ga.async = true;\n",
      "        ga.src = ('https:' == document.location.protocol ? 'https://ssl' : 'http://www') + '.google-analytics.com/ga.js';\n",
      "        var s = document.getElementsByTagName('script')[0]; s.parentNode.insertBefore(ga, s);\n",
      "    })();\n",
      "    </script>\n",
      "    \n",
      "</head>\n",
      "\n",
      "<body class=\"python download\">\n",
      "\n",
      "    <div id=\"touchnav-wrapper\">\n",
      "\n",
      "        <div id=\"nojs\" class=\"do-not-print\">\n",
      "            <p><strong>Notice:</strong> While JavaScript is not essential for this website, your interaction with the content will be limited. Please turn JavaScript on for the full experience. </p>\n",
      "        </div>\n",
      "\n",
      "        <!--[if lte IE 8]>\n",
      "        <div id=\"oldie-warning\" class=\"do-not-print\">\n",
      "            <p>\n",
      "                <strong>Notice:</strong> Your browser is <em>ancient</em>. Please\n",
      "                <a href=\"http://browsehappy.com/\">upgrade to a different browser</a> to experience a better web.\n",
      "            </p>\n",
      "        </div>\n",
      "        <![endif]-->\n",
      "\n",
      "        <!-- Sister Site Links -->\n",
      "        <div id=\"top\" class=\"top-bar do-not-print\">\n",
      "\n",
      "            <nav class=\"meta-navigation container\" role=\"navigation\">\n",
      "\n",
      "                \n",
      "                <div class=\"skip-link screen-reader-text\">\n",
      "                    <a href=\"#content\" title=\"Skip to content\">Skip to content</a>\n",
      "                </div>\n",
      "\n",
      "                \n",
      "                <a id=\"close-python-network\" class=\"jump-link\" href=\"#python-network\" aria-hidden=\"true\">\n",
      "                    <span aria-hidden=\"true\" class=\"icon-arrow-down\"><span>&#9660;</span></span> Close\n",
      "                </a>\n",
      "\n",
      "                \n",
      "\n",
      "<ul class=\"menu\" role=\"tree\">\n",
      "    \n",
      "    <li class=\"python-meta current_branch selected\">\n",
      "        <a href=\"/\" title=\"The Python Programming Language\" class=\"current_branch selected\">Python</a>\n",
      "    </li>\n",
      "    \n",
      "    <li class=\"psf-meta \">\n",
      "        <a href=\"https://www.python.org/psf/\" title=\"The Python Software Foundation\" >PSF</a>\n",
      "    </li>\n",
      "    \n",
      "    <li class=\"docs-meta \">\n",
      "        <a href=\"https://docs.python.org\" title=\"Python Documentation\" >Docs</a>\n",
      "    </li>\n",
      "    \n",
      "    <li class=\"pypi-meta \">\n",
      "        <a href=\"https://pypi.org/\" title=\"Python Package Index\" >PyPI</a>\n",
      "    </li>\n",
      "    \n",
      "    <li class=\"jobs-meta \">\n",
      "        <a href=\"/jobs/\" title=\"Python Job Board\" >Jobs</a>\n",
      "    </li>\n",
      "    \n",
      "    <li class=\"shop-meta \">\n",
      "        <a href=\"/community-landing/\"  >Community</a>\n",
      "    </li>\n",
      "    \n",
      "</ul>\n",
      "\n",
      "\n",
      "                <a id=\"python-network\" class=\"jump-link\" href=\"#top\" aria-hidden=\"true\">\n",
      "                    <span aria-hidden=\"true\" class=\"icon-arrow-up\"><span>&#9650;</span></span> The Python Network\n",
      "                </a>\n",
      "\n",
      "            </nav>\n",
      "\n",
      "        </div>\n",
      "\n",
      "        <!-- Header elements -->\n",
      "        <header class=\"main-header\" role=\"banner\">\n",
      "            <div class=\"container\">\n",
      "\n",
      "                <h1 class=\"site-headline\">\n",
      "                    <a href=\"/\"><img class=\"python-logo\" src=\"/static/img/python-logo.png\" alt=\"python&trade;\"></a>\n",
      "                </h1>\n",
      "\n",
      "                <div class=\"options-bar-container do-not-print\">\n",
      "                    <a href=\"https://psfmember.org/civicrm/contribute/transact?reset=1&id=2\" class=\"donate-button\">Donate</a>\n",
      "                    <div class=\"options-bar\">\n",
      "                        \n",
      "                        <a id=\"site-map-link\" class=\"jump-to-menu\" href=\"#site-map\"><span class=\"menu-icon\">&equiv;</span> Menu</a><form class=\"search-the-site\" action=\"/search/\" method=\"get\">\n",
      "                            <fieldset title=\"Search Python.org\">\n",
      "\n",
      "                                <span aria-hidden=\"true\" class=\"icon-search\"></span>\n",
      "\n",
      "                                <label class=\"screen-reader-text\" for=\"id-search-field\">Search This Site</label>\n",
      "                                <input id=\"id-search-field\" name=\"q\" type=\"search\" role=\"textbox\" class=\"search-field\" placeholder=\"Search\" value=\"\" tabindex=\"1\">\n",
      "\n",
      "                                <button type=\"submit\" name=\"submit\" id=\"submit\" class=\"search-button\" title=\"Submit this Search\" tabindex=\"3\">\n",
      "                                    GO\n",
      "                                </button>\n",
      "\n",
      "                                \n",
      "                                <!--[if IE]><input type=\"text\" style=\"display: none;\" disabled=\"disabled\" size=\"1\" tabindex=\"4\"><![endif]-->\n",
      "\n",
      "                            </fieldset>\n",
      "                        </form><span class=\"breaker\"></span><div class=\"adjust-font-size\" aria-hidden=\"true\">\n",
      "                            <ul class=\"navigation menu\" aria-label=\"Adjust Text Size on Page\">\n",
      "                                <li class=\"tier-1 last\" aria-haspopup=\"true\">\n",
      "                                    <a href=\"#\" class=\"action-trigger\"><strong><small>A</small> A</strong></a>\n",
      "                                    <ul class=\"subnav menu\">\n",
      "                                        <li class=\"tier-2 element-1\" role=\"treeitem\"><a class=\"text-shrink\" title=\"Make Text Smaller\" href=\"javascript:;\">Smaller</a></li>\n",
      "                                        <li class=\"tier-2 element-2\" role=\"treeitem\"><a class=\"text-grow\" title=\"Make Text Larger\" href=\"javascript:;\">Larger</a></li>\n",
      "                                        <li class=\"tier-2 element-3\" role=\"treeitem\"><a class=\"text-reset\" title=\"Reset any font size changes I have made\" href=\"javascript:;\">Reset</a></li>\n",
      "                                    </ul>\n",
      "                                </li>\n",
      "                            </ul>\n",
      "                        </div><div class=\"winkwink-nudgenudge\">\n",
      "                            <ul class=\"navigation menu\" aria-label=\"Social Media Navigation\">\n",
      "                                <li class=\"tier-1 last\" aria-haspopup=\"true\">\n",
      "                                    <a href=\"#\" class=\"action-trigger\">Socialize</a>\n",
      "                                    <ul class=\"subnav menu\">\n",
      "                                        <li class=\"tier-2 element-1\" role=\"treeitem\"><a href=\"https://www.facebook.com/pythonlang?fref=ts\"><span aria-hidden=\"true\" class=\"icon-facebook\"></span>Facebook</a></li>\n",
      "                                        <li class=\"tier-2 element-2\" role=\"treeitem\"><a href=\"https://twitter.com/ThePSF\"><span aria-hidden=\"true\" class=\"icon-twitter\"></span>Twitter</a></li>\n",
      "                                        <li class=\"tier-2 element-3\" role=\"treeitem\"><a href=\"/community/irc/\"><span aria-hidden=\"true\" class=\"icon-freenode\"></span>Chat on IRC</a></li>\n",
      "                                    </ul>\n",
      "                                </li>\n",
      "                            </ul>\n",
      "                        </div>\n",
      "                        <span data-html-include=\"/authenticated\"></span>\n",
      "                    </div><!-- end options-bar -->\n",
      "                </div>\n",
      "\n",
      "                <nav id=\"mainnav\" class=\"python-navigation main-navigation do-not-print\" role=\"navigation\">\n",
      "                    \n",
      "                        \n",
      "<ul class=\"navigation menu\" role=\"menubar\" aria-label=\"Main Navigation\">\n",
      "  \n",
      "    \n",
      "    \n",
      "    <li id=\"about\" class=\"tier-1 element-1  \" aria-haspopup=\"true\">\n",
      "        <a href=\"/about/\" title=\"\" class=\"\">About</a>\n",
      "        \n",
      "            \n",
      "\n",
      "<ul class=\"subnav menu\" role=\"menu\" aria-hidden=\"true\">\n",
      "    \n",
      "        <li class=\"tier-2 element-1\" role=\"treeitem\"><a href=\"/about/apps/\" title=\"\">Applications</a></li>\n",
      "    \n",
      "        <li class=\"tier-2 element-2\" role=\"treeitem\"><a href=\"/about/quotes/\" title=\"\">Quotes</a></li>\n",
      "    \n",
      "        <li class=\"tier-2 element-3\" role=\"treeitem\"><a href=\"/about/gettingstarted/\" title=\"\">Getting Started</a></li>\n",
      "    \n",
      "        <li class=\"tier-2 element-4\" role=\"treeitem\"><a href=\"/about/help/\" title=\"\">Help</a></li>\n",
      "    \n",
      "        <li class=\"tier-2 element-5\" role=\"treeitem\"><a href=\"http://brochure.getpython.info/\" title=\"\">Python Brochure</a></li>\n",
      "    \n",
      "</ul>\n",
      "\n",
      "        \n",
      "    </li>\n",
      "    \n",
      "    \n",
      "    \n",
      "    <li id=\"downloads\" class=\"tier-1 element-2  \" aria-haspopup=\"true\">\n",
      "        <a href=\"/downloads/\" title=\"\" class=\" selected\">Downloads</a>\n",
      "        \n",
      "            \n",
      "\n",
      "<ul class=\"subnav menu\" role=\"menu\" aria-hidden=\"true\">\n",
      "    \n",
      "        <li class=\"tier-2 element-1\" role=\"treeitem\"><a href=\"/downloads/\" title=\"\">All releases</a></li>\n",
      "    \n",
      "        <li class=\"tier-2 element-2\" role=\"treeitem\"><a href=\"/downloads/source/\" title=\"\">Source code</a></li>\n",
      "    \n",
      "        <li class=\"tier-2 element-3\" role=\"treeitem\"><a href=\"/downloads/windows/\" title=\"\">Windows</a></li>\n",
      "    \n",
      "        <li class=\"tier-2 element-4\" role=\"treeitem\"><a href=\"/downloads/macos/\" title=\"\">macOS</a></li>\n",
      "    \n",
      "        <li class=\"tier-2 element-5\" role=\"treeitem\"><a href=\"/download/other/\" title=\"\">Other Platforms</a></li>\n",
      "    \n",
      "        <li class=\"tier-2 element-6\" role=\"treeitem\"><a href=\"https://docs.python.org/3/license.html\" title=\"\">License</a></li>\n",
      "    \n",
      "        <li class=\"tier-2 element-7\" role=\"treeitem\"><a href=\"/download/alternatives\" title=\"\">Alternative Implementations</a></li>\n",
      "    \n",
      "</ul>\n",
      "\n",
      "        \n",
      "    </li>\n",
      "    \n",
      "    \n",
      "    \n",
      "    <li id=\"documentation\" class=\"tier-1 element-3  \" aria-haspopup=\"true\">\n",
      "        <a href=\"/doc/\" title=\"\" class=\"\">Documentation</a>\n",
      "        \n",
      "            \n",
      "\n",
      "<ul class=\"subnav menu\" role=\"menu\" aria-hidden=\"true\">\n",
      "    \n",
      "        <li class=\"tier-2 element-1\" role=\"treeitem\"><a href=\"/doc/\" title=\"\">Docs</a></li>\n",
      "    \n",
      "        <li class=\"tier-2 element-2\" role=\"treeitem\"><a href=\"/doc/av\" title=\"\">Audio/Visual Talks</a></li>\n",
      "    \n",
      "        <li class=\"tier-2 element-3\" role=\"treeitem\"><a href=\"https://wiki.python.org/moin/BeginnersGuide\" title=\"\">Beginner&#39;s Guide</a></li>\n",
      "    \n",
      "        <li class=\"tier-2 element-4\" role=\"treeitem\"><a href=\"https://devguide.python.org/\" title=\"\">Developer&#39;s Guide</a></li>\n",
      "    \n",
      "        <li class=\"tier-2 element-5\" role=\"treeitem\"><a href=\"https://docs.python.org/faq/\" title=\"\">FAQ</a></li>\n",
      "    \n",
      "        <li class=\"tier-2 element-6\" role=\"treeitem\"><a href=\"http://wiki.python.org/moin/Languages\" title=\"\">Non-English Docs</a></li>\n",
      "    \n",
      "        <li class=\"tier-2 element-7\" role=\"treeitem\"><a href=\"http://python.org/dev/peps/\" title=\"\">PEP Index</a></li>\n",
      "    \n",
      "        <li class=\"tier-2 element-8\" role=\"treeitem\"><a href=\"https://wiki.python.org/moin/PythonBooks\" title=\"\">Python Books</a></li>\n",
      "    \n",
      "        <li class=\"tier-2 element-9\" role=\"treeitem\"><a href=\"/doc/essays/\" title=\"\">Python Essays</a></li>\n",
      "    \n",
      "</ul>\n",
      "\n",
      "        \n",
      "    </li>\n",
      "    \n",
      "    \n",
      "    \n",
      "    <li id=\"community\" class=\"tier-1 element-4  \" aria-haspopup=\"true\">\n",
      "        <a href=\"/community/\" title=\"\" class=\"\">Community</a>\n",
      "        \n",
      "            \n",
      "\n",
      "<ul class=\"subnav menu\" role=\"menu\" aria-hidden=\"true\">\n",
      "    \n",
      "        <li class=\"tier-2 element-1\" role=\"treeitem\"><a href=\"/community/diversity/\" title=\"\">Diversity</a></li>\n",
      "    \n",
      "        <li class=\"tier-2 element-2\" role=\"treeitem\"><a href=\"/community/lists/\" title=\"\">Mailing Lists</a></li>\n",
      "    \n",
      "        <li class=\"tier-2 element-3\" role=\"treeitem\"><a href=\"/community/irc/\" title=\"\">IRC</a></li>\n",
      "    \n",
      "        <li class=\"tier-2 element-4\" role=\"treeitem\"><a href=\"/community/forums/\" title=\"\">Forums</a></li>\n",
      "    \n",
      "        <li class=\"tier-2 element-5\" role=\"treeitem\"><a href=\"/psf/annual-report/2021/\" title=\"\">PSF Annual Impact Report</a></li>\n",
      "    \n",
      "        <li class=\"tier-2 element-6\" role=\"treeitem\"><a href=\"/community/workshops/\" title=\"\">Python Conferences</a></li>\n",
      "    \n",
      "        <li class=\"tier-2 element-7\" role=\"treeitem\"><a href=\"/community/sigs/\" title=\"\">Special Interest Groups</a></li>\n",
      "    \n",
      "        <li class=\"tier-2 element-8\" role=\"treeitem\"><a href=\"/community/logos/\" title=\"\">Python Logo</a></li>\n",
      "    \n",
      "        <li class=\"tier-2 element-9\" role=\"treeitem\"><a href=\"https://wiki.python.org/moin/\" title=\"\">Python Wiki</a></li>\n",
      "    \n",
      "        <li class=\"tier-2 element-10\" role=\"treeitem\"><a href=\"/psf/conduct/\" title=\"\">Code of Conduct</a></li>\n",
      "    \n",
      "        <li class=\"tier-2 element-11\" role=\"treeitem\"><a href=\"/community/awards\" title=\"\">Community Awards</a></li>\n",
      "    \n",
      "        <li class=\"tier-2 element-12\" role=\"treeitem\"><a href=\"/psf/get-involved/\" title=\"\">Get Involved</a></li>\n",
      "    \n",
      "        <li class=\"tier-2 element-13\" role=\"treeitem\"><a href=\"/psf/community-stories/\" title=\"\">Shared Stories</a></li>\n",
      "    \n",
      "</ul>\n",
      "\n",
      "        \n",
      "    </li>\n",
      "    \n",
      "    \n",
      "    \n",
      "    <li id=\"success-stories\" class=\"tier-1 element-5  \" aria-haspopup=\"true\">\n",
      "        <a href=\"/success-stories/\" title=\"success-stories\" class=\"\">Success Stories</a>\n",
      "        \n",
      "            \n",
      "\n",
      "<ul class=\"subnav menu\" role=\"menu\" aria-hidden=\"true\">\n",
      "    \n",
      "        <li class=\"tier-2 element-1\" role=\"treeitem\"><a href=\"/success-stories/category/arts/\" title=\"\">Arts</a></li>\n",
      "    \n",
      "        <li class=\"tier-2 element-2\" role=\"treeitem\"><a href=\"/success-stories/category/business/\" title=\"\">Business</a></li>\n",
      "    \n",
      "        <li class=\"tier-2 element-3\" role=\"treeitem\"><a href=\"/success-stories/category/education/\" title=\"\">Education</a></li>\n",
      "    \n",
      "        <li class=\"tier-2 element-4\" role=\"treeitem\"><a href=\"/success-stories/category/engineering/\" title=\"\">Engineering</a></li>\n",
      "    \n",
      "        <li class=\"tier-2 element-5\" role=\"treeitem\"><a href=\"/success-stories/category/government/\" title=\"\">Government</a></li>\n",
      "    \n",
      "        <li class=\"tier-2 element-6\" role=\"treeitem\"><a href=\"/success-stories/category/scientific/\" title=\"\">Scientific</a></li>\n",
      "    \n",
      "        <li class=\"tier-2 element-7\" role=\"treeitem\"><a href=\"/success-stories/category/software-development/\" title=\"\">Software Development</a></li>\n",
      "    \n",
      "</ul>\n",
      "\n",
      "        \n",
      "    </li>\n",
      "    \n",
      "    \n",
      "    \n",
      "    <li id=\"news\" class=\"tier-1 element-6  \" aria-haspopup=\"true\">\n",
      "        <a href=\"/blogs/\" title=\"News from around the Python world\" class=\"\">News</a>\n",
      "        \n",
      "            \n",
      "\n",
      "<ul class=\"subnav menu\" role=\"menu\" aria-hidden=\"true\">\n",
      "    \n",
      "        <li class=\"tier-2 element-1\" role=\"treeitem\"><a href=\"/blogs/\" title=\"Python Insider Blog Posts\">Python News</a></li>\n",
      "    \n",
      "        <li class=\"tier-2 element-2\" role=\"treeitem\"><a href=\"/psf/newsletter/\" title=\"Python Software Foundation Newsletter\">PSF Newsletter</a></li>\n",
      "    \n",
      "        <li class=\"tier-2 element-3\" role=\"treeitem\"><a href=\"http://pyfound.blogspot.com/\" title=\"PSF Blog\">PSF News</a></li>\n",
      "    \n",
      "        <li class=\"tier-2 element-4\" role=\"treeitem\"><a href=\"http://pycon.blogspot.com/\" title=\"PyCon Blog\">PyCon US News</a></li>\n",
      "    \n",
      "        <li class=\"tier-2 element-5\" role=\"treeitem\"><a href=\"http://planetpython.org/\" title=\"Planet Python\">News from the Community</a></li>\n",
      "    \n",
      "</ul>\n",
      "\n",
      "        \n",
      "    </li>\n",
      "    \n",
      "    \n",
      "    \n",
      "    <li id=\"events\" class=\"tier-1 element-7  \" aria-haspopup=\"true\">\n",
      "        <a href=\"/events/\" title=\"\" class=\"\">Events</a>\n",
      "        \n",
      "            \n",
      "\n",
      "<ul class=\"subnav menu\" role=\"menu\" aria-hidden=\"true\">\n",
      "    \n",
      "        <li class=\"tier-2 element-1\" role=\"treeitem\"><a href=\"/events/python-events/\" title=\"\">Python Events</a></li>\n",
      "    \n",
      "        <li class=\"tier-2 element-2\" role=\"treeitem\"><a href=\"/events/python-user-group/\" title=\"\">User Group Events</a></li>\n",
      "    \n",
      "        <li class=\"tier-2 element-3\" role=\"treeitem\"><a href=\"/events/python-events/past/\" title=\"\">Python Events Archive</a></li>\n",
      "    \n",
      "        <li class=\"tier-2 element-4\" role=\"treeitem\"><a href=\"/events/python-user-group/past/\" title=\"\">User Group Events Archive</a></li>\n",
      "    \n",
      "        <li class=\"tier-2 element-5\" role=\"treeitem\"><a href=\"https://wiki.python.org/moin/PythonEventsCalendar#Submitting_an_Event\" title=\"\">Submit an Event</a></li>\n",
      "    \n",
      "</ul>\n",
      "\n",
      "        \n",
      "    </li>\n",
      "    \n",
      "    \n",
      "    \n",
      "    \n",
      "  \n",
      "</ul>\n",
      "\n",
      "                    \n",
      "                </nav>\n",
      "\n",
      "                <div class=\"header-banner \"> <!-- for optional \"do-not-print\" class -->\n",
      "                    \n",
      "        <div class=\"download-for-current-os\">\n",
      "            \n",
      "                <div class=\"download-os-macos\" style=\"display: none;\">\n",
      "                    \n",
      "                    <h1 class=\"call-to-action\">Download the latest version for macOS</h1>\n",
      "                    \n",
      "                    <p class=\"download-buttons\">\n",
      "                        \n",
      "                        <a class=\"button\" href=\"https://www.python.org/ftp/python/3.11.4/python-3.11.4-macos11.pkg\">Download Python 3.11.4</a>\n",
      "                        \n",
      "                    </p>\n",
      "                </div>\n",
      "            \n",
      "                <div class=\"download-os-source\" style=\"display: none;\">\n",
      "                    \n",
      "                    <h1 class=\"call-to-action\">Download the latest source release</h1>\n",
      "                    \n",
      "                    <p class=\"download-buttons\">\n",
      "                        \n",
      "                        <a class=\"button\" href=\"https://www.python.org/ftp/python/3.11.4/Python-3.11.4.tar.xz\">Download Python 3.11.4</a>\n",
      "                        \n",
      "                    </p>\n",
      "                </div>\n",
      "            \n",
      "                <div class=\"download-os-windows\" style=\"display: none;\">\n",
      "                    \n",
      "                    <h1 class=\"call-to-action\">Download the latest version for Windows</h1>\n",
      "                    \n",
      "                    <p class=\"download-buttons\">\n",
      "                        \n",
      "                        <a class=\"button\" href=\"https://www.python.org/ftp/python/3.11.4/python-3.11.4-amd64.exe\">Download Python 3.11.4</a>\n",
      "                        \n",
      "                    </p>\n",
      "                </div>\n",
      "            \n",
      "            <div class=\"download-unknown\">\n",
      "                <h1 class=\"call-to-action\">Download the latest version of Python</h1>\n",
      "                <p class=\"download-buttons\">\n",
      "                    \n",
      "                    <a class=\"button\" href=\"/downloads/release/python-3114/\">Download Python 3.11.4</a>\n",
      "                    \n",
      "                </p>\n",
      "            </div>\n",
      "            <p>\n",
      "  Looking for Python with a different OS? Python for\n",
      "  <a href=\"/downloads/windows/\">Windows</a>,\n",
      "  <a href=\"/downloads/source/\">Linux/UNIX</a>,\n",
      "  <a href=\"/downloads/macos/\">macOS</a>,\n",
      "  <a href=\"/download/other/\">Other</a>\n",
      "</p>\n",
      "\n",
      "<p style=\"margin-top: 0.35em\">\n",
      "  Want to help test development versions of Python 3.12?\n",
      "  <a href=\"/download/pre-releases/\">Prereleases</a>,\n",
      "  <a href=\"https://quay.io/repository/python-devs/ci-image\">Docker images</a>  \n",
      "</p>\n",
      "\n",
      "        </div>\n",
      "\n",
      "                </div>\n",
      "\n",
      "                \n",
      "                \n",
      "\n",
      "             </div><!-- end .container -->\n",
      "        </header>\n",
      "\n",
      "        <div id=\"content\" class=\"content-wrapper\">\n",
      "            <!-- Main Content Column -->\n",
      "            <div class=\"container\">\n",
      "\n",
      "                <section class=\"main-content \" role=\"main\">\n",
      "\n",
      "                    \n",
      "                    \n",
      "\n",
      "                    \n",
      "\n",
      "                    \n",
      "                <div class=\"row active-release-list-widget\">\n",
      "                    \n",
      "\n",
      "                    <h2 class=\"widget-title\">Active Python Releases</h2>\n",
      "                    <p class=\"success-quote\"><a href=\"https://devguide.python.org/versions/#versions\">For more information visit the Python Developer's Guide</a>.</p>\n",
      "\n",
      "                    <div class=\"list-row-headings\">\n",
      "    <span class=\"release-version\">Python version</span>\n",
      "    <span class=\"release-status\">Maintenance status</span>\n",
      "    <span class=\"release-start\">First released</span>\n",
      "    <span class=\"release-end\">End of support</span>\n",
      "    <span class=\"release-pep\">Release schedule</span>\n",
      "</div>\n",
      "<ol class=\"list-row-container menu\">\n",
      "    <li>\n",
      "        <span class=\"release-version\">3.12</span>\n",
      "        <span class=\"release-status\"><a href=\"https://www.python.org/download/pre-releases/\">prerelease</a></span>\n",
      "        <span class=\"release-start\">2023-10-02 (planned)</span>\n",
      "        <span class=\"release-end\">2028-10</span>\n",
      "        <span class=\"release-pep\"><a href=\"https://www.python.org/dev/peps/pep-0693\">PEP 693</a></span>\n",
      "    </li>\n",
      "    <li>\n",
      "        <span class=\"release-version\">3.11</span>\n",
      "        <span class=\"release-status\">bugfix</span>\n",
      "        <span class=\"release-start\">2022-10-24</span>\n",
      "        <span class=\"release-end\">2027-10</span>\n",
      "        <span class=\"release-pep\"><a href=\"https://www.python.org/dev/peps/pep-0664\">PEP 664</a></span>\n",
      "    </li>\n",
      "    <li>\n",
      "        <span class=\"release-version\">3.10</span>\n",
      "        <span class=\"release-status\">security</span>\n",
      "        <span class=\"release-start\">2021-10-04</span>\n",
      "        <span class=\"release-end\">2026-10</span>\n",
      "        <span class=\"release-pep\"><a href=\"https://www.python.org/dev/peps/pep-0619\">PEP 619</a></span>\n",
      "    </li>\n",
      "    <li>\n",
      "        <span class=\"release-version\">3.9</span>\n",
      "        <span class=\"release-status\">security</span>\n",
      "        <span class=\"release-start\">2020-10-05</span>\n",
      "        <span class=\"release-end\">2025-10</span>\n",
      "        <span class=\"release-pep\"><a href=\"https://www.python.org/dev/peps/pep-0596\">PEP 596</a></span>\n",
      "    </li>\n",
      "    <li>\n",
      "        <span class=\"release-version\">3.8</span>\n",
      "        <span class=\"release-status\">security</span>\n",
      "        <span class=\"release-start\">2019-10-14</span>\n",
      "        <span class=\"release-end\">2024-10</span>\n",
      "        <span class=\"release-pep\"><a href=\"https://www.python.org/dev/peps/pep-0569\">PEP 569</a></span>\n",
      "    </li>\n",
      "     <!--<li>\n",
      "        <span class=\"release-version\">2.7</span>\n",
      "        <span class=\"release-status\">end-of-life</span>\n",
      "        <span class=\"release-start\">2010-07-03</span>\n",
      "        <span class=\"release-end\">2020-01-01</span>\n",
      "        <span class=\"release-pep\"><a href=\"https://www.python.org/dev/peps/pep-0373\">PEP 373</a></span>\n",
      "    </li>-->\n",
      "</ol>\n",
      "                </div>\n",
      "\n",
      "\n",
      "                <div class=\"row download-list-widget\">\n",
      "\n",
      "                    <h2 class=\"widget-title\">Looking for a specific release?</h2>\n",
      "                    <p class=\"success-quote\">Python releases by version number:</p>\n",
      "\n",
      "                    <div class=\"list-row-headings\">\n",
      "                        <span class=\"release-number\">Release version</span>\n",
      "                        <span class=\"release-date\">Release date</span>\n",
      "                        <span class=\"release-download\">&nbsp;</span>\n",
      "                        <span class=\"release-enhancements\">Click for more</span>\n",
      "                    </div>\n",
      "                    <ol class=\"list-row-container menu\">\n",
      "                        \n",
      "                        <li>\n",
      "                            <span class=\"release-number\"><a href=\"/downloads/release/python-31012/\">Python 3.10.12</a></span>\n",
      "                            <span class=\"release-date\">June 6, 2023</span>\n",
      "                            <span class=\"release-download\"><a href=\"/downloads/release/python-31012/\"><span aria-hidden=\"true\" class=\"icon-download\"></span> Download</a></span>\n",
      "                            <span class=\"release-enhancements\"><a href=\"https://docs.python.org/release/3.10.12/whatsnew/changelog.html#python-3-10-12-final\">Release Notes</a></span>\n",
      "                        </li>\n",
      "                        \n",
      "                        <li>\n",
      "                            <span class=\"release-number\"><a href=\"/downloads/release/python-3114/\">Python 3.11.4</a></span>\n",
      "                            <span class=\"release-date\">June 6, 2023</span>\n",
      "                            <span class=\"release-download\"><a href=\"/downloads/release/python-3114/\"><span aria-hidden=\"true\" class=\"icon-download\"></span> Download</a></span>\n",
      "                            <span class=\"release-enhancements\"><a href=\"https://docs.python.org/release/3.11.4/whatsnew/changelog.html#python-3-11-4\">Release Notes</a></span>\n",
      "                        </li>\n",
      "                        \n",
      "                        <li>\n",
      "                            <span class=\"release-number\"><a href=\"/downloads/release/python-3717/\">Python 3.7.17</a></span>\n",
      "                            <span class=\"release-date\">June 6, 2023</span>\n",
      "                            <span class=\"release-download\"><a href=\"/downloads/release/python-3717/\"><span aria-hidden=\"true\" class=\"icon-download\"></span> Download</a></span>\n",
      "                            <span class=\"release-enhancements\"><a href=\"https://docs.python.org/release/3.7.17/whatsnew/changelog.html#changelog\">Release Notes</a></span>\n",
      "                        </li>\n",
      "                        \n",
      "                        <li>\n",
      "                            <span class=\"release-number\"><a href=\"/downloads/release/python-3817/\">Python 3.8.17</a></span>\n",
      "                            <span class=\"release-date\">June 6, 2023</span>\n",
      "                            <span class=\"release-download\"><a href=\"/downloads/release/python-3817/\"><span aria-hidden=\"true\" class=\"icon-download\"></span> Download</a></span>\n",
      "                            <span class=\"release-enhancements\"><a href=\"http://docs.python.org/release/3.8.17/whatsnew/changelog.html\">Release Notes</a></span>\n",
      "                        </li>\n",
      "                        \n",
      "                        <li>\n",
      "                            <span class=\"release-number\"><a href=\"/downloads/release/python-3917/\">Python 3.9.17</a></span>\n",
      "                            <span class=\"release-date\">June 6, 2023</span>\n",
      "                            <span class=\"release-download\"><a href=\"/downloads/release/python-3917/\"><span aria-hidden=\"true\" class=\"icon-download\"></span> Download</a></span>\n",
      "                            <span class=\"release-enhancements\"><a href=\"https://docs.python.org/release/3.9.17/whatsnew/changelog.html#changelog\">Release Notes</a></span>\n",
      "                        </li>\n",
      "                        \n",
      "                        <li>\n",
      "                            <span class=\"release-number\"><a href=\"/downloads/release/python-31011/\">Python 3.10.11</a></span>\n",
      "                            <span class=\"release-date\">April 5, 2023</span>\n",
      "                            <span class=\"release-download\"><a href=\"/downloads/release/python-31011/\"><span aria-hidden=\"true\" class=\"icon-download\"></span> Download</a></span>\n",
      "                            <span class=\"release-enhancements\"><a href=\"https://docs.python.org/release/3.10.11/whatsnew/changelog.html#python-3-10-11-final\">Release Notes</a></span>\n",
      "                        </li>\n",
      "                        \n",
      "                        <li>\n",
      "                            <span class=\"release-number\"><a href=\"/downloads/release/python-3113/\">Python 3.11.3</a></span>\n",
      "                            <span class=\"release-date\">April 5, 2023</span>\n",
      "                            <span class=\"release-download\"><a href=\"/downloads/release/python-3113/\"><span aria-hidden=\"true\" class=\"icon-download\"></span> Download</a></span>\n",
      "                            <span class=\"release-enhancements\"><a href=\"https://docs.python.org/release/3.11.3/whatsnew/changelog.html#python-3-11-3\">Release Notes</a></span>\n",
      "                        </li>\n",
      "                        \n",
      "                        <li>\n",
      "                            <span class=\"release-number\"><a href=\"/downloads/release/python-31010/\">Python 3.10.10</a></span>\n",
      "                            <span class=\"release-date\">Feb. 8, 2023</span>\n",
      "                            <span class=\"release-download\"><a href=\"/downloads/release/python-31010/\"><span aria-hidden=\"true\" class=\"icon-download\"></span> Download</a></span>\n",
      "                            <span class=\"release-enhancements\"><a href=\"https://docs.python.org/release/3.10.10/whatsnew/changelog.html#python-3-10-10-final\">Release Notes</a></span>\n",
      "                        </li>\n",
      "                        \n",
      "                        <li>\n",
      "                            <span class=\"release-number\"><a href=\"/downloads/release/python-3112/\">Python 3.11.2</a></span>\n",
      "                            <span class=\"release-date\">Feb. 8, 2023</span>\n",
      "                            <span class=\"release-download\"><a href=\"/downloads/release/python-3112/\"><span aria-hidden=\"true\" class=\"icon-download\"></span> Download</a></span>\n",
      "                            <span class=\"release-enhancements\"><a href=\"https://docs.python.org/release/3.11.2/whatsnew/changelog.html#python-3-11-2\">Release Notes</a></span>\n",
      "                        </li>\n",
      "                        \n",
      "                        <li>\n",
      "                            <span class=\"release-number\"><a href=\"/downloads/release/python-3111/\">Python 3.11.1</a></span>\n",
      "                            <span class=\"release-date\">Dec. 6, 2022</span>\n",
      "                            <span class=\"release-download\"><a href=\"/downloads/release/python-3111/\"><span aria-hidden=\"true\" class=\"icon-download\"></span> Download</a></span>\n",
      "                            <span class=\"release-enhancements\"><a href=\"https://docs.python.org/release/3.11.1/whatsnew/changelog.html#python-3-11-1\">Release Notes</a></span>\n",
      "                        </li>\n",
      "                        \n",
      "                        <li>\n",
      "                            <span class=\"release-number\"><a href=\"/downloads/release/python-3109/\">Python 3.10.9</a></span>\n",
      "                            <span class=\"release-date\">Dec. 6, 2022</span>\n",
      "                            <span class=\"release-download\"><a href=\"/downloads/release/python-3109/\"><span aria-hidden=\"true\" class=\"icon-download\"></span> Download</a></span>\n",
      "                            <span class=\"release-enhancements\"><a href=\"https://docs.python.org/release/3.10.9/whatsnew/changelog.html#python-3-10-9-final\">Release Notes</a></span>\n",
      "                        </li>\n",
      "                        \n",
      "                        <li>\n",
      "                            <span class=\"release-number\"><a href=\"/downloads/release/python-3916/\">Python 3.9.16</a></span>\n",
      "                            <span class=\"release-date\">Dec. 6, 2022</span>\n",
      "                            <span class=\"release-download\"><a href=\"/downloads/release/python-3916/\"><span aria-hidden=\"true\" class=\"icon-download\"></span> Download</a></span>\n",
      "                            <span class=\"release-enhancements\"><a href=\"http://docs.python.org/release/3.9.16/whatsnew/changelog.html\">Release Notes</a></span>\n",
      "                        </li>\n",
      "                        \n",
      "                        <li>\n",
      "                            <span class=\"release-number\"><a href=\"/downloads/release/python-3816/\">Python 3.8.16</a></span>\n",
      "                            <span class=\"release-date\">Dec. 6, 2022</span>\n",
      "                            <span class=\"release-download\"><a href=\"/downloads/release/python-3816/\"><span aria-hidden=\"true\" class=\"icon-download\"></span> Download</a></span>\n",
      "                            <span class=\"release-enhancements\"><a href=\"http://docs.python.org/release/3.8.16/whatsnew/changelog.html\">Release Notes</a></span>\n",
      "                        </li>\n",
      "                        \n",
      "                        <li>\n",
      "                            <span class=\"release-number\"><a href=\"/downloads/release/python-3716/\">Python 3.7.16</a></span>\n",
      "                            <span class=\"release-date\">Dec. 6, 2022</span>\n",
      "                            <span class=\"release-download\"><a href=\"/downloads/release/python-3716/\"><span aria-hidden=\"true\" class=\"icon-download\"></span> Download</a></span>\n",
      "                            <span class=\"release-enhancements\"><a href=\"https://docs.python.org/release/3.7.16/whatsnew/changelog.html#changelog\">Release Notes</a></span>\n",
      "                        </li>\n",
      "                        \n",
      "                        <li>\n",
      "                            <span class=\"release-number\"><a href=\"/downloads/release/python-3110/\">Python 3.11.0</a></span>\n",
      "                            <span class=\"release-date\">Oct. 24, 2022</span>\n",
      "                            <span class=\"release-download\"><a href=\"/downloads/release/python-3110/\"><span aria-hidden=\"true\" class=\"icon-download\"></span> Download</a></span>\n",
      "                            <span class=\"release-enhancements\"><a href=\"https://docs.python.org/release/3.11.0/whatsnew/changelog.html#python-3-11-0-final\">Release Notes</a></span>\n",
      "                        </li>\n",
      "                        \n",
      "                        <li>\n",
      "                            <span class=\"release-number\"><a href=\"/downloads/release/python-3915/\">Python 3.9.15</a></span>\n",
      "                            <span class=\"release-date\">Oct. 11, 2022</span>\n",
      "                            <span class=\"release-download\"><a href=\"/downloads/release/python-3915/\"><span aria-hidden=\"true\" class=\"icon-download\"></span> Download</a></span>\n",
      "                            <span class=\"release-enhancements\"><a href=\"http://docs.python.org/release/3.9.15/whatsnew/changelog.html\">Release Notes</a></span>\n",
      "                        </li>\n",
      "                        \n",
      "                        <li>\n",
      "                            <span class=\"release-number\"><a href=\"/downloads/release/python-3815/\">Python 3.8.15</a></span>\n",
      "                            <span class=\"release-date\">Oct. 11, 2022</span>\n",
      "                            <span class=\"release-download\"><a href=\"/downloads/release/python-3815/\"><span aria-hidden=\"true\" class=\"icon-download\"></span> Download</a></span>\n",
      "                            <span class=\"release-enhancements\"><a href=\"http://docs.python.org/release/3.8.15/whatsnew/changelog.html\">Release Notes</a></span>\n",
      "                        </li>\n",
      "                        \n",
      "                        <li>\n",
      "                            <span class=\"release-number\"><a href=\"/downloads/release/python-3108/\">Python 3.10.8</a></span>\n",
      "                            <span class=\"release-date\">Oct. 11, 2022</span>\n",
      "                            <span class=\"release-download\"><a href=\"/downloads/release/python-3108/\"><span aria-hidden=\"true\" class=\"icon-download\"></span> Download</a></span>\n",
      "                            <span class=\"release-enhancements\"><a href=\"https://docs.python.org/release/3.10.8/whatsnew/changelog.html#python-3-10-8-final\">Release Notes</a></span>\n",
      "                        </li>\n",
      "                        \n",
      "                        <li>\n",
      "                            <span class=\"release-number\"><a href=\"/downloads/release/python-3715/\">Python 3.7.15</a></span>\n",
      "                            <span class=\"release-date\">Oct. 11, 2022</span>\n",
      "                            <span class=\"release-download\"><a href=\"/downloads/release/python-3715/\"><span aria-hidden=\"true\" class=\"icon-download\"></span> Download</a></span>\n",
      "                            <span class=\"release-enhancements\"><a href=\"https://docs.python.org/release/3.7.15/whatsnew/changelog.html#changelog\">Release Notes</a></span>\n",
      "                        </li>\n",
      "                        \n",
      "                        <li>\n",
      "                            <span class=\"release-number\"><a href=\"/downloads/release/python-3714/\">Python 3.7.14</a></span>\n",
      "                            <span class=\"release-date\">Sept. 6, 2022</span>\n",
      "                            <span class=\"release-download\"><a href=\"/downloads/release/python-3714/\"><span aria-hidden=\"true\" class=\"icon-download\"></span> Download</a></span>\n",
      "                            <span class=\"release-enhancements\"><a href=\"https://docs.python.org/release/3.7.14/whatsnew/changelog.html#changelog\">Release Notes</a></span>\n",
      "                        </li>\n",
      "                        \n",
      "                        <li>\n",
      "                            <span class=\"release-number\"><a href=\"/downloads/release/python-3814/\">Python 3.8.14</a></span>\n",
      "                            <span class=\"release-date\">Sept. 6, 2022</span>\n",
      "                            <span class=\"release-download\"><a href=\"/downloads/release/python-3814/\"><span aria-hidden=\"true\" class=\"icon-download\"></span> Download</a></span>\n",
      "                            <span class=\"release-enhancements\"><a href=\"http://docs.python.org/release/3.8.14/whatsnew/changelog.html\">Release Notes</a></span>\n",
      "                        </li>\n",
      "                        \n",
      "                        <li>\n",
      "                            <span class=\"release-number\"><a href=\"/downloads/release/python-3914/\">Python 3.9.14</a></span>\n",
      "                            <span class=\"release-date\">Sept. 6, 2022</span>\n",
      "                            <span class=\"release-download\"><a href=\"/downloads/release/python-3914/\"><span aria-hidden=\"true\" class=\"icon-download\"></span> Download</a></span>\n",
      "                            <span class=\"release-enhancements\"><a href=\"http://docs.python.org/release/3.9.14/whatsnew/changelog.html\">Release Notes</a></span>\n",
      "                        </li>\n",
      "                        \n",
      "                        <li>\n",
      "                            <span class=\"release-number\"><a href=\"/downloads/release/python-3107/\">Python 3.10.7</a></span>\n",
      "                            <span class=\"release-date\">Sept. 6, 2022</span>\n",
      "                            <span class=\"release-download\"><a href=\"/downloads/release/python-3107/\"><span aria-hidden=\"true\" class=\"icon-download\"></span> Download</a></span>\n",
      "                            <span class=\"release-enhancements\"><a href=\"https://docs.python.org/release/3.10.7/whatsnew/changelog.html#python-3-10-7-final\">Release Notes</a></span>\n",
      "                        </li>\n",
      "                        \n",
      "                        <li>\n",
      "                            <span class=\"release-number\"><a href=\"/downloads/release/python-3106/\">Python 3.10.6</a></span>\n",
      "                            <span class=\"release-date\">Aug. 2, 2022</span>\n",
      "                            <span class=\"release-download\"><a href=\"/downloads/release/python-3106/\"><span aria-hidden=\"true\" class=\"icon-download\"></span> Download</a></span>\n",
      "                            <span class=\"release-enhancements\"><a href=\"https://docs.python.org/release/3.10.6/whatsnew/changelog.html#python-3-10-6-final\">Release Notes</a></span>\n",
      "                        </li>\n",
      "                        \n",
      "                        <li>\n",
      "                            <span class=\"release-number\"><a href=\"/downloads/release/python-3105/\">Python 3.10.5</a></span>\n",
      "                            <span class=\"release-date\">June 6, 2022</span>\n",
      "                            <span class=\"release-download\"><a href=\"/downloads/release/python-3105/\"><span aria-hidden=\"true\" class=\"icon-download\"></span> Download</a></span>\n",
      "                            <span class=\"release-enhancements\"><a href=\"https://docs.python.org/release/3.10.5/whatsnew/changelog.html#python-3-10-5-final\">Release Notes</a></span>\n",
      "                        </li>\n",
      "                        \n",
      "                        <li>\n",
      "                            <span class=\"release-number\"><a href=\"/downloads/release/python-3913/\">Python 3.9.13</a></span>\n",
      "                            <span class=\"release-date\">May 17, 2022</span>\n",
      "                            <span class=\"release-download\"><a href=\"/downloads/release/python-3913/\"><span aria-hidden=\"true\" class=\"icon-download\"></span> Download</a></span>\n",
      "                            <span class=\"release-enhancements\"><a href=\"https://docs.python.org/release/3.9.13/whatsnew/changelog.html\">Release Notes</a></span>\n",
      "                        </li>\n",
      "                        \n",
      "                        <li>\n",
      "                            <span class=\"release-number\"><a href=\"/downloads/release/python-3104/\">Python 3.10.4</a></span>\n",
      "                            <span class=\"release-date\">March 24, 2022</span>\n",
      "                            <span class=\"release-download\"><a href=\"/downloads/release/python-3104/\"><span aria-hidden=\"true\" class=\"icon-download\"></span> Download</a></span>\n",
      "                            <span class=\"release-enhancements\"><a href=\"https://docs.python.org/release/3.10.4/whatsnew/changelog.html#python-3-10-4-final\">Release Notes</a></span>\n",
      "                        </li>\n",
      "                        \n",
      "                        <li>\n",
      "                            <span class=\"release-number\"><a href=\"/downloads/release/python-3912/\">Python 3.9.12</a></span>\n",
      "                            <span class=\"release-date\">March 23, 2022</span>\n",
      "                            <span class=\"release-download\"><a href=\"/downloads/release/python-3912/\"><span aria-hidden=\"true\" class=\"icon-download\"></span> Download</a></span>\n",
      "                            <span class=\"release-enhancements\"><a href=\"https://docs.python.org/release/3.9.12/whatsnew/changelog.html\">Release Notes</a></span>\n",
      "                        </li>\n",
      "                        \n",
      "                        <li>\n",
      "                            <span class=\"release-number\"><a href=\"/downloads/release/python-3103/\">Python 3.10.3</a></span>\n",
      "                            <span class=\"release-date\">March 16, 2022</span>\n",
      "                            <span class=\"release-download\"><a href=\"/downloads/release/python-3103/\"><span aria-hidden=\"true\" class=\"icon-download\"></span> Download</a></span>\n",
      "                            <span class=\"release-enhancements\"><a href=\"https://docs.python.org/release/3.10.3/whatsnew/changelog.html#python-3-10-3-final\">Release Notes</a></span>\n",
      "                        </li>\n",
      "                        \n",
      "                        <li>\n",
      "                            <span class=\"release-number\"><a href=\"/downloads/release/python-3911/\">Python 3.9.11</a></span>\n",
      "                            <span class=\"release-date\">March 16, 2022</span>\n",
      "                            <span class=\"release-download\"><a href=\"/downloads/release/python-3911/\"><span aria-hidden=\"true\" class=\"icon-download\"></span> Download</a></span>\n",
      "                            <span class=\"release-enhancements\"><a href=\"https://docs.python.org/release/3.9.11/whatsnew/changelog.html\">Release Notes</a></span>\n",
      "                        </li>\n",
      "                        \n",
      "                        <li>\n",
      "                            <span class=\"release-number\"><a href=\"/downloads/release/python-3813/\">Python 3.8.13</a></span>\n",
      "                            <span class=\"release-date\">March 16, 2022</span>\n",
      "                            <span class=\"release-download\"><a href=\"/downloads/release/python-3813/\"><span aria-hidden=\"true\" class=\"icon-download\"></span> Download</a></span>\n",
      "                            <span class=\"release-enhancements\"><a href=\"https://docs.python.org/release/3.8.13/whatsnew/changelog.html\">Release Notes</a></span>\n",
      "                        </li>\n",
      "                        \n",
      "                        <li>\n",
      "                            <span class=\"release-number\"><a href=\"/downloads/release/python-3713/\">Python 3.7.13</a></span>\n",
      "                            <span class=\"release-date\">March 16, 2022</span>\n",
      "                            <span class=\"release-download\"><a href=\"/downloads/release/python-3713/\"><span aria-hidden=\"true\" class=\"icon-download\"></span> Download</a></span>\n",
      "                            <span class=\"release-enhancements\"><a href=\"https://docs.python.org/release/3.7.13/whatsnew/changelog.html#changelog\">Release Notes</a></span>\n",
      "                        </li>\n",
      "                        \n",
      "                        <li>\n",
      "                            <span class=\"release-number\"><a href=\"/downloads/release/python-3910/\">Python 3.9.10</a></span>\n",
      "                            <span class=\"release-date\">Jan. 14, 2022</span>\n",
      "                            <span class=\"release-download\"><a href=\"/downloads/release/python-3910/\"><span aria-hidden=\"true\" class=\"icon-download\"></span> Download</a></span>\n",
      "                            <span class=\"release-enhancements\"><a href=\"https://docs.python.org/release/3.9.10/whatsnew/changelog.html\">Release Notes</a></span>\n",
      "                        </li>\n",
      "                        \n",
      "                        <li>\n",
      "                            <span class=\"release-number\"><a href=\"/downloads/release/python-3102/\">Python 3.10.2</a></span>\n",
      "                            <span class=\"release-date\">Jan. 14, 2022</span>\n",
      "                            <span class=\"release-download\"><a href=\"/downloads/release/python-3102/\"><span aria-hidden=\"true\" class=\"icon-download\"></span> Download</a></span>\n",
      "                            <span class=\"release-enhancements\"><a href=\"https://docs.python.org/release/3.10.2/whatsnew/changelog.html#python-3-10-2-final\">Release Notes</a></span>\n",
      "                        </li>\n",
      "                        \n",
      "                        <li>\n",
      "                            <span class=\"release-number\"><a href=\"/downloads/release/python-3101/\">Python 3.10.1</a></span>\n",
      "                            <span class=\"release-date\">Dec. 6, 2021</span>\n",
      "                            <span class=\"release-download\"><a href=\"/downloads/release/python-3101/\"><span aria-hidden=\"true\" class=\"icon-download\"></span> Download</a></span>\n",
      "                            <span class=\"release-enhancements\"><a href=\"https://docs.python.org/release/3.10.1/whatsnew/changelog.html#python-3-10-1-final\">Release Notes</a></span>\n",
      "                        </li>\n",
      "                        \n",
      "                        <li>\n",
      "                            <span class=\"release-number\"><a href=\"/downloads/release/python-399/\">Python 3.9.9</a></span>\n",
      "                            <span class=\"release-date\">Nov. 15, 2021</span>\n",
      "                            <span class=\"release-download\"><a href=\"/downloads/release/python-399/\"><span aria-hidden=\"true\" class=\"icon-download\"></span> Download</a></span>\n",
      "                            <span class=\"release-enhancements\"><a href=\"https://docs.python.org/release/3.9.9/whatsnew/changelog.html\">Release Notes</a></span>\n",
      "                        </li>\n",
      "                        \n",
      "                        <li>\n",
      "                            <span class=\"release-number\"><a href=\"/downloads/release/python-398/\">Python 3.9.8</a></span>\n",
      "                            <span class=\"release-date\">Nov. 5, 2021</span>\n",
      "                            <span class=\"release-download\"><a href=\"/downloads/release/python-398/\"><span aria-hidden=\"true\" class=\"icon-download\"></span> Download</a></span>\n",
      "                            <span class=\"release-enhancements\"><a href=\"https://docs.python.org/release/3.9.8/whatsnew/changelog.html\">Release Notes</a></span>\n",
      "                        </li>\n",
      "                        \n",
      "                        <li>\n",
      "                            <span class=\"release-number\"><a href=\"/downloads/release/python-3100/\">Python 3.10.0</a></span>\n",
      "                            <span class=\"release-date\">Oct. 4, 2021</span>\n",
      "                            <span class=\"release-download\"><a href=\"/downloads/release/python-3100/\"><span aria-hidden=\"true\" class=\"icon-download\"></span> Download</a></span>\n",
      "                            <span class=\"release-enhancements\"><a href=\"https://docs.python.org/release/3.10.0/whatsnew/changelog.html#python-3-10-0-final\">Release Notes</a></span>\n",
      "                        </li>\n",
      "                        \n",
      "                        <li>\n",
      "                            <span class=\"release-number\"><a href=\"/downloads/release/python-3712/\">Python 3.7.12</a></span>\n",
      "                            <span class=\"release-date\">Sept. 4, 2021</span>\n",
      "                            <span class=\"release-download\"><a href=\"/downloads/release/python-3712/\"><span aria-hidden=\"true\" class=\"icon-download\"></span> Download</a></span>\n",
      "                            <span class=\"release-enhancements\"><a href=\"https://docs.python.org/release/3.7.12/whatsnew/changelog.html#changelog\">Release Notes</a></span>\n",
      "                        </li>\n",
      "                        \n",
      "                        <li>\n",
      "                            <span class=\"release-number\"><a href=\"/downloads/release/python-3615/\">Python 3.6.15</a></span>\n",
      "                            <span class=\"release-date\">Sept. 4, 2021</span>\n",
      "                            <span class=\"release-download\"><a href=\"/downloads/release/python-3615/\"><span aria-hidden=\"true\" class=\"icon-download\"></span> Download</a></span>\n",
      "                            <span class=\"release-enhancements\"><a href=\"https://docs.python.org/release/3.6.15/whatsnew/changelog.html#changelog\">Release Notes</a></span>\n",
      "                        </li>\n",
      "                        \n",
      "                        <li>\n",
      "                            <span class=\"release-number\"><a href=\"/downloads/release/python-397/\">Python 3.9.7</a></span>\n",
      "                            <span class=\"release-date\">Aug. 30, 2021</span>\n",
      "                            <span class=\"release-download\"><a href=\"/downloads/release/python-397/\"><span aria-hidden=\"true\" class=\"icon-download\"></span> Download</a></span>\n",
      "                            <span class=\"release-enhancements\"><a href=\"https://docs.python.org/release/3.9.7/whatsnew/changelog.html#changelog\">Release Notes</a></span>\n",
      "                        </li>\n",
      "                        \n",
      "                        <li>\n",
      "                            <span class=\"release-number\"><a href=\"/downloads/release/python-3812/\">Python 3.8.12</a></span>\n",
      "                            <span class=\"release-date\">Aug. 30, 2021</span>\n",
      "                            <span class=\"release-download\"><a href=\"/downloads/release/python-3812/\"><span aria-hidden=\"true\" class=\"icon-download\"></span> Download</a></span>\n",
      "                            <span class=\"release-enhancements\"><a href=\"https://docs.python.org/release/3.8.12/whatsnew/changelog.html#changelog\">Release Notes</a></span>\n",
      "                        </li>\n",
      "                        \n",
      "                        <li>\n",
      "                            <span class=\"release-number\"><a href=\"/downloads/release/python-396/\">Python 3.9.6</a></span>\n",
      "                            <span class=\"release-date\">June 28, 2021</span>\n",
      "                            <span class=\"release-download\"><a href=\"/downloads/release/python-396/\"><span aria-hidden=\"true\" class=\"icon-download\"></span> Download</a></span>\n",
      "                            <span class=\"release-enhancements\"><a href=\"https://docs.python.org/release/3.9.6/whatsnew/changelog.html#changelog\">Release Notes</a></span>\n",
      "                        </li>\n",
      "                        \n",
      "                        <li>\n",
      "                            <span class=\"release-number\"><a href=\"/downloads/release/python-3811/\">Python 3.8.11</a></span>\n",
      "                            <span class=\"release-date\">June 28, 2021</span>\n",
      "                            <span class=\"release-download\"><a href=\"/downloads/release/python-3811/\"><span aria-hidden=\"true\" class=\"icon-download\"></span> Download</a></span>\n",
      "                            <span class=\"release-enhancements\"><a href=\"https://docs.python.org/release/3.8.11/whatsnew/changelog.html#changelog\">Release Notes</a></span>\n",
      "                        </li>\n",
      "                        \n",
      "                        <li>\n",
      "                            <span class=\"release-number\"><a href=\"/downloads/release/python-3614/\">Python 3.6.14</a></span>\n",
      "                            <span class=\"release-date\">June 28, 2021</span>\n",
      "                            <span class=\"release-download\"><a href=\"/downloads/release/python-3614/\"><span aria-hidden=\"true\" class=\"icon-download\"></span> Download</a></span>\n",
      "                            <span class=\"release-enhancements\"><a href=\"https://docs.python.org/release/3.6.14/whatsnew/changelog.html#changelog\">Release Notes</a></span>\n",
      "                        </li>\n",
      "                        \n",
      "                        <li>\n",
      "                            <span class=\"release-number\"><a href=\"/downloads/release/python-3711/\">Python 3.7.11</a></span>\n",
      "                            <span class=\"release-date\">June 28, 2021</span>\n",
      "                            <span class=\"release-download\"><a href=\"/downloads/release/python-3711/\"><span aria-hidden=\"true\" class=\"icon-download\"></span> Download</a></span>\n",
      "                            <span class=\"release-enhancements\"><a href=\"https://docs.python.org/release/3.7.11/whatsnew/changelog.html#changelog\">Release Notes</a></span>\n",
      "                        </li>\n",
      "                        \n",
      "                        <li>\n",
      "                            <span class=\"release-number\"><a href=\"/downloads/release/python-395/\">Python 3.9.5</a></span>\n",
      "                            <span class=\"release-date\">May 3, 2021</span>\n",
      "                            <span class=\"release-download\"><a href=\"/downloads/release/python-395/\"><span aria-hidden=\"true\" class=\"icon-download\"></span> Download</a></span>\n",
      "                            <span class=\"release-enhancements\"><a href=\"https://docs.python.org/release/3.9.5/whatsnew/changelog.html\">Release Notes</a></span>\n",
      "                        </li>\n",
      "                        \n",
      "                        <li>\n",
      "                            <span class=\"release-number\"><a href=\"/downloads/release/python-3810/\">Python 3.8.10</a></span>\n",
      "                            <span class=\"release-date\">May 3, 2021</span>\n",
      "                            <span class=\"release-download\"><a href=\"/downloads/release/python-3810/\"><span aria-hidden=\"true\" class=\"icon-download\"></span> Download</a></span>\n",
      "                            <span class=\"release-enhancements\"><a href=\"https://docs.python.org/release/3.8.10/whatsnew/changelog.html\">Release Notes</a></span>\n",
      "                        </li>\n",
      "                        \n",
      "                        <li>\n",
      "                            <span class=\"release-number\"><a href=\"/downloads/release/python-394/\">Python 3.9.4</a></span>\n",
      "                            <span class=\"release-date\">April 4, 2021</span>\n",
      "                            <span class=\"release-download\"><a href=\"/downloads/release/python-394/\"><span aria-hidden=\"true\" class=\"icon-download\"></span> Download</a></span>\n",
      "                            <span class=\"release-enhancements\"><a href=\"https://docs.python.org/release/3.9.4/whatsnew/changelog.html#changelog\">Release Notes</a></span>\n",
      "                        </li>\n",
      "                        \n",
      "                        <li>\n",
      "                            <span class=\"release-number\"><a href=\"/downloads/release/python-389/\">Python 3.8.9</a></span>\n",
      "                            <span class=\"release-date\">April 2, 2021</span>\n",
      "                            <span class=\"release-download\"><a href=\"/downloads/release/python-389/\"><span aria-hidden=\"true\" class=\"icon-download\"></span> Download</a></span>\n",
      "                            <span class=\"release-enhancements\"><a href=\"https://docs.python.org/release/3.8.9/whatsnew/changelog.html#python-3-8-9\">Release Notes</a></span>\n",
      "                        </li>\n",
      "                        \n",
      "                        <li>\n",
      "                            <span class=\"release-number\"><a href=\"/downloads/release/python-392/\">Python 3.9.2</a></span>\n",
      "                            <span class=\"release-date\">Feb. 19, 2021</span>\n",
      "                            <span class=\"release-download\"><a href=\"/downloads/release/python-392/\"><span aria-hidden=\"true\" class=\"icon-download\"></span> Download</a></span>\n",
      "                            <span class=\"release-enhancements\"><a href=\"https://docs.python.org/release/3.9.2/whatsnew/changelog.html#changelog\">Release Notes</a></span>\n",
      "                        </li>\n",
      "                        \n",
      "                        <li>\n",
      "                            <span class=\"release-number\"><a href=\"/downloads/release/python-388/\">Python 3.8.8</a></span>\n",
      "                            <span class=\"release-date\">Feb. 19, 2021</span>\n",
      "                            <span class=\"release-download\"><a href=\"/downloads/release/python-388/\"><span aria-hidden=\"true\" class=\"icon-download\"></span> Download</a></span>\n",
      "                            <span class=\"release-enhancements\"><a href=\"https://docs.python.org/release/3.8.8/whatsnew/changelog.html#changelog\">Release Notes</a></span>\n",
      "                        </li>\n",
      "                        \n",
      "                        <li>\n",
      "                            <span class=\"release-number\"><a href=\"/downloads/release/python-3613/\">Python 3.6.13</a></span>\n",
      "                            <span class=\"release-date\">Feb. 15, 2021</span>\n",
      "                            <span class=\"release-download\"><a href=\"/downloads/release/python-3613/\"><span aria-hidden=\"true\" class=\"icon-download\"></span> Download</a></span>\n",
      "                            <span class=\"release-enhancements\"><a href=\"https://docs.python.org/release/3.6.13/whatsnew/changelog.html#changelog\">Release Notes</a></span>\n",
      "                        </li>\n",
      "                        \n",
      "                        <li>\n",
      "                            <span class=\"release-number\"><a href=\"/downloads/release/python-3710/\">Python 3.7.10</a></span>\n",
      "                            <span class=\"release-date\">Feb. 15, 2021</span>\n",
      "                            <span class=\"release-download\"><a href=\"/downloads/release/python-3710/\"><span aria-hidden=\"true\" class=\"icon-download\"></span> Download</a></span>\n",
      "                            <span class=\"release-enhancements\"><a href=\"https://docs.python.org/release/3.7.10/whatsnew/changelog.html#changelog\">Release Notes</a></span>\n",
      "                        </li>\n",
      "                        \n",
      "                        <li>\n",
      "                            <span class=\"release-number\"><a href=\"/downloads/release/python-387/\">Python 3.8.7</a></span>\n",
      "                            <span class=\"release-date\">Dec. 21, 2020</span>\n",
      "                            <span class=\"release-download\"><a href=\"/downloads/release/python-387/\"><span aria-hidden=\"true\" class=\"icon-download\"></span> Download</a></span>\n",
      "                            <span class=\"release-enhancements\"><a href=\"https://docs.python.org/release/3.8.7/whatsnew/changelog.html\">Release Notes</a></span>\n",
      "                        </li>\n",
      "                        \n",
      "                        <li>\n",
      "                            <span class=\"release-number\"><a href=\"/downloads/release/python-391/\">Python 3.9.1</a></span>\n",
      "                            <span class=\"release-date\">Dec. 7, 2020</span>\n",
      "                            <span class=\"release-download\"><a href=\"/downloads/release/python-391/\"><span aria-hidden=\"true\" class=\"icon-download\"></span> Download</a></span>\n",
      "                            <span class=\"release-enhancements\"><a href=\"https://docs.python.org/release/3.9.1/whatsnew/changelog.html#changelog\">Release Notes</a></span>\n",
      "                        </li>\n",
      "                        \n",
      "                        <li>\n",
      "                            <span class=\"release-number\"><a href=\"/downloads/release/python-390/\">Python 3.9.0</a></span>\n",
      "                            <span class=\"release-date\">Oct. 5, 2020</span>\n",
      "                            <span class=\"release-download\"><a href=\"/downloads/release/python-390/\"><span aria-hidden=\"true\" class=\"icon-download\"></span> Download</a></span>\n",
      "                            <span class=\"release-enhancements\"><a href=\"https://docs.python.org/release/3.9.0/whatsnew/changelog.html#changelog\">Release Notes</a></span>\n",
      "                        </li>\n",
      "                        \n",
      "                        <li>\n",
      "                            <span class=\"release-number\"><a href=\"/downloads/release/python-386/\">Python 3.8.6</a></span>\n",
      "                            <span class=\"release-date\">Sept. 24, 2020</span>\n",
      "                            <span class=\"release-download\"><a href=\"/downloads/release/python-386/\"><span aria-hidden=\"true\" class=\"icon-download\"></span> Download</a></span>\n",
      "                            <span class=\"release-enhancements\"><a href=\"https://docs.python.org/release/3.8.6/whatsnew/changelog.html#changelog\">Release Notes</a></span>\n",
      "                        </li>\n",
      "                        \n",
      "                        <li>\n",
      "                            <span class=\"release-number\"><a href=\"/downloads/release/python-3510/\">Python 3.5.10</a></span>\n",
      "                            <span class=\"release-date\">Sept. 5, 2020</span>\n",
      "                            <span class=\"release-download\"><a href=\"/downloads/release/python-3510/\"><span aria-hidden=\"true\" class=\"icon-download\"></span> Download</a></span>\n",
      "                            <span class=\"release-enhancements\"><a href=\"https://docs.python.org/3.5/whatsnew/changelog.html#python-3-5-10\">Release Notes</a></span>\n",
      "                        </li>\n",
      "                        \n",
      "                        <li>\n",
      "                            <span class=\"release-number\"><a href=\"/downloads/release/python-379/\">Python 3.7.9</a></span>\n",
      "                            <span class=\"release-date\">Aug. 17, 2020</span>\n",
      "                            <span class=\"release-download\"><a href=\"/downloads/release/python-379/\"><span aria-hidden=\"true\" class=\"icon-download\"></span> Download</a></span>\n",
      "                            <span class=\"release-enhancements\"><a href=\"https://docs.python.org/release/3.7.9/whatsnew/changelog.html#changelog\">Release Notes</a></span>\n",
      "                        </li>\n",
      "                        \n",
      "                        <li>\n",
      "                            <span class=\"release-number\"><a href=\"/downloads/release/python-3612/\">Python 3.6.12</a></span>\n",
      "                            <span class=\"release-date\">Aug. 17, 2020</span>\n",
      "                            <span class=\"release-download\"><a href=\"/downloads/release/python-3612/\"><span aria-hidden=\"true\" class=\"icon-download\"></span> Download</a></span>\n",
      "                            <span class=\"release-enhancements\"><a href=\"https://docs.python.org/release/3.6.12/whatsnew/changelog.html#changelog\">Release Notes</a></span>\n",
      "                        </li>\n",
      "                        \n",
      "                        <li>\n",
      "                            <span class=\"release-number\"><a href=\"/downloads/release/python-385/\">Python 3.8.5</a></span>\n",
      "                            <span class=\"release-date\">July 20, 2020</span>\n",
      "                            <span class=\"release-download\"><a href=\"/downloads/release/python-385/\"><span aria-hidden=\"true\" class=\"icon-download\"></span> Download</a></span>\n",
      "                            <span class=\"release-enhancements\"><a href=\"https://docs.python.org/release/3.8.5/whatsnew/changelog.html#changelog\">Release Notes</a></span>\n",
      "                        </li>\n",
      "                        \n",
      "                        <li>\n",
      "                            <span class=\"release-number\"><a href=\"/downloads/release/python-384/\">Python 3.8.4</a></span>\n",
      "                            <span class=\"release-date\">July 13, 2020</span>\n",
      "                            <span class=\"release-download\"><a href=\"/downloads/release/python-384/\"><span aria-hidden=\"true\" class=\"icon-download\"></span> Download</a></span>\n",
      "                            <span class=\"release-enhancements\"><a href=\"https://docs.python.org/release/3.8.4/whatsnew/changelog.html#changelog\">Release Notes</a></span>\n",
      "                        </li>\n",
      "                        \n",
      "                        <li>\n",
      "                            <span class=\"release-number\"><a href=\"/downloads/release/python-378/\">Python 3.7.8</a></span>\n",
      "                            <span class=\"release-date\">June 27, 2020</span>\n",
      "                            <span class=\"release-download\"><a href=\"/downloads/release/python-378/\"><span aria-hidden=\"true\" class=\"icon-download\"></span> Download</a></span>\n",
      "                            <span class=\"release-enhancements\"><a href=\"https://docs.python.org/release/3.7.8/whatsnew/changelog.html#changelog\">Release Notes</a></span>\n",
      "                        </li>\n",
      "                        \n",
      "                        <li>\n",
      "                            <span class=\"release-number\"><a href=\"/downloads/release/python-3611/\">Python 3.6.11</a></span>\n",
      "                            <span class=\"release-date\">June 27, 2020</span>\n",
      "                            <span class=\"release-download\"><a href=\"/downloads/release/python-3611/\"><span aria-hidden=\"true\" class=\"icon-download\"></span> Download</a></span>\n",
      "                            <span class=\"release-enhancements\"><a href=\"https://docs.python.org/release/3.6.11/whatsnew/changelog.html#changelog\">Release Notes</a></span>\n",
      "                        </li>\n",
      "                        \n",
      "                        <li>\n",
      "                            <span class=\"release-number\"><a href=\"/downloads/release/python-383/\">Python 3.8.3</a></span>\n",
      "                            <span class=\"release-date\">May 13, 2020</span>\n",
      "                            <span class=\"release-download\"><a href=\"/downloads/release/python-383/\"><span aria-hidden=\"true\" class=\"icon-download\"></span> Download</a></span>\n",
      "                            <span class=\"release-enhancements\"><a href=\"https://docs.python.org/release/3.8.3/whatsnew/changelog.html#changelog\">Release Notes</a></span>\n",
      "                        </li>\n",
      "                        \n",
      "                        <li>\n",
      "                            <span class=\"release-number\"><a href=\"/downloads/release/python-2718/\">Python 2.7.18</a></span>\n",
      "                            <span class=\"release-date\">April 20, 2020</span>\n",
      "                            <span class=\"release-download\"><a href=\"/downloads/release/python-2718/\"><span aria-hidden=\"true\" class=\"icon-download\"></span> Download</a></span>\n",
      "                            <span class=\"release-enhancements\"><a href=\"\">Release Notes</a></span>\n",
      "                        </li>\n",
      "                        \n",
      "                        <li>\n",
      "                            <span class=\"release-number\"><a href=\"/downloads/release/python-377/\">Python 3.7.7</a></span>\n",
      "                            <span class=\"release-date\">March 10, 2020</span>\n",
      "                            <span class=\"release-download\"><a href=\"/downloads/release/python-377/\"><span aria-hidden=\"true\" class=\"icon-download\"></span> Download</a></span>\n",
      "                            <span class=\"release-enhancements\"><a href=\"https://docs.python.org/3.7/whatsnew/changelog.html#python-3-7-7-final\">Release Notes</a></span>\n",
      "                        </li>\n",
      "                        \n",
      "                        <li>\n",
      "                            <span class=\"release-number\"><a href=\"/downloads/release/python-382/\">Python 3.8.2</a></span>\n",
      "                            <span class=\"release-date\">Feb. 24, 2020</span>\n",
      "                            <span class=\"release-download\"><a href=\"/downloads/release/python-382/\"><span aria-hidden=\"true\" class=\"icon-download\"></span> Download</a></span>\n",
      "                            <span class=\"release-enhancements\"><a href=\"https://docs.python.org/release/3.8.2/whatsnew/changelog.html#python-3-8-2-final\">Release Notes</a></span>\n",
      "                        </li>\n",
      "                        \n",
      "                        <li>\n",
      "                            <span class=\"release-number\"><a href=\"/downloads/release/python-381/\">Python 3.8.1</a></span>\n",
      "                            <span class=\"release-date\">Dec. 18, 2019</span>\n",
      "                            <span class=\"release-download\"><a href=\"/downloads/release/python-381/\"><span aria-hidden=\"true\" class=\"icon-download\"></span> Download</a></span>\n",
      "                            <span class=\"release-enhancements\"><a href=\"https://docs.python.org/3.8/whatsnew/changelog.html#python-3-8-1\">Release Notes</a></span>\n",
      "                        </li>\n",
      "                        \n",
      "                        <li>\n",
      "                            <span class=\"release-number\"><a href=\"/downloads/release/python-376/\">Python 3.7.6</a></span>\n",
      "                            <span class=\"release-date\">Dec. 18, 2019</span>\n",
      "                            <span class=\"release-download\"><a href=\"/downloads/release/python-376/\"><span aria-hidden=\"true\" class=\"icon-download\"></span> Download</a></span>\n",
      "                            <span class=\"release-enhancements\"><a href=\"https://docs.python.org/3.7/whatsnew/changelog.html#python-3-7-6-final\">Release Notes</a></span>\n",
      "                        </li>\n",
      "                        \n",
      "                        <li>\n",
      "                            <span class=\"release-number\"><a href=\"/downloads/release/python-3610/\">Python 3.6.10</a></span>\n",
      "                            <span class=\"release-date\">Dec. 18, 2019</span>\n",
      "                            <span class=\"release-download\"><a href=\"/downloads/release/python-3610/\"><span aria-hidden=\"true\" class=\"icon-download\"></span> Download</a></span>\n",
      "                            <span class=\"release-enhancements\"><a href=\"https://docs.python.org/3.6/whatsnew/changelog.html#python-3-6-10-final\">Release Notes</a></span>\n",
      "                        </li>\n",
      "                        \n",
      "                        <li>\n",
      "                            <span class=\"release-number\"><a href=\"/downloads/release/python-359/\">Python 3.5.9</a></span>\n",
      "                            <span class=\"release-date\">Nov. 2, 2019</span>\n",
      "                            <span class=\"release-download\"><a href=\"/downloads/release/python-359/\"><span aria-hidden=\"true\" class=\"icon-download\"></span> Download</a></span>\n",
      "                            <span class=\"release-enhancements\"><a href=\"https://docs.python.org/3.5/whatsnew/changelog.html#python-3-5-9\">Release Notes</a></span>\n",
      "                        </li>\n",
      "                        \n",
      "                        <li>\n",
      "                            <span class=\"release-number\"><a href=\"/downloads/release/python-358/\">Python 3.5.8</a></span>\n",
      "                            <span class=\"release-date\">Oct. 29, 2019</span>\n",
      "                            <span class=\"release-download\"><a href=\"/downloads/release/python-358/\"><span aria-hidden=\"true\" class=\"icon-download\"></span> Download</a></span>\n",
      "                            <span class=\"release-enhancements\"><a href=\"https://docs.python.org/3.5/whatsnew/changelog.html#python-3-5-8\">Release Notes</a></span>\n",
      "                        </li>\n",
      "                        \n",
      "                        <li>\n",
      "                            <span class=\"release-number\"><a href=\"/downloads/release/python-2717/\">Python 2.7.17</a></span>\n",
      "                            <span class=\"release-date\">Oct. 19, 2019</span>\n",
      "                            <span class=\"release-download\"><a href=\"/downloads/release/python-2717/\"><span aria-hidden=\"true\" class=\"icon-download\"></span> Download</a></span>\n",
      "                            <span class=\"release-enhancements\"><a href=\"https://raw.githubusercontent.com/python/cpython/c2f86d86e6c8f5fd1ef602128b537a48f3f5c063/Misc/NEWS.d/2.7.17rc1.rst\">Release Notes</a></span>\n",
      "                        </li>\n",
      "                        \n",
      "                        <li>\n",
      "                            <span class=\"release-number\"><a href=\"/downloads/release/python-375/\">Python 3.7.5</a></span>\n",
      "                            <span class=\"release-date\">Oct. 15, 2019</span>\n",
      "                            <span class=\"release-download\"><a href=\"/downloads/release/python-375/\"><span aria-hidden=\"true\" class=\"icon-download\"></span> Download</a></span>\n",
      "                            <span class=\"release-enhancements\"><a href=\"https://docs.python.org/3.7/whatsnew/changelog.html#python-3-7-5-final\">Release Notes</a></span>\n",
      "                        </li>\n",
      "                        \n",
      "                        <li>\n",
      "                            <span class=\"release-number\"><a href=\"/downloads/release/python-380/\">Python 3.8.0</a></span>\n",
      "                            <span class=\"release-date\">Oct. 14, 2019</span>\n",
      "                            <span class=\"release-download\"><a href=\"/downloads/release/python-380/\"><span aria-hidden=\"true\" class=\"icon-download\"></span> Download</a></span>\n",
      "                            <span class=\"release-enhancements\"><a href=\"https://docs.python.org/3.8/whatsnew/changelog.html#python-3-8-0-final\">Release Notes</a></span>\n",
      "                        </li>\n",
      "                        \n",
      "                        <li>\n",
      "                            <span class=\"release-number\"><a href=\"/downloads/release/python-374/\">Python 3.7.4</a></span>\n",
      "                            <span class=\"release-date\">July 8, 2019</span>\n",
      "                            <span class=\"release-download\"><a href=\"/downloads/release/python-374/\"><span aria-hidden=\"true\" class=\"icon-download\"></span> Download</a></span>\n",
      "                            <span class=\"release-enhancements\"><a href=\"https://docs.python.org/3.7/whatsnew/changelog.html#python-3-7-4-final\">Release Notes</a></span>\n",
      "                        </li>\n",
      "                        \n",
      "                        <li>\n",
      "                            <span class=\"release-number\"><a href=\"/downloads/release/python-369/\">Python 3.6.9</a></span>\n",
      "                            <span class=\"release-date\">July 2, 2019</span>\n",
      "                            <span class=\"release-download\"><a href=\"/downloads/release/python-369/\"><span aria-hidden=\"true\" class=\"icon-download\"></span> Download</a></span>\n",
      "                            <span class=\"release-enhancements\"><a href=\"https://docs.python.org/3.6/whatsnew/changelog.html#python-3-6-9-final\">Release Notes</a></span>\n",
      "                        </li>\n",
      "                        \n",
      "                        <li>\n",
      "                            <span class=\"release-number\"><a href=\"/downloads/release/python-373/\">Python 3.7.3</a></span>\n",
      "                            <span class=\"release-date\">March 25, 2019</span>\n",
      "                            <span class=\"release-download\"><a href=\"/downloads/release/python-373/\"><span aria-hidden=\"true\" class=\"icon-download\"></span> Download</a></span>\n",
      "                            <span class=\"release-enhancements\"><a href=\"https://docs.python.org/3.7/whatsnew/changelog.html#python-3-7-3-final\">Release Notes</a></span>\n",
      "                        </li>\n",
      "                        \n",
      "                        <li>\n",
      "                            <span class=\"release-number\"><a href=\"/downloads/release/python-3410/\">Python 3.4.10</a></span>\n",
      "                            <span class=\"release-date\">March 18, 2019</span>\n",
      "                            <span class=\"release-download\"><a href=\"/downloads/release/python-3410/\"><span aria-hidden=\"true\" class=\"icon-download\"></span> Download</a></span>\n",
      "                            <span class=\"release-enhancements\"><a href=\"https://docs.python.org/3.4/whatsnew/changelog.html#python-3-4-10\">Release Notes</a></span>\n",
      "                        </li>\n",
      "                        \n",
      "                        <li>\n",
      "                            <span class=\"release-number\"><a href=\"/downloads/release/python-357/\">Python 3.5.7</a></span>\n",
      "                            <span class=\"release-date\">March 18, 2019</span>\n",
      "                            <span class=\"release-download\"><a href=\"/downloads/release/python-357/\"><span aria-hidden=\"true\" class=\"icon-download\"></span> Download</a></span>\n",
      "                            <span class=\"release-enhancements\"><a href=\"https://docs.python.org/3.5/whatsnew/changelog.html#python-3-5-7\">Release Notes</a></span>\n",
      "                        </li>\n",
      "                        \n",
      "                        <li>\n",
      "                            <span class=\"release-number\"><a href=\"/downloads/release/python-2716/\">Python 2.7.16</a></span>\n",
      "                            <span class=\"release-date\">March 4, 2019</span>\n",
      "                            <span class=\"release-download\"><a href=\"/downloads/release/python-2716/\"><span aria-hidden=\"true\" class=\"icon-download\"></span> Download</a></span>\n",
      "                            <span class=\"release-enhancements\"><a href=\"https://raw.githubusercontent.com/python/cpython/v2.7.16/Misc/NEWS.d/2.7.16.rst\">Release Notes</a></span>\n",
      "                        </li>\n",
      "                        \n",
      "                        <li>\n",
      "                            <span class=\"release-number\"><a href=\"/downloads/release/python-372/\">Python 3.7.2</a></span>\n",
      "                            <span class=\"release-date\">Dec. 24, 2018</span>\n",
      "                            <span class=\"release-download\"><a href=\"/downloads/release/python-372/\"><span aria-hidden=\"true\" class=\"icon-download\"></span> Download</a></span>\n",
      "                            <span class=\"release-enhancements\"><a href=\"https://docs.python.org/3.7/whatsnew/changelog.html#python-3-7-2-final\">Release Notes</a></span>\n",
      "                        </li>\n",
      "                        \n",
      "                        <li>\n",
      "                            <span class=\"release-number\"><a href=\"/downloads/release/python-368/\">Python 3.6.8</a></span>\n",
      "                            <span class=\"release-date\">Dec. 24, 2018</span>\n",
      "                            <span class=\"release-download\"><a href=\"/downloads/release/python-368/\"><span aria-hidden=\"true\" class=\"icon-download\"></span> Download</a></span>\n",
      "                            <span class=\"release-enhancements\"><a href=\"https://docs.python.org/3.6/whatsnew/changelog.html#python-3-6-8-final\">Release Notes</a></span>\n",
      "                        </li>\n",
      "                        \n",
      "                        <li>\n",
      "                            <span class=\"release-number\"><a href=\"/downloads/release/python-371/\">Python 3.7.1</a></span>\n",
      "                            <span class=\"release-date\">Oct. 20, 2018</span>\n",
      "                            <span class=\"release-download\"><a href=\"/downloads/release/python-371/\"><span aria-hidden=\"true\" class=\"icon-download\"></span> Download</a></span>\n",
      "                            <span class=\"release-enhancements\"><a href=\"https://docs.python.org/3.7/whatsnew/changelog.html#python-3-7-1-final\">Release Notes</a></span>\n",
      "                        </li>\n",
      "                        \n",
      "                        <li>\n",
      "                            <span class=\"release-number\"><a href=\"/downloads/release/python-367/\">Python 3.6.7</a></span>\n",
      "                            <span class=\"release-date\">Oct. 20, 2018</span>\n",
      "                            <span class=\"release-download\"><a href=\"/downloads/release/python-367/\"><span aria-hidden=\"true\" class=\"icon-download\"></span> Download</a></span>\n",
      "                            <span class=\"release-enhancements\"><a href=\"https://docs.python.org/3.6/whatsnew/changelog.html#python-3-6-7-final\">Release Notes</a></span>\n",
      "                        </li>\n",
      "                        \n",
      "                        <li>\n",
      "                            <span class=\"release-number\"><a href=\"/downloads/release/python-356/\">Python 3.5.6</a></span>\n",
      "                            <span class=\"release-date\">Aug. 2, 2018</span>\n",
      "                            <span class=\"release-download\"><a href=\"/downloads/release/python-356/\"><span aria-hidden=\"true\" class=\"icon-download\"></span> Download</a></span>\n",
      "                            <span class=\"release-enhancements\"><a href=\"https://docs.python.org/3.5/whatsnew/changelog.html#python-3-5-6\">Release Notes</a></span>\n",
      "                        </li>\n",
      "                        \n",
      "                        <li>\n",
      "                            <span class=\"release-number\"><a href=\"/downloads/release/python-349/\">Python 3.4.9</a></span>\n",
      "                            <span class=\"release-date\">Aug. 2, 2018</span>\n",
      "                            <span class=\"release-download\"><a href=\"/downloads/release/python-349/\"><span aria-hidden=\"true\" class=\"icon-download\"></span> Download</a></span>\n",
      "                            <span class=\"release-enhancements\"><a href=\"https://docs.python.org/3.4/whatsnew/changelog.html#python-3-4-9\">Release Notes</a></span>\n",
      "                        </li>\n",
      "                        \n",
      "                        <li>\n",
      "                            <span class=\"release-number\"><a href=\"/downloads/release/python-370/\">Python 3.7.0</a></span>\n",
      "                            <span class=\"release-date\">June 27, 2018</span>\n",
      "                            <span class=\"release-download\"><a href=\"/downloads/release/python-370/\"><span aria-hidden=\"true\" class=\"icon-download\"></span> Download</a></span>\n",
      "                            <span class=\"release-enhancements\"><a href=\"https://docs.python.org/3.7/whatsnew/changelog.html#python-3-7-0-final\">Release Notes</a></span>\n",
      "                        </li>\n",
      "                        \n",
      "                        <li>\n",
      "                            <span class=\"release-number\"><a href=\"/downloads/release/python-366/\">Python 3.6.6</a></span>\n",
      "                            <span class=\"release-date\">June 27, 2018</span>\n",
      "                            <span class=\"release-download\"><a href=\"/downloads/release/python-366/\"><span aria-hidden=\"true\" class=\"icon-download\"></span> Download</a></span>\n",
      "                            <span class=\"release-enhancements\"><a href=\"https://docs.python.org/3.6/whatsnew/changelog.html#python-3-6-6-final\">Release Notes</a></span>\n",
      "                        </li>\n",
      "                        \n",
      "                        <li>\n",
      "                            <span class=\"release-number\"><a href=\"/downloads/release/python-2715/\">Python 2.7.15</a></span>\n",
      "                            <span class=\"release-date\">May 1, 2018</span>\n",
      "                            <span class=\"release-download\"><a href=\"/downloads/release/python-2715/\"><span aria-hidden=\"true\" class=\"icon-download\"></span> Download</a></span>\n",
      "                            <span class=\"release-enhancements\"><a href=\"\">Release Notes</a></span>\n",
      "                        </li>\n",
      "                        \n",
      "                        <li>\n",
      "                            <span class=\"release-number\"><a href=\"/downloads/release/python-365/\">Python 3.6.5</a></span>\n",
      "                            <span class=\"release-date\">March 28, 2018</span>\n",
      "                            <span class=\"release-download\"><a href=\"/downloads/release/python-365/\"><span aria-hidden=\"true\" class=\"icon-download\"></span> Download</a></span>\n",
      "                            <span class=\"release-enhancements\"><a href=\"https://docs.python.org/3.6/whatsnew/changelog.html#python-3-6-5-final\">Release Notes</a></span>\n",
      "                        </li>\n",
      "                        \n",
      "                        <li>\n",
      "                            <span class=\"release-number\"><a href=\"/downloads/release/python-348/\">Python 3.4.8</a></span>\n",
      "                            <span class=\"release-date\">Feb. 5, 2018</span>\n",
      "                            <span class=\"release-download\"><a href=\"/downloads/release/python-348/\"><span aria-hidden=\"true\" class=\"icon-download\"></span> Download</a></span>\n",
      "                            <span class=\"release-enhancements\"><a href=\"https://docs.python.org/3.4/whatsnew/changelog.html#python-3-4-8-final\">Release Notes</a></span>\n",
      "                        </li>\n",
      "                        \n",
      "                        <li>\n",
      "                            <span class=\"release-number\"><a href=\"/downloads/release/python-355/\">Python 3.5.5</a></span>\n",
      "                            <span class=\"release-date\">Feb. 5, 2018</span>\n",
      "                            <span class=\"release-download\"><a href=\"/downloads/release/python-355/\"><span aria-hidden=\"true\" class=\"icon-download\"></span> Download</a></span>\n",
      "                            <span class=\"release-enhancements\"><a href=\"https://docs.python.org/3.5/whatsnew/changelog.html#python-3-5-5-final\">Release Notes</a></span>\n",
      "                        </li>\n",
      "                        \n",
      "                        <li>\n",
      "                            <span class=\"release-number\"><a href=\"/downloads/release/python-364/\">Python 3.6.4</a></span>\n",
      "                            <span class=\"release-date\">Dec. 19, 2017</span>\n",
      "                            <span class=\"release-download\"><a href=\"/downloads/release/python-364/\"><span aria-hidden=\"true\" class=\"icon-download\"></span> Download</a></span>\n",
      "                            <span class=\"release-enhancements\"><a href=\"https://docs.python.org/3.6/whatsnew/changelog.html#python-3-6-4-final\">Release Notes</a></span>\n",
      "                        </li>\n",
      "                        \n",
      "                        <li>\n",
      "                            <span class=\"release-number\"><a href=\"/downloads/release/python-363/\">Python 3.6.3</a></span>\n",
      "                            <span class=\"release-date\">Oct. 3, 2017</span>\n",
      "                            <span class=\"release-download\"><a href=\"/downloads/release/python-363/\"><span aria-hidden=\"true\" class=\"icon-download\"></span> Download</a></span>\n",
      "                            <span class=\"release-enhancements\"><a href=\"https://docs.python.org/3.6/whatsnew/changelog.html#python-3-6-3-final\">Release Notes</a></span>\n",
      "                        </li>\n",
      "                        \n",
      "                        <li>\n",
      "                            <span class=\"release-number\"><a href=\"/downloads/release/python-337/\">Python 3.3.7</a></span>\n",
      "                            <span class=\"release-date\">Sept. 19, 2017</span>\n",
      "                            <span class=\"release-download\"><a href=\"/downloads/release/python-337/\"><span aria-hidden=\"true\" class=\"icon-download\"></span> Download</a></span>\n",
      "                            <span class=\"release-enhancements\"><a href=\"https://docs.python.org/release/3.3.7/whatsnew/changelog.html\">Release Notes</a></span>\n",
      "                        </li>\n",
      "                        \n",
      "                        <li>\n",
      "                            <span class=\"release-number\"><a href=\"/downloads/release/python-2714/\">Python 2.7.14</a></span>\n",
      "                            <span class=\"release-date\">Sept. 16, 2017</span>\n",
      "                            <span class=\"release-download\"><a href=\"/downloads/release/python-2714/\"><span aria-hidden=\"true\" class=\"icon-download\"></span> Download</a></span>\n",
      "                            <span class=\"release-enhancements\"><a href=\"https://raw.githubusercontent.com/python/cpython/84471935ed2f62b8c5758fd544c7d37076fe0fa5/Misc/NEWS\">Release Notes</a></span>\n",
      "                        </li>\n",
      "                        \n",
      "                        <li>\n",
      "                            <span class=\"release-number\"><a href=\"/downloads/release/python-347/\">Python 3.4.7</a></span>\n",
      "                            <span class=\"release-date\">Aug. 9, 2017</span>\n",
      "                            <span class=\"release-download\"><a href=\"/downloads/release/python-347/\"><span aria-hidden=\"true\" class=\"icon-download\"></span> Download</a></span>\n",
      "                            <span class=\"release-enhancements\"><a href=\"https://docs.python.org/3.4/whatsnew/changelog.html#python-3-4-7\">Release Notes</a></span>\n",
      "                        </li>\n",
      "                        \n",
      "                        <li>\n",
      "                            <span class=\"release-number\"><a href=\"/downloads/release/python-354/\">Python 3.5.4</a></span>\n",
      "                            <span class=\"release-date\">Aug. 8, 2017</span>\n",
      "                            <span class=\"release-download\"><a href=\"/downloads/release/python-354/\"><span aria-hidden=\"true\" class=\"icon-download\"></span> Download</a></span>\n",
      "                            <span class=\"release-enhancements\"><a href=\"https://docs.python.org/3.5/whatsnew/changelog.html#python-3-5-4\">Release Notes</a></span>\n",
      "                        </li>\n",
      "                        \n",
      "                        <li>\n",
      "                            <span class=\"release-number\"><a href=\"/downloads/release/python-362/\">Python 3.6.2</a></span>\n",
      "                            <span class=\"release-date\">July 17, 2017</span>\n",
      "                            <span class=\"release-download\"><a href=\"/downloads/release/python-362/\"><span aria-hidden=\"true\" class=\"icon-download\"></span> Download</a></span>\n",
      "                            <span class=\"release-enhancements\"><a href=\"https://docs.python.org/3.6/whatsnew/changelog.html#python-3-6-2-final\">Release Notes</a></span>\n",
      "                        </li>\n",
      "                        \n",
      "                        <li>\n",
      "                            <span class=\"release-number\"><a href=\"/downloads/release/python-361/\">Python 3.6.1</a></span>\n",
      "                            <span class=\"release-date\">March 21, 2017</span>\n",
      "                            <span class=\"release-download\"><a href=\"/downloads/release/python-361/\"><span aria-hidden=\"true\" class=\"icon-download\"></span> Download</a></span>\n",
      "                            <span class=\"release-enhancements\"><a href=\"https://docs.python.org/3.6/whatsnew/changelog.html#python-3-6-1-final\">Release Notes</a></span>\n",
      "                        </li>\n",
      "                        \n",
      "                        <li>\n",
      "                            <span class=\"release-number\"><a href=\"/downloads/release/python-346/\">Python 3.4.6</a></span>\n",
      "                            <span class=\"release-date\">Jan. 17, 2017</span>\n",
      "                            <span class=\"release-download\"><a href=\"/downloads/release/python-346/\"><span aria-hidden=\"true\" class=\"icon-download\"></span> Download</a></span>\n",
      "                            <span class=\"release-enhancements\"><a href=\"https://docs.python.org/3.4/whatsnew/changelog.html#python-3-4-6\">Release Notes</a></span>\n",
      "                        </li>\n",
      "                        \n",
      "                        <li>\n",
      "                            <span class=\"release-number\"><a href=\"/downloads/release/python-353/\">Python 3.5.3</a></span>\n",
      "                            <span class=\"release-date\">Jan. 17, 2017</span>\n",
      "                            <span class=\"release-download\"><a href=\"/downloads/release/python-353/\"><span aria-hidden=\"true\" class=\"icon-download\"></span> Download</a></span>\n",
      "                            <span class=\"release-enhancements\"><a href=\"https://docs.python.org/3.5/whatsnew/changelog.html#python-3-5-3\">Release Notes</a></span>\n",
      "                        </li>\n",
      "                        \n",
      "                        <li>\n",
      "                            <span class=\"release-number\"><a href=\"/downloads/release/python-360/\">Python 3.6.0</a></span>\n",
      "                            <span class=\"release-date\">Dec. 23, 2016</span>\n",
      "                            <span class=\"release-download\"><a href=\"/downloads/release/python-360/\"><span aria-hidden=\"true\" class=\"icon-download\"></span> Download</a></span>\n",
      "                            <span class=\"release-enhancements\"><a href=\"https://docs.python.org/3.6/whatsnew/changelog.html#python-3-6-0-final\">Release Notes</a></span>\n",
      "                        </li>\n",
      "                        \n",
      "                        <li>\n",
      "                            <span class=\"release-number\"><a href=\"/downloads/release/python-2713/\">Python 2.7.13</a></span>\n",
      "                            <span class=\"release-date\">Dec. 17, 2016</span>\n",
      "                            <span class=\"release-download\"><a href=\"/downloads/release/python-2713/\"><span aria-hidden=\"true\" class=\"icon-download\"></span> Download</a></span>\n",
      "                            <span class=\"release-enhancements\"><a href=\"https://hg.python.org/cpython/raw-file/v2.7.13/Misc/NEWS\">Release Notes</a></span>\n",
      "                        </li>\n",
      "                        \n",
      "                        <li>\n",
      "                            <span class=\"release-number\"><a href=\"/downloads/release/python-345/\">Python 3.4.5</a></span>\n",
      "                            <span class=\"release-date\">June 27, 2016</span>\n",
      "                            <span class=\"release-download\"><a href=\"/downloads/release/python-345/\"><span aria-hidden=\"true\" class=\"icon-download\"></span> Download</a></span>\n",
      "                            <span class=\"release-enhancements\"><a href=\"https://docs.python.org/3.4/whatsnew/changelog.html#python-3-4-5\">Release Notes</a></span>\n",
      "                        </li>\n",
      "                        \n",
      "                        <li>\n",
      "                            <span class=\"release-number\"><a href=\"/downloads/release/python-352/\">Python 3.5.2</a></span>\n",
      "                            <span class=\"release-date\">June 27, 2016</span>\n",
      "                            <span class=\"release-download\"><a href=\"/downloads/release/python-352/\"><span aria-hidden=\"true\" class=\"icon-download\"></span> Download</a></span>\n",
      "                            <span class=\"release-enhancements\"><a href=\"https://docs.python.org/3.5/whatsnew/changelog.html#python-3-5-2\">Release Notes</a></span>\n",
      "                        </li>\n",
      "                        \n",
      "                        <li>\n",
      "                            <span class=\"release-number\"><a href=\"/downloads/release/python-2712/\">Python 2.7.12</a></span>\n",
      "                            <span class=\"release-date\">June 25, 2016</span>\n",
      "                            <span class=\"release-download\"><a href=\"/downloads/release/python-2712/\"><span aria-hidden=\"true\" class=\"icon-download\"></span> Download</a></span>\n",
      "                            <span class=\"release-enhancements\"><a href=\"https://hg.python.org/cpython/raw-file/v2.7.12/Misc/NEWS\">Release Notes</a></span>\n",
      "                        </li>\n",
      "                        \n",
      "                        <li>\n",
      "                            <span class=\"release-number\"><a href=\"/downloads/release/python-344/\">Python 3.4.4</a></span>\n",
      "                            <span class=\"release-date\">Dec. 21, 2015</span>\n",
      "                            <span class=\"release-download\"><a href=\"/downloads/release/python-344/\"><span aria-hidden=\"true\" class=\"icon-download\"></span> Download</a></span>\n",
      "                            <span class=\"release-enhancements\"><a href=\"https://docs.python.org/3.4/whatsnew/changelog.html#python-3-4-4\">Release Notes</a></span>\n",
      "                        </li>\n",
      "                        \n",
      "                        <li>\n",
      "                            <span class=\"release-number\"><a href=\"/downloads/release/python-351/\">Python 3.5.1</a></span>\n",
      "                            <span class=\"release-date\">Dec. 7, 2015</span>\n",
      "                            <span class=\"release-download\"><a href=\"/downloads/release/python-351/\"><span aria-hidden=\"true\" class=\"icon-download\"></span> Download</a></span>\n",
      "                            <span class=\"release-enhancements\"><a href=\"https://docs.python.org/3.5/whatsnew/changelog.html#python-3-5-1-final\">Release Notes</a></span>\n",
      "                        </li>\n",
      "                        \n",
      "                        <li>\n",
      "                            <span class=\"release-number\"><a href=\"/downloads/release/python-2711/\">Python 2.7.11</a></span>\n",
      "                            <span class=\"release-date\">Dec. 5, 2015</span>\n",
      "                            <span class=\"release-download\"><a href=\"/downloads/release/python-2711/\"><span aria-hidden=\"true\" class=\"icon-download\"></span> Download</a></span>\n",
      "                            <span class=\"release-enhancements\"><a href=\"https://hg.python.org/cpython/raw-file/53d30ab403f1/Misc/NEWS\">Release Notes</a></span>\n",
      "                        </li>\n",
      "                        \n",
      "                        <li>\n",
      "                            <span class=\"release-number\"><a href=\"/downloads/release/python-350/\">Python 3.5.0</a></span>\n",
      "                            <span class=\"release-date\">Sept. 13, 2015</span>\n",
      "                            <span class=\"release-download\"><a href=\"/downloads/release/python-350/\"><span aria-hidden=\"true\" class=\"icon-download\"></span> Download</a></span>\n",
      "                            <span class=\"release-enhancements\"><a href=\"https://docs.python.org/3.5/whatsnew/changelog.html#python-3-5-0-final\">Release Notes</a></span>\n",
      "                        </li>\n",
      "                        \n",
      "                        <li>\n",
      "                            <span class=\"release-number\"><a href=\"/downloads/release/python-2710/\">Python 2.7.10</a></span>\n",
      "                            <span class=\"release-date\">May 23, 2015</span>\n",
      "                            <span class=\"release-download\"><a href=\"/downloads/release/python-2710/\"><span aria-hidden=\"true\" class=\"icon-download\"></span> Download</a></span>\n",
      "                            <span class=\"release-enhancements\"><a href=\"https://hg.python.org/cpython/raw-file/15c95b7d81dc/Misc/NEWS\">Release Notes</a></span>\n",
      "                        </li>\n",
      "                        \n",
      "                        <li>\n",
      "                            <span class=\"release-number\"><a href=\"/downloads/release/python-343/\">Python 3.4.3</a></span>\n",
      "                            <span class=\"release-date\">Feb. 25, 2015</span>\n",
      "                            <span class=\"release-download\"><a href=\"/downloads/release/python-343/\"><span aria-hidden=\"true\" class=\"icon-download\"></span> Download</a></span>\n",
      "                            <span class=\"release-enhancements\"><a href=\"https://docs.python.org/3.4/whatsnew/changelog.html#python-3-4-3\">Release Notes</a></span>\n",
      "                        </li>\n",
      "                        \n",
      "                        <li>\n",
      "                            <span class=\"release-number\"><a href=\"/downloads/release/python-279/\">Python 2.7.9</a></span>\n",
      "                            <span class=\"release-date\">Dec. 10, 2014</span>\n",
      "                            <span class=\"release-download\"><a href=\"/downloads/release/python-279/\"><span aria-hidden=\"true\" class=\"icon-download\"></span> Download</a></span>\n",
      "                            <span class=\"release-enhancements\"><a href=\"https://hg.python.org/cpython/raw-file/v2.7.9/Misc/NEWS\">Release Notes</a></span>\n",
      "                        </li>\n",
      "                        \n",
      "                        <li>\n",
      "                            <span class=\"release-number\"><a href=\"/downloads/release/python-342/\">Python 3.4.2</a></span>\n",
      "                            <span class=\"release-date\">Oct. 13, 2014</span>\n",
      "                            <span class=\"release-download\"><a href=\"/downloads/release/python-342/\"><span aria-hidden=\"true\" class=\"icon-download\"></span> Download</a></span>\n",
      "                            <span class=\"release-enhancements\"><a href=\"https://docs.python.org/3.4/whatsnew/changelog.html#python-3-4-2\">Release Notes</a></span>\n",
      "                        </li>\n",
      "                        \n",
      "                        <li>\n",
      "                            <span class=\"release-number\"><a href=\"/downloads/release/python-336/\">Python 3.3.6</a></span>\n",
      "                            <span class=\"release-date\">Oct. 12, 2014</span>\n",
      "                            <span class=\"release-download\"><a href=\"/downloads/release/python-336/\"><span aria-hidden=\"true\" class=\"icon-download\"></span> Download</a></span>\n",
      "                            <span class=\"release-enhancements\"><a href=\"https://hg.python.org/cpython/file/v3.3.6/Misc/NEWS\">Release Notes</a></span>\n",
      "                        </li>\n",
      "                        \n",
      "                        <li>\n",
      "                            <span class=\"release-number\"><a href=\"/downloads/release/python-326/\">Python 3.2.6</a></span>\n",
      "                            <span class=\"release-date\">Oct. 12, 2014</span>\n",
      "                            <span class=\"release-download\"><a href=\"/downloads/release/python-326/\"><span aria-hidden=\"true\" class=\"icon-download\"></span> Download</a></span>\n",
      "                            <span class=\"release-enhancements\"><a href=\"https://hg.python.org/cpython/file/v3.2.6/Misc/NEWS\">Release Notes</a></span>\n",
      "                        </li>\n",
      "                        \n",
      "                        <li>\n",
      "                            <span class=\"release-number\"><a href=\"/downloads/release/python-278/\">Python 2.7.8</a></span>\n",
      "                            <span class=\"release-date\">July 2, 2014</span>\n",
      "                            <span class=\"release-download\"><a href=\"/downloads/release/python-278/\"><span aria-hidden=\"true\" class=\"icon-download\"></span> Download</a></span>\n",
      "                            <span class=\"release-enhancements\"><a href=\"http://hg.python.org/cpython/raw-file/v2.7.8/Misc/NEWS\">Release Notes</a></span>\n",
      "                        </li>\n",
      "                        \n",
      "                        <li>\n",
      "                            <span class=\"release-number\"><a href=\"/downloads/release/python-277/\">Python 2.7.7</a></span>\n",
      "                            <span class=\"release-date\">June 1, 2014</span>\n",
      "                            <span class=\"release-download\"><a href=\"/downloads/release/python-277/\"><span aria-hidden=\"true\" class=\"icon-download\"></span> Download</a></span>\n",
      "                            <span class=\"release-enhancements\"><a href=\"http://hg.python.org/cpython/raw-file/v2.7.7/Misc/NEWS\">Release Notes</a></span>\n",
      "                        </li>\n",
      "                        \n",
      "                        <li>\n",
      "                            <span class=\"release-number\"><a href=\"/downloads/release/python-341/\">Python 3.4.1</a></span>\n",
      "                            <span class=\"release-date\">May 19, 2014</span>\n",
      "                            <span class=\"release-download\"><a href=\"/downloads/release/python-341/\"><span aria-hidden=\"true\" class=\"icon-download\"></span> Download</a></span>\n",
      "                            <span class=\"release-enhancements\"><a href=\"https://docs.python.org/3.4/whatsnew/changelog.html#python-3-4-1\">Release Notes</a></span>\n",
      "                        </li>\n",
      "                        \n",
      "                        <li>\n",
      "                            <span class=\"release-number\"><a href=\"/downloads/release/python-340/\">Python 3.4.0</a></span>\n",
      "                            <span class=\"release-date\">March 17, 2014</span>\n",
      "                            <span class=\"release-download\"><a href=\"/downloads/release/python-340/\"><span aria-hidden=\"true\" class=\"icon-download\"></span> Download</a></span>\n",
      "                            <span class=\"release-enhancements\"><a href=\"https://docs.python.org/3.4/whatsnew/changelog.html#python-3-4-0\">Release Notes</a></span>\n",
      "                        </li>\n",
      "                        \n",
      "                        <li>\n",
      "                            <span class=\"release-number\"><a href=\"/downloads/release/python-335/\">Python 3.3.5</a></span>\n",
      "                            <span class=\"release-date\">March 9, 2014</span>\n",
      "                            <span class=\"release-download\"><a href=\"/downloads/release/python-335/\"><span aria-hidden=\"true\" class=\"icon-download\"></span> Download</a></span>\n",
      "                            <span class=\"release-enhancements\"><a href=\"https://docs.python.org/release/3.3.5/whatsnew/changelog.html\">Release Notes</a></span>\n",
      "                        </li>\n",
      "                        \n",
      "                        <li>\n",
      "                            <span class=\"release-number\"><a href=\"/downloads/release/python-334/\">Python 3.3.4</a></span>\n",
      "                            <span class=\"release-date\">Feb. 9, 2014</span>\n",
      "                            <span class=\"release-download\"><a href=\"/downloads/release/python-334/\"><span aria-hidden=\"true\" class=\"icon-download\"></span> Download</a></span>\n",
      "                            <span class=\"release-enhancements\"><a href=\"https://docs.python.org/release/3.3.4/whatsnew/changelog.html\">Release Notes</a></span>\n",
      "                        </li>\n",
      "                        \n",
      "                        <li>\n",
      "                            <span class=\"release-number\"><a href=\"/downloads/release/python-333/\">Python 3.3.3</a></span>\n",
      "                            <span class=\"release-date\">Nov. 17, 2013</span>\n",
      "                            <span class=\"release-download\"><a href=\"/downloads/release/python-333/\"><span aria-hidden=\"true\" class=\"icon-download\"></span> Download</a></span>\n",
      "                            <span class=\"release-enhancements\"><a href=\"https://docs.python.org/release/3.3.3/whatsnew/changelog.html\">Release Notes</a></span>\n",
      "                        </li>\n",
      "                        \n",
      "                        <li>\n",
      "                            <span class=\"release-number\"><a href=\"/downloads/release/python-276/\">Python 2.7.6</a></span>\n",
      "                            <span class=\"release-date\">Nov. 10, 2013</span>\n",
      "                            <span class=\"release-download\"><a href=\"/downloads/release/python-276/\"><span aria-hidden=\"true\" class=\"icon-download\"></span> Download</a></span>\n",
      "                            <span class=\"release-enhancements\"><a href=\"http://hg.python.org/cpython/raw-file/v2.7.6/Misc/NEWS\">Release Notes</a></span>\n",
      "                        </li>\n",
      "                        \n",
      "                        <li>\n",
      "                            <span class=\"release-number\"><a href=\"/downloads/release/python-269/\">Python 2.6.9</a></span>\n",
      "                            <span class=\"release-date\">Oct. 29, 2013</span>\n",
      "                            <span class=\"release-download\"><a href=\"/downloads/release/python-269/\"><span aria-hidden=\"true\" class=\"icon-download\"></span> Download</a></span>\n",
      "                            <span class=\"release-enhancements\"><a href=\"http://hg.python.org/cpython/raw-file/v2.6.9/Misc/NEWS\">Release Notes</a></span>\n",
      "                        </li>\n",
      "                        \n",
      "                        <li>\n",
      "                            <span class=\"release-number\"><a href=\"/downloads/release/python-325/\">Python 3.2.5</a></span>\n",
      "                            <span class=\"release-date\">May 15, 2013</span>\n",
      "                            <span class=\"release-download\"><a href=\"/downloads/release/python-325/\"><span aria-hidden=\"true\" class=\"icon-download\"></span> Download</a></span>\n",
      "                            <span class=\"release-enhancements\"><a href=\"http://hg.python.org/cpython/raw-file/v3.2.5/Misc/NEWS\">Release Notes</a></span>\n",
      "                        </li>\n",
      "                        \n",
      "                        <li>\n",
      "                            <span class=\"release-number\"><a href=\"/downloads/release/python-332/\">Python 3.3.2</a></span>\n",
      "                            <span class=\"release-date\">May 15, 2013</span>\n",
      "                            <span class=\"release-download\"><a href=\"/downloads/release/python-332/\"><span aria-hidden=\"true\" class=\"icon-download\"></span> Download</a></span>\n",
      "                            <span class=\"release-enhancements\"><a href=\"https://docs.python.org/release/3.3.2/whatsnew/changelog.html\">Release Notes</a></span>\n",
      "                        </li>\n",
      "                        \n",
      "                        <li>\n",
      "                            <span class=\"release-number\"><a href=\"/downloads/release/python-275/\">Python 2.7.5</a></span>\n",
      "                            <span class=\"release-date\">May 12, 2013</span>\n",
      "                            <span class=\"release-download\"><a href=\"/downloads/release/python-275/\"><span aria-hidden=\"true\" class=\"icon-download\"></span> Download</a></span>\n",
      "                            <span class=\"release-enhancements\"><a href=\"http://hg.python.org/cpython/raw-file/v2.7.5/Misc/NEWS\">Release Notes</a></span>\n",
      "                        </li>\n",
      "                        \n",
      "                        <li>\n",
      "                            <span class=\"release-number\"><a href=\"/downloads/release/python-324/\">Python 3.2.4</a></span>\n",
      "                            <span class=\"release-date\">April 6, 2013</span>\n",
      "                            <span class=\"release-download\"><a href=\"/downloads/release/python-324/\"><span aria-hidden=\"true\" class=\"icon-download\"></span> Download</a></span>\n",
      "                            <span class=\"release-enhancements\"><a href=\"http://hg.python.org/cpython/raw-file/v3.2.4/Misc/NEWS\">Release Notes</a></span>\n",
      "                        </li>\n",
      "                        \n",
      "                        <li>\n",
      "                            <span class=\"release-number\"><a href=\"/downloads/release/python-331/\">Python 3.3.1</a></span>\n",
      "                            <span class=\"release-date\">April 6, 2013</span>\n",
      "                            <span class=\"release-download\"><a href=\"/downloads/release/python-331/\"><span aria-hidden=\"true\" class=\"icon-download\"></span> Download</a></span>\n",
      "                            <span class=\"release-enhancements\"><a href=\"https://docs.python.org/release/3.3.1/whatsnew/changelog.html\">Release Notes</a></span>\n",
      "                        </li>\n",
      "                        \n",
      "                        <li>\n",
      "                            <span class=\"release-number\"><a href=\"/downloads/release/python-274/\">Python 2.7.4</a></span>\n",
      "                            <span class=\"release-date\">April 6, 2013</span>\n",
      "                            <span class=\"release-download\"><a href=\"/downloads/release/python-274/\"><span aria-hidden=\"true\" class=\"icon-download\"></span> Download</a></span>\n",
      "                            <span class=\"release-enhancements\"><a href=\"http://hg.python.org/cpython/raw-file/v2.7.4/Misc/NEWS\">Release Notes</a></span>\n",
      "                        </li>\n",
      "                        \n",
      "                        <li>\n",
      "                            <span class=\"release-number\"><a href=\"/downloads/release/python-330/\">Python 3.3.0</a></span>\n",
      "                            <span class=\"release-date\">Sept. 29, 2012</span>\n",
      "                            <span class=\"release-download\"><a href=\"/downloads/release/python-330/\"><span aria-hidden=\"true\" class=\"icon-download\"></span> Download</a></span>\n",
      "                            <span class=\"release-enhancements\"><a href=\"http://hg.python.org/cpython/raw-file/v3.3.0/Misc/NEWS\">Release Notes</a></span>\n",
      "                        </li>\n",
      "                        \n",
      "                        <li>\n",
      "                            <span class=\"release-number\"><a href=\"/downloads/release/python-268/\">Python 2.6.8</a></span>\n",
      "                            <span class=\"release-date\">April 10, 2012</span>\n",
      "                            <span class=\"release-download\"><a href=\"/downloads/release/python-268/\"><span aria-hidden=\"true\" class=\"icon-download\"></span> Download</a></span>\n",
      "                            <span class=\"release-enhancements\"><a href=\"http://hg.python.org/cpython/raw-file/v2.6.8/Misc/NEWS\">Release Notes</a></span>\n",
      "                        </li>\n",
      "                        \n",
      "                        <li>\n",
      "                            <span class=\"release-number\"><a href=\"/downloads/release/python-323/\">Python 3.2.3</a></span>\n",
      "                            <span class=\"release-date\">April 10, 2012</span>\n",
      "                            <span class=\"release-download\"><a href=\"/downloads/release/python-323/\"><span aria-hidden=\"true\" class=\"icon-download\"></span> Download</a></span>\n",
      "                            <span class=\"release-enhancements\"><a href=\"http://hg.python.org/cpython/raw-file/v3.2.3/Misc/NEWS\">Release Notes</a></span>\n",
      "                        </li>\n",
      "                        \n",
      "                        <li>\n",
      "                            <span class=\"release-number\"><a href=\"/downloads/release/python-273/\">Python 2.7.3</a></span>\n",
      "                            <span class=\"release-date\">April 9, 2012</span>\n",
      "                            <span class=\"release-download\"><a href=\"/downloads/release/python-273/\"><span aria-hidden=\"true\" class=\"icon-download\"></span> Download</a></span>\n",
      "                            <span class=\"release-enhancements\"><a href=\"http://hg.python.org/cpython/raw-file/v2.7.3/Misc/NEWS\">Release Notes</a></span>\n",
      "                        </li>\n",
      "                        \n",
      "                        <li>\n",
      "                            <span class=\"release-number\"><a href=\"/downloads/release/python-315/\">Python 3.1.5</a></span>\n",
      "                            <span class=\"release-date\">April 9, 2012</span>\n",
      "                            <span class=\"release-download\"><a href=\"/downloads/release/python-315/\"><span aria-hidden=\"true\" class=\"icon-download\"></span> Download</a></span>\n",
      "                            <span class=\"release-enhancements\"><a href=\"http://hg.python.org/cpython/raw-file/v3.1.5/Misc/NEWS\">Release Notes</a></span>\n",
      "                        </li>\n",
      "                        \n",
      "                        <li>\n",
      "                            <span class=\"release-number\"><a href=\"/downloads/release/python-322/\">Python 3.2.2</a></span>\n",
      "                            <span class=\"release-date\">Sept. 3, 2011</span>\n",
      "                            <span class=\"release-download\"><a href=\"/downloads/release/python-322/\"><span aria-hidden=\"true\" class=\"icon-download\"></span> Download</a></span>\n",
      "                            <span class=\"release-enhancements\"><a href=\"http://hg.python.org/cpython/raw-file/v3.2.2/Misc/NEWS\">Release Notes</a></span>\n",
      "                        </li>\n",
      "                        \n",
      "                        <li>\n",
      "                            <span class=\"release-number\"><a href=\"/downloads/release/python-321/\">Python 3.2.1</a></span>\n",
      "                            <span class=\"release-date\">July 9, 2011</span>\n",
      "                            <span class=\"release-download\"><a href=\"/downloads/release/python-321/\"><span aria-hidden=\"true\" class=\"icon-download\"></span> Download</a></span>\n",
      "                            <span class=\"release-enhancements\"><a href=\"http://hg.python.org/cpython/raw-file/v3.2.1/Misc/NEWS\">Release Notes</a></span>\n",
      "                        </li>\n",
      "                        \n",
      "                        <li>\n",
      "                            <span class=\"release-number\"><a href=\"/downloads/release/python-272/\">Python 2.7.2</a></span>\n",
      "                            <span class=\"release-date\">June 11, 2011</span>\n",
      "                            <span class=\"release-download\"><a href=\"/downloads/release/python-272/\"><span aria-hidden=\"true\" class=\"icon-download\"></span> Download</a></span>\n",
      "                            <span class=\"release-enhancements\"><a href=\"http://hg.python.org/cpython/raw-file/v2.7.2/Misc/NEWS\">Release Notes</a></span>\n",
      "                        </li>\n",
      "                        \n",
      "                        <li>\n",
      "                            <span class=\"release-number\"><a href=\"/downloads/release/python-314/\">Python 3.1.4</a></span>\n",
      "                            <span class=\"release-date\">June 11, 2011</span>\n",
      "                            <span class=\"release-download\"><a href=\"/downloads/release/python-314/\"><span aria-hidden=\"true\" class=\"icon-download\"></span> Download</a></span>\n",
      "                            <span class=\"release-enhancements\"><a href=\"http://hg.python.org/cpython/raw-file/v3.1.4/Misc/NEWS\">Release Notes</a></span>\n",
      "                        </li>\n",
      "                        \n",
      "                        <li>\n",
      "                            <span class=\"release-number\"><a href=\"/downloads/release/python-267/\">Python 2.6.7</a></span>\n",
      "                            <span class=\"release-date\">June 3, 2011</span>\n",
      "                            <span class=\"release-download\"><a href=\"/downloads/release/python-267/\"><span aria-hidden=\"true\" class=\"icon-download\"></span> Download</a></span>\n",
      "                            <span class=\"release-enhancements\"><a href=\"http://hg.python.org/cpython/raw-file/v2.6.7/Misc/NEWS\">Release Notes</a></span>\n",
      "                        </li>\n",
      "                        \n",
      "                        <li>\n",
      "                            <span class=\"release-number\"><a href=\"/downloads/release/python-256/\">Python 2.5.6</a></span>\n",
      "                            <span class=\"release-date\">May 26, 2011</span>\n",
      "                            <span class=\"release-download\"><a href=\"/downloads/release/python-256/\"><span aria-hidden=\"true\" class=\"icon-download\"></span> Download</a></span>\n",
      "                            <span class=\"release-enhancements\"><a href=\"http://hg.python.org/cpython/raw-file/v2.5.6/Misc/NEWS\">Release Notes</a></span>\n",
      "                        </li>\n",
      "                        \n",
      "                        <li>\n",
      "                            <span class=\"release-number\"><a href=\"/downloads/release/python-320/\">Python 3.2.0</a></span>\n",
      "                            <span class=\"release-date\">Feb. 20, 2011</span>\n",
      "                            <span class=\"release-download\"><a href=\"/downloads/release/python-320/\"><span aria-hidden=\"true\" class=\"icon-download\"></span> Download</a></span>\n",
      "                            <span class=\"release-enhancements\"><a href=\"http://hg.python.org/cpython/raw-file/v3.2/Misc/NEWS\">Release Notes</a></span>\n",
      "                        </li>\n",
      "                        \n",
      "                        <li>\n",
      "                            <span class=\"release-number\"><a href=\"/downloads/release/python-271/\">Python 2.7.1</a></span>\n",
      "                            <span class=\"release-date\">Nov. 27, 2010</span>\n",
      "                            <span class=\"release-download\"><a href=\"/downloads/release/python-271/\"><span aria-hidden=\"true\" class=\"icon-download\"></span> Download</a></span>\n",
      "                            <span class=\"release-enhancements\"><a href=\"http://hg.python.org/cpython/raw-file/v2.7.1/Misc/NEWS\">Release Notes</a></span>\n",
      "                        </li>\n",
      "                        \n",
      "                        <li>\n",
      "                            <span class=\"release-number\"><a href=\"/downloads/release/python-313/\">Python 3.1.3</a></span>\n",
      "                            <span class=\"release-date\">Nov. 27, 2010</span>\n",
      "                            <span class=\"release-download\"><a href=\"/downloads/release/python-313/\"><span aria-hidden=\"true\" class=\"icon-download\"></span> Download</a></span>\n",
      "                            <span class=\"release-enhancements\"><a href=\"http://hg.python.org/cpython/raw-file/v3.1.3/Misc/NEWS\">Release Notes</a></span>\n",
      "                        </li>\n",
      "                        \n",
      "                        <li>\n",
      "                            <span class=\"release-number\"><a href=\"/downloads/release/python-266/\">Python 2.6.6</a></span>\n",
      "                            <span class=\"release-date\">Aug. 24, 2010</span>\n",
      "                            <span class=\"release-download\"><a href=\"/downloads/release/python-266/\"><span aria-hidden=\"true\" class=\"icon-download\"></span> Download</a></span>\n",
      "                            <span class=\"release-enhancements\"><a href=\"http://hg.python.org/cpython/raw-file/v2.6.6/Misc/NEWS\">Release Notes</a></span>\n",
      "                        </li>\n",
      "                        \n",
      "                        <li>\n",
      "                            <span class=\"release-number\"><a href=\"/downloads/release/python-270/\">Python 2.7.0</a></span>\n",
      "                            <span class=\"release-date\">July 3, 2010</span>\n",
      "                            <span class=\"release-download\"><a href=\"/downloads/release/python-270/\"><span aria-hidden=\"true\" class=\"icon-download\"></span> Download</a></span>\n",
      "                            <span class=\"release-enhancements\"><a href=\"http://hg.python.org/cpython/raw-file/v2.7/Misc/NEWS\">Release Notes</a></span>\n",
      "                        </li>\n",
      "                        \n",
      "                        <li>\n",
      "                            <span class=\"release-number\"><a href=\"/downloads/release/python-312/\">Python 3.1.2</a></span>\n",
      "                            <span class=\"release-date\">March 20, 2010</span>\n",
      "                            <span class=\"release-download\"><a href=\"/downloads/release/python-312/\"><span aria-hidden=\"true\" class=\"icon-download\"></span> Download</a></span>\n",
      "                            <span class=\"release-enhancements\"><a href=\"http://hg.python.org/cpython/raw-file/v3.1.2/Misc/NEWS\">Release Notes</a></span>\n",
      "                        </li>\n",
      "                        \n",
      "                        <li>\n",
      "                            <span class=\"release-number\"><a href=\"/downloads/release/python-265/\">Python 2.6.5</a></span>\n",
      "                            <span class=\"release-date\">March 18, 2010</span>\n",
      "                            <span class=\"release-download\"><a href=\"/downloads/release/python-265/\"><span aria-hidden=\"true\" class=\"icon-download\"></span> Download</a></span>\n",
      "                            <span class=\"release-enhancements\"><a href=\"http://hg.python.org/cpython/raw-file/v2.6.5/Misc/NEWS\">Release Notes</a></span>\n",
      "                        </li>\n",
      "                        \n",
      "                        <li>\n",
      "                            <span class=\"release-number\"><a href=\"/downloads/release/python-255/\">Python 2.5.5</a></span>\n",
      "                            <span class=\"release-date\">Jan. 31, 2010</span>\n",
      "                            <span class=\"release-download\"><a href=\"/downloads/release/python-255/\"><span aria-hidden=\"true\" class=\"icon-download\"></span> Download</a></span>\n",
      "                            <span class=\"release-enhancements\"><a href=\"http://hg.python.org/cpython/raw-file/v2.5.5/Misc/NEWS\">Release Notes</a></span>\n",
      "                        </li>\n",
      "                        \n",
      "                        <li>\n",
      "                            <span class=\"release-number\"><a href=\"/downloads/release/python-264/\">Python 2.6.4</a></span>\n",
      "                            <span class=\"release-date\">Oct. 26, 2009</span>\n",
      "                            <span class=\"release-download\"><a href=\"/downloads/release/python-264/\"><span aria-hidden=\"true\" class=\"icon-download\"></span> Download</a></span>\n",
      "                            <span class=\"release-enhancements\"><a href=\"http://hg.python.org/cpython/raw-file/v2.6.4/Misc/NEWS\">Release Notes</a></span>\n",
      "                        </li>\n",
      "                        \n",
      "                        <li>\n",
      "                            <span class=\"release-number\"><a href=\"/downloads/release/python-263/\">Python 2.6.3</a></span>\n",
      "                            <span class=\"release-date\">Oct. 2, 2009</span>\n",
      "                            <span class=\"release-download\"><a href=\"/downloads/release/python-263/\"><span aria-hidden=\"true\" class=\"icon-download\"></span> Download</a></span>\n",
      "                            <span class=\"release-enhancements\"><a href=\"http://hg.python.org/cpython/raw-file/v2.6.3/Misc/NEWS\">Release Notes</a></span>\n",
      "                        </li>\n",
      "                        \n",
      "                        <li>\n",
      "                            <span class=\"release-number\"><a href=\"/downloads/release/python-311/\">Python 3.1.1</a></span>\n",
      "                            <span class=\"release-date\">Aug. 17, 2009</span>\n",
      "                            <span class=\"release-download\"><a href=\"/downloads/release/python-311/\"><span aria-hidden=\"true\" class=\"icon-download\"></span> Download</a></span>\n",
      "                            <span class=\"release-enhancements\"><a href=\"http://hg.python.org/cpython/raw-file/v3.1.1/Misc/NEWS\">Release Notes</a></span>\n",
      "                        </li>\n",
      "                        \n",
      "                        <li>\n",
      "                            <span class=\"release-number\"><a href=\"/downloads/release/python-310/\">Python 3.1.0</a></span>\n",
      "                            <span class=\"release-date\">June 26, 2009</span>\n",
      "                            <span class=\"release-download\"><a href=\"/downloads/release/python-310/\"><span aria-hidden=\"true\" class=\"icon-download\"></span> Download</a></span>\n",
      "                            <span class=\"release-enhancements\"><a href=\"http://hg.python.org/cpython/raw-file/v3.1/Misc/NEWS\">Release Notes</a></span>\n",
      "                        </li>\n",
      "                        \n",
      "                        <li>\n",
      "                            <span class=\"release-number\"><a href=\"/downloads/release/python-262/\">Python 2.6.2</a></span>\n",
      "                            <span class=\"release-date\">April 14, 2009</span>\n",
      "                            <span class=\"release-download\"><a href=\"/downloads/release/python-262/\"><span aria-hidden=\"true\" class=\"icon-download\"></span> Download</a></span>\n",
      "                            <span class=\"release-enhancements\"><a href=\"http://hg.python.org/cpython/raw-file/v2.6.2/Misc/NEWS\">Release Notes</a></span>\n",
      "                        </li>\n",
      "                        \n",
      "                        <li>\n",
      "                            <span class=\"release-number\"><a href=\"/downloads/release/python-301/\">Python 3.0.1</a></span>\n",
      "                            <span class=\"release-date\">Feb. 13, 2009</span>\n",
      "                            <span class=\"release-download\"><a href=\"/downloads/release/python-301/\"><span aria-hidden=\"true\" class=\"icon-download\"></span> Download</a></span>\n",
      "                            <span class=\"release-enhancements\"><a href=\"http://hg.python.org/cpython/raw-file/v3.0.1/Misc/NEWS\">Release Notes</a></span>\n",
      "                        </li>\n",
      "                        \n",
      "                        <li>\n",
      "                            <span class=\"release-number\"><a href=\"/downloads/release/python-254/\">Python 2.5.4</a></span>\n",
      "                            <span class=\"release-date\">Dec. 23, 2008</span>\n",
      "                            <span class=\"release-download\"><a href=\"/downloads/release/python-254/\"><span aria-hidden=\"true\" class=\"icon-download\"></span> Download</a></span>\n",
      "                            <span class=\"release-enhancements\"><a href=\"http://hg.python.org/cpython/raw-file/v2.5.4/Misc/NEWS\">Release Notes</a></span>\n",
      "                        </li>\n",
      "                        \n",
      "                        <li>\n",
      "                            <span class=\"release-number\"><a href=\"/downloads/release/python-253/\">Python 2.5.3</a></span>\n",
      "                            <span class=\"release-date\">Dec. 19, 2008</span>\n",
      "                            <span class=\"release-download\"><a href=\"/downloads/release/python-253/\"><span aria-hidden=\"true\" class=\"icon-download\"></span> Download</a></span>\n",
      "                            <span class=\"release-enhancements\"><a href=\"http://hg.python.org/cpython/raw-file/v2.5.3/Misc/NEWS\">Release Notes</a></span>\n",
      "                        </li>\n",
      "                        \n",
      "                        <li>\n",
      "                            <span class=\"release-number\"><a href=\"/downloads/release/python-246/\">Python 2.4.6</a></span>\n",
      "                            <span class=\"release-date\">Dec. 19, 2008</span>\n",
      "                            <span class=\"release-download\"><a href=\"/downloads/release/python-246/\"><span aria-hidden=\"true\" class=\"icon-download\"></span> Download</a></span>\n",
      "                            <span class=\"release-enhancements\"><a href=\"http://hg.python.org/cpython/raw-file/v2.4.6/Misc/NEWS\">Release Notes</a></span>\n",
      "                        </li>\n",
      "                        \n",
      "                        <li>\n",
      "                            <span class=\"release-number\"><a href=\"/downloads/release/python-261/\">Python 2.6.1</a></span>\n",
      "                            <span class=\"release-date\">Dec. 4, 2008</span>\n",
      "                            <span class=\"release-download\"><a href=\"/downloads/release/python-261/\"><span aria-hidden=\"true\" class=\"icon-download\"></span> Download</a></span>\n",
      "                            <span class=\"release-enhancements\"><a href=\"http://hg.python.org/cpython/raw-file/v2.6.1/Misc/NEWS\">Release Notes</a></span>\n",
      "                        </li>\n",
      "                        \n",
      "                        <li>\n",
      "                            <span class=\"release-number\"><a href=\"/downloads/release/python-300/\">Python 3.0.0</a></span>\n",
      "                            <span class=\"release-date\">Dec. 3, 2008</span>\n",
      "                            <span class=\"release-download\"><a href=\"/downloads/release/python-300/\"><span aria-hidden=\"true\" class=\"icon-download\"></span> Download</a></span>\n",
      "                            <span class=\"release-enhancements\"><a href=\"http://hg.python.org/cpython/raw-file/v3.0/Misc/NEWS\">Release Notes</a></span>\n",
      "                        </li>\n",
      "                        \n",
      "                        <li>\n",
      "                            <span class=\"release-number\"><a href=\"/downloads/release/python-260/\">Python 2.6.0</a></span>\n",
      "                            <span class=\"release-date\">Oct. 2, 2008</span>\n",
      "                            <span class=\"release-download\"><a href=\"/downloads/release/python-260/\"><span aria-hidden=\"true\" class=\"icon-download\"></span> Download</a></span>\n",
      "                            <span class=\"release-enhancements\"><a href=\"http://hg.python.org/cpython/raw-file/v2.6/Misc/NEWS\">Release Notes</a></span>\n",
      "                        </li>\n",
      "                        \n",
      "                        <li>\n",
      "                            <span class=\"release-number\"><a href=\"/downloads/release/python-237/\">Python 2.3.7</a></span>\n",
      "                            <span class=\"release-date\">March 11, 2008</span>\n",
      "                            <span class=\"release-download\"><a href=\"/downloads/release/python-237/\"><span aria-hidden=\"true\" class=\"icon-download\"></span> Download</a></span>\n",
      "                            <span class=\"release-enhancements\"><a href=\"http://hg.python.org/cpython/raw-file/v2.3.7/Misc/NEWS\">Release Notes</a></span>\n",
      "                        </li>\n",
      "                        \n",
      "                        <li>\n",
      "                            <span class=\"release-number\"><a href=\"/downloads/release/python-245/\">Python 2.4.5</a></span>\n",
      "                            <span class=\"release-date\">March 11, 2008</span>\n",
      "                            <span class=\"release-download\"><a href=\"/downloads/release/python-245/\"><span aria-hidden=\"true\" class=\"icon-download\"></span> Download</a></span>\n",
      "                            <span class=\"release-enhancements\"><a href=\"http://hg.python.org/cpython/raw-file/v2.4.5/Misc/NEWS\">Release Notes</a></span>\n",
      "                        </li>\n",
      "                        \n",
      "                        <li>\n",
      "                            <span class=\"release-number\"><a href=\"/downloads/release/python-252/\">Python 2.5.2</a></span>\n",
      "                            <span class=\"release-date\">Feb. 21, 2008</span>\n",
      "                            <span class=\"release-download\"><a href=\"/downloads/release/python-252/\"><span aria-hidden=\"true\" class=\"icon-download\"></span> Download</a></span>\n",
      "                            <span class=\"release-enhancements\"><a href=\"http://hg.python.org/cpython/raw-file/v2.5.2/Misc/NEWS\">Release Notes</a></span>\n",
      "                        </li>\n",
      "                        \n",
      "                        <li>\n",
      "                            <span class=\"release-number\"><a href=\"/downloads/release/python-251/\">Python 2.5.1</a></span>\n",
      "                            <span class=\"release-date\">April 19, 2007</span>\n",
      "                            <span class=\"release-download\"><a href=\"/downloads/release/python-251/\"><span aria-hidden=\"true\" class=\"icon-download\"></span> Download</a></span>\n",
      "                            <span class=\"release-enhancements\"><a href=\"http://hg.python.org/cpython/raw-file/v2.5.1/Misc/NEWS\">Release Notes</a></span>\n",
      "                        </li>\n",
      "                        \n",
      "                        <li>\n",
      "                            <span class=\"release-number\"><a href=\"/downloads/release/python-236/\">Python 2.3.6</a></span>\n",
      "                            <span class=\"release-date\">Nov. 1, 2006</span>\n",
      "                            <span class=\"release-download\"><a href=\"/downloads/release/python-236/\"><span aria-hidden=\"true\" class=\"icon-download\"></span> Download</a></span>\n",
      "                            <span class=\"release-enhancements\"><a href=\"http://hg.python.org/cpython/raw-file/v2.3.6/Misc/NEWS\">Release Notes</a></span>\n",
      "                        </li>\n",
      "                        \n",
      "                        <li>\n",
      "                            <span class=\"release-number\"><a href=\"/downloads/release/python-244/\">Python 2.4.4</a></span>\n",
      "                            <span class=\"release-date\">Oct. 18, 2006</span>\n",
      "                            <span class=\"release-download\"><a href=\"/downloads/release/python-244/\"><span aria-hidden=\"true\" class=\"icon-download\"></span> Download</a></span>\n",
      "                            <span class=\"release-enhancements\"><a href=\"http://hg.python.org/cpython/raw-file/v2.4.4/Misc/NEWS\">Release Notes</a></span>\n",
      "                        </li>\n",
      "                        \n",
      "                        <li>\n",
      "                            <span class=\"release-number\"><a href=\"/downloads/release/python-250/\">Python 2.5.0</a></span>\n",
      "                            <span class=\"release-date\">Sept. 19, 2006</span>\n",
      "                            <span class=\"release-download\"><a href=\"/downloads/release/python-250/\"><span aria-hidden=\"true\" class=\"icon-download\"></span> Download</a></span>\n",
      "                            <span class=\"release-enhancements\"><a href=\"http://hg.python.org/cpython/raw-file/v2.5/Misc/NEWS\">Release Notes</a></span>\n",
      "                        </li>\n",
      "                        \n",
      "                        <li>\n",
      "                            <span class=\"release-number\"><a href=\"/downloads/release/python-243/\">Python 2.4.3</a></span>\n",
      "                            <span class=\"release-date\">April 15, 2006</span>\n",
      "                            <span class=\"release-download\"><a href=\"/downloads/release/python-243/\"><span aria-hidden=\"true\" class=\"icon-download\"></span> Download</a></span>\n",
      "                            <span class=\"release-enhancements\"><a href=\"http://hg.python.org/cpython/raw-file/v2.4.3/Misc/NEWS\">Release Notes</a></span>\n",
      "                        </li>\n",
      "                        \n",
      "                        <li>\n",
      "                            <span class=\"release-number\"><a href=\"/downloads/release/python-242/\">Python 2.4.2</a></span>\n",
      "                            <span class=\"release-date\">Sept. 27, 2005</span>\n",
      "                            <span class=\"release-download\"><a href=\"/downloads/release/python-242/\"><span aria-hidden=\"true\" class=\"icon-download\"></span> Download</a></span>\n",
      "                            <span class=\"release-enhancements\"><a href=\"http://hg.python.org/cpython/raw-file/v2.4.2/Misc/NEWS\">Release Notes</a></span>\n",
      "                        </li>\n",
      "                        \n",
      "                        <li>\n",
      "                            <span class=\"release-number\"><a href=\"/downloads/release/python-241/\">Python 2.4.1</a></span>\n",
      "                            <span class=\"release-date\">March 30, 2005</span>\n",
      "                            <span class=\"release-download\"><a href=\"/downloads/release/python-241/\"><span aria-hidden=\"true\" class=\"icon-download\"></span> Download</a></span>\n",
      "                            <span class=\"release-enhancements\"><a href=\"http://hg.python.org/cpython/raw-file/v2.4.1/Misc/NEWS\">Release Notes</a></span>\n",
      "                        </li>\n",
      "                        \n",
      "                        <li>\n",
      "                            <span class=\"release-number\"><a href=\"/downloads/release/python-235/\">Python 2.3.5</a></span>\n",
      "                            <span class=\"release-date\">Feb. 8, 2005</span>\n",
      "                            <span class=\"release-download\"><a href=\"/downloads/release/python-235/\"><span aria-hidden=\"true\" class=\"icon-download\"></span> Download</a></span>\n",
      "                            <span class=\"release-enhancements\"><a href=\"http://hg.python.org/cpython/raw-file/v2.3.5/Misc/NEWS\">Release Notes</a></span>\n",
      "                        </li>\n",
      "                        \n",
      "                        <li>\n",
      "                            <span class=\"release-number\"><a href=\"/downloads/release/python-240/\">Python 2.4.0</a></span>\n",
      "                            <span class=\"release-date\">Nov. 30, 2004</span>\n",
      "                            <span class=\"release-download\"><a href=\"/downloads/release/python-240/\"><span aria-hidden=\"true\" class=\"icon-download\"></span> Download</a></span>\n",
      "                            <span class=\"release-enhancements\"><a href=\"http://hg.python.org/cpython/raw-file/v2.4/Misc/NEWS\">Release Notes</a></span>\n",
      "                        </li>\n",
      "                        \n",
      "                        <li>\n",
      "                            <span class=\"release-number\"><a href=\"/downloads/release/python-234/\">Python 2.3.4</a></span>\n",
      "                            <span class=\"release-date\">May 27, 2004</span>\n",
      "                            <span class=\"release-download\"><a href=\"/downloads/release/python-234/\"><span aria-hidden=\"true\" class=\"icon-download\"></span> Download</a></span>\n",
      "                            <span class=\"release-enhancements\"><a href=\"http://hg.python.org/cpython/raw-file/v2.3.4/Misc/NEWS\">Release Notes</a></span>\n",
      "                        </li>\n",
      "                        \n",
      "                        <li>\n",
      "                            <span class=\"release-number\"><a href=\"/downloads/release/python-233/\">Python 2.3.3</a></span>\n",
      "                            <span class=\"release-date\">Dec. 19, 2003</span>\n",
      "                            <span class=\"release-download\"><a href=\"/downloads/release/python-233/\"><span aria-hidden=\"true\" class=\"icon-download\"></span> Download</a></span>\n",
      "                            <span class=\"release-enhancements\"><a href=\"http://hg.python.org/cpython/raw-file/v2.3.3/Misc/NEWS\">Release Notes</a></span>\n",
      "                        </li>\n",
      "                        \n",
      "                        <li>\n",
      "                            <span class=\"release-number\"><a href=\"/downloads/release/python-232/\">Python 2.3.2</a></span>\n",
      "                            <span class=\"release-date\">Oct. 3, 2003</span>\n",
      "                            <span class=\"release-download\"><a href=\"/downloads/release/python-232/\"><span aria-hidden=\"true\" class=\"icon-download\"></span> Download</a></span>\n",
      "                            <span class=\"release-enhancements\"><a href=\"http://hg.python.org/cpython/raw-file/v2.3.2/Misc/NEWS\">Release Notes</a></span>\n",
      "                        </li>\n",
      "                        \n",
      "                        <li>\n",
      "                            <span class=\"release-number\"><a href=\"/downloads/release/python-231/\">Python 2.3.1</a></span>\n",
      "                            <span class=\"release-date\">Sept. 23, 2003</span>\n",
      "                            <span class=\"release-download\"><a href=\"/downloads/release/python-231/\"><span aria-hidden=\"true\" class=\"icon-download\"></span> Download</a></span>\n",
      "                            <span class=\"release-enhancements\"><a href=\"http://hg.python.org/cpython/raw-file/v2.3.1/Misc/NEWS\">Release Notes</a></span>\n",
      "                        </li>\n",
      "                        \n",
      "                        <li>\n",
      "                            <span class=\"release-number\"><a href=\"/downloads/release/python-230/\">Python 2.3.0</a></span>\n",
      "                            <span class=\"release-date\">July 29, 2003</span>\n",
      "                            <span class=\"release-download\"><a href=\"/downloads/release/python-230/\"><span aria-hidden=\"true\" class=\"icon-download\"></span> Download</a></span>\n",
      "                            <span class=\"release-enhancements\"><a href=\"http://hg.python.org/cpython/raw-file/15fc83c505e3/Misc/NEWS\">Release Notes</a></span>\n",
      "                        </li>\n",
      "                        \n",
      "                        <li>\n",
      "                            <span class=\"release-number\"><a href=\"/downloads/release/python-223/\">Python 2.2.3</a></span>\n",
      "                            <span class=\"release-date\">May 30, 2003</span>\n",
      "                            <span class=\"release-download\"><a href=\"/downloads/release/python-223/\"><span aria-hidden=\"true\" class=\"icon-download\"></span> Download</a></span>\n",
      "                            <span class=\"release-enhancements\"><a href=\"http://hg.python.org/cpython/raw-file/v2.2.3/Misc/NEWS\">Release Notes</a></span>\n",
      "                        </li>\n",
      "                        \n",
      "                        <li>\n",
      "                            <span class=\"release-number\"><a href=\"/downloads/release/python-222/\">Python 2.2.2</a></span>\n",
      "                            <span class=\"release-date\">Oct. 14, 2002</span>\n",
      "                            <span class=\"release-download\"><a href=\"/downloads/release/python-222/\"><span aria-hidden=\"true\" class=\"icon-download\"></span> Download</a></span>\n",
      "                            <span class=\"release-enhancements\"><a href=\"http://hg.python.org/cpython/raw-file/v2.2.2/Misc/NEWS\">Release Notes</a></span>\n",
      "                        </li>\n",
      "                        \n",
      "                        <li>\n",
      "                            <span class=\"release-number\"><a href=\"/downloads/release/python-221/\">Python 2.2.1</a></span>\n",
      "                            <span class=\"release-date\">April 10, 2002</span>\n",
      "                            <span class=\"release-download\"><a href=\"/downloads/release/python-221/\"><span aria-hidden=\"true\" class=\"icon-download\"></span> Download</a></span>\n",
      "                            <span class=\"release-enhancements\"><a href=\"http://hg.python.org/cpython/raw-file/v2.2.1/Misc/NEWS\">Release Notes</a></span>\n",
      "                        </li>\n",
      "                        \n",
      "                        <li>\n",
      "                            <span class=\"release-number\"><a href=\"/downloads/release/python-213/\">Python 2.1.3</a></span>\n",
      "                            <span class=\"release-date\">April 9, 2002</span>\n",
      "                            <span class=\"release-download\"><a href=\"/downloads/release/python-213/\"><span aria-hidden=\"true\" class=\"icon-download\"></span> Download</a></span>\n",
      "                            <span class=\"release-enhancements\"><a href=\"http://hg.python.org/cpython/raw-file/v2.1.3/Misc/NEWS\">Release Notes</a></span>\n",
      "                        </li>\n",
      "                        \n",
      "                        <li>\n",
      "                            <span class=\"release-number\"><a href=\"/downloads/release/python-220/\">Python 2.2.0</a></span>\n",
      "                            <span class=\"release-date\">Dec. 21, 2001</span>\n",
      "                            <span class=\"release-download\"><a href=\"/downloads/release/python-220/\"><span aria-hidden=\"true\" class=\"icon-download\"></span> Download</a></span>\n",
      "                            <span class=\"release-enhancements\"><a href=\"http://hg.python.org/cpython/raw-file/v2.2/Misc/NEWS\">Release Notes</a></span>\n",
      "                        </li>\n",
      "                        \n",
      "                        <li>\n",
      "                            <span class=\"release-number\"><a href=\"/downloads/release/python-201/\">Python 2.0.1</a></span>\n",
      "                            <span class=\"release-date\">June 22, 2001</span>\n",
      "                            <span class=\"release-download\"><a href=\"/downloads/release/python-201/\"><span aria-hidden=\"true\" class=\"icon-download\"></span> Download</a></span>\n",
      "                            <span class=\"release-enhancements\"><a href=\"http://hg.python.org/cpython/raw-file/v2.0.1/Misc/NEWS\">Release Notes</a></span>\n",
      "                        </li>\n",
      "                        \n",
      "                    </ol>\n",
      "                    <p><a href=\"/download/releases/\">View older releases</a><!-- removed by Frank until content available <small><em>Older releases: <a href=\"#\">Source releases, <a href=\"#\">binaries-1.1</a>, <a href=\"#\">binaries-1.2</a>, <a href=\"#\">binaries-1.3</a>, <a href=\"#\">binaries-1.4</a>, <a href=\"#\">binaries-1.5</a></em></small> --></p>\n",
      "\n",
      "                </div>\n",
      "\n",
      "\n",
      "                <div class=\"row\">\n",
      "                    <div class=\"sidebar-widget download-widget\">\n",
      "                    \n",
      "\n",
      "\n",
      "\n",
      "\n",
      "\n",
      "\n",
      "\n",
      "  <h2 class=\"widget-title\">Sponsors</h2>\n",
      "  <p>Visionary sponsors help to host Python downloads.</p>\n",
      "  \n",
      "  \n",
      "    <img src=\"https://s3.dualstack.us-east-2.amazonaws.com/pythondotorg-assets/media/cache/8f/e6/8fe6f2b82e0307a5089b010ef0f8d3de.png\" alt=\"Bloomberg logo\" style=\"max-height:200px;max-width:200px;height:auto;width:auto;\">\n",
      "  \n",
      "  \n",
      "  \n",
      "    <img src=\"https://s3.dualstack.us-east-2.amazonaws.com/pythondotorg-assets/media/cache/e7/28/e728f62868b54490bf3c2bca222db2b2.png\" alt=\"Meta logo\" style=\"max-height:200px;max-width:200px;height:auto;width:auto;\">\n",
      "  \n",
      "  \n",
      "  \n",
      "    <img src=\"https://s3.dualstack.us-east-2.amazonaws.com/pythondotorg-assets/media/cache/40/e5/40e51bcff81a9c2e3685e3233d3beebd.png\" alt=\"Google logo\" style=\"max-height:200px;max-width:200px;height:auto;width:auto;\">\n",
      "  \n",
      "  \n",
      "\n",
      "\n",
      "\n",
      "\n",
      "                    </div>\n",
      "                </div>\n",
      "\n",
      "        \t\t<div class=\"row\">\n",
      "\n",
      "        \t\t    <div class=\"small-widget download-widget1\">\n",
      "                        <h2 class=\"widget-title\">Licenses</h2>\n",
      "<p>All Python releases are <a href=\"http://www.opensource.org/\">Open Source</a>. Historically, most, but not all, Python releases have also been GPL-compatible. The Licenses page details GPL-compatibility and Terms and Conditions. </p>\n",
      "<p><a class=\"readmore\" href=\"http://docs.python.org/3/license.html#terms-and-conditions-for-accessing-or-otherwise-using-python\">Read more</a></p>\n",
      "\n",
      "                    </div>\n",
      "\n",
      "                    <div class=\"small-widget download-widget2\">\n",
      "                        <h2 class=\"widget-title\">Sources</h2>\n",
      "<p>For most Unix systems, you must download and compile the source code. The same source code archive can also be used to build the Windows and Mac versions, and is the starting point for ports to all other platforms.</p>\n",
      "\n",
      "<p>Download the latest <a href=\"https://www.python.org/ftp/python/3.11.4/Python-3.11.4.tar.xz\">Python 3</a> source.</p>\n",
      "\n",
      "<p><a class=\"readmore\" href=\"/download/source/\">Read more</a></p>\n",
      "\n",
      "                    </div>\n",
      "\n",
      "        \t\t    <div class=\"small-widget download-widget3\">\n",
      "                        <h2 class=\"widget-title\">Alternative Implementations</h2>\n",
      "<p>This site hosts the \"traditional\" implementation of Python (nicknamed CPython). A number of alternative implementations are available as well. </p>\n",
      "<p><a class=\"readmore\" href=\"/download/alternatives/\">Read more</a></p>\n",
      "\n",
      "                    </div>\n",
      "\n",
      "                    <div class=\"small-widget download-widget3 last\">\n",
      "                        <h2 class=\"widget-title\">History</h2>\n",
      "<p>Python was created in the early 1990s by Guido van Rossum at Stichting Mathematisch Centrum in the Netherlands as a successor of a language called ABC. Guido remains Python’s principal author, although it includes many contributions from others. </p>\n",
      "<p><a class=\"readmore\" href=\"http://docs.python.org/3/license.html\">Read more</a></p>\n",
      "\n",
      "                    </div>\n",
      "\n",
      "                </div>\n",
      "\n",
      "                <div class=\"row\">\n",
      "                    <h2>Release Schedules</h2>\n",
      "\n",
      "<ul>\n",
      "<li><a href=\"https://peps.python.org/pep-0693/\">Python 3.12 Release Schedule</a></li>\n",
      "<li><a href=\"https://peps.python.org/pep-0664/\">Python 3.11 Release Schedule</a></li>\n",
      "<li><a href=\"https://peps.python.org/pep-0619/\">Python 3.10 Release Schedule</a></li>\n",
      "<li><a href=\"https://www.python.org/dev/peps/pep-0596/\">Python 3.9 Release Schedule</a></li>\n",
      "<li><a href=\"https://www.python.org/dev/peps/pep-0569/\">Python 3.8 Release Schedule</a></li>\n",
      "<li><a href=\"https://www.python.org/dev/peps/pep-0537/\">Python 3.7 Release Schedule</a></li>\n",
      "</ul>\n",
      "<br>\n",
      "<p>See <a href=\"https://devguide.python.org/versions/\">Status of Python Versions</a> for all an overview of all versions, including unsupported.</p>\n",
      "                </div>\n",
      "\n",
      "                <div class=\"row\">\n",
      "                    <h2>Information about specific ports, and developer info</h2>\n",
      "\n",
      "<ul>\n",
      "   <li><a href=\"/downloads/windows/\">Windows</a></li>\n",
      "   <li><a href=\"/downloads/macos/\">Macintosh</a></li>\n",
      "   <li><a href=\"/download/other/\">Other platforms</a></li>\n",
      "   <li><a href=\"/downloads/source/\">Source</a></li>\n",
      "   <li><a href=\"/dev/\">Python Developer's Guide</a></li>\n",
      "   <li><a href=\"http://bugs.python.org\">Python Issue Tracker</a></li>\n",
      "</ul>\n",
      "                </div>\n",
      "\n",
      "                <div class=\"row\">\n",
      "                    <h2>OpenPGP Public Keys</h2>\n",
      "<p>\n",
      "Source and binary executables are signed by the release manager or binary builder using their\n",
      "OpenPGP key.  Release files for currently supported releases are signed by the following:\n",
      "</p>\n",
      "<ul>\n",
      "<li>Thomas Wouters (3.12.x and 3.13.x source files and tags) (key id: <a class=\"reference external\" href=\"https://github.com/Yhg1s.gpg\">A821E680E5FA6305</a>)</li>\n",
      "<li><a class=\"reference external\" href=\"https://keybase.io/pablogsal/\">Pablo Galindo Salgado (3.10.x and 3.11.x source files and tags)</a> (key id: <a class=\"reference external\" href=\"https://keybase.io/pablogsal/pgp_keys.asc?fingerprint=a035c8c19219ba821ecea86b64e628f8d684696d\">64E628F8D684696D</a>)</li>\n",
      "<li><a class=\"reference external\" href=\"https://keybase.io/stevedower/\">Steve Dower (Windows binaries)</a> (key id: <a class=\"reference external\" href=\"https://keybase.io/stevedower/pgp_keys.asc?fingerprint=7ed10b6531d7c8e1bc296021fc624643487034e5\">FC62 4643 4870 34E5</a>)</li>\n",
      "<li><a class=\"reference external\" href=\"https://keybase.io/ambv/\">Łukasz Langa (3.8.x and 3.9.x source files and tags)</a> (key id: <a class=\"reference external\" href=\"https://keybase.io/ambv/pgp_keys.asc?fingerprint=e3ff2839c048b25c084debe9b26995e310250568\">B269 95E3 1025 0568</a>)</li>\n",
      "<li><a class=\"reference external\" href=\"https://keybase.io/nad/\">Ned Deily (macOS binaries, 3.7.x / 3.6.x source files and tags)</a> (key ids: <a class=\"reference external\" href=\"https://keybase.io/nad/pgp_keys.asc?fingerprint=0d96df4d4110e5c43fbfb17f2d347ea6aa65421d\">2D34 7EA6 AA65 421D</a>, <a class=\"reference external\" href=\"https://keybase.io/nad/pgp_keys.asc?fingerprint=c9b104b3dd3aa72d7ccb1066fb9921286f5e1540\">FB99 2128 6F5E 1540</a>, and Apple Developer ID <strong>DJ3H93M7VJ</strong>)</li>\n",
      "<li>Larry Hastings (3.5.x source files and tags) (key id: 3A5C A953 F73C 700D)</li>\n",
      "<li><a class=\"reference external\" href=\"https://keybase.io/bp/\">Benjamin Peterson (2.7.z source files and tags)</a> (key id: <a class=\"reference external\" href=\"https://keybase.io/bp/pgp_keys.asc?fingerprint=c01e1cad5ea2c4f0b8e3571504c367c218add4ff\">04C3 67C2 18AD D4FF</a> and A4135B38)</li>\n",
      "</ul>\n",
      "<br>\n",
      "<p>\n",
      "Release files for older releases which have now reached end-of-life may have been signed by one of the following:\n",
      "</p>\n",
      "<ul>\n",
      "<li>Anthony Baxter (key id: 0EDD C5F2 6A45 C816)</li>\n",
      "<li>Georg Brandl (key id: 0A5B 1018 3658 0288)</li>\n",
      "<li>Martin v. Löwis (key id: <a class=\"reference external\" href=\"https://www.dcl.hpi.uni-potsdam.de/people/loewis/mvl.asc\">6AF0 53F0 7D9D C8D2</a>)</li>\n",
      "<li>Ronald Oussoren (key id: C9BE 28DE E6DF 025C)</li>\n",
      "<li><a class=\"reference external\" href=\"https://keybase.io/pumpichank/\">Barry Warsaw</a> (key ids: <a class=\"reference external\" href=\"https://keybase.io/pumpichank/pgp_keys.asc?fingerprint=8417157edbe73d9eac1e539b126eb563a74b06bf\">126E B563 A74B 06BF</a>, <a class=\"reference external\" href=\"http://barry.warsaw.us/barrypub-gpg.asc\">D986 6941 EA5B BD71, and ED9D77D5</a>)</li>\n",
      "</ul>\n",
      "<br>\n",
      "<p>You can import a person's public keys from a public keyserver network server\n",
      "you trust by running a command like:</p>\n",
      "\n",
      "<code><pre>\n",
      "gpg --recv-keys [key id]\n",
      "</pre></code>\n",
      "\n",
      "<p>\n",
      "or, in many cases, public keys can also be found\n",
      "at <a class=\"reference external\" href=\"https://keybase.io/verify\">keybase.io</a>.\n",
      "On the version-specific download pages, you should see a link to both the\n",
      "downloadable file and a detached signature file.  To verify the authenticity\n",
      "of the download, grab both files and then run this command:</p>\n",
      "\n",
      "<code><pre class=\"literal-block\">\n",
      "gpg --verify Python-3.6.2.tgz.asc\n",
      "</pre></code>\n",
      "\n",
      "<p>Note that you must use the name of the signature file, and you should use the\n",
      "one that's appropriate to the download you're verifying.</p>\n",
      "\n",
      "<ul>\n",
      "<li>(These instructions are geared to\n",
      "<a class=\"reference external\" href=\"http://www.gnupg.org/\">GnuPG</a> and Unix command-line users.)\n",
      "</li>\n",
      "</ul>\n",
      "\n",
      "\n",
      "<h2>Other Useful Items</h2>\n",
      "<ul>\n",
      "<li>Looking for 3rd party <strong>Python modules</strong>?  The\n",
      "<a class=\"reference external\" href=\"http://pypi.python.org/pypi\">Package Index</a> has many of them.</li>\n",
      "<li>You can <a class=\"reference external\" href=\"http://docs.python.org/\">view</a> the standard documentation\n",
      "online, or you can <a class=\"reference external\" href=\"http://docs.python.org/3/download.html\">download</a> it\n",
      "in HTML, PostScript, PDF and other formats.  See the main\n",
      "<a class=\"reference external\" href=\"/doc/\">Documentation</a> page.</li>\n",
      "<li>Information on <a class=\"reference external\" href=\"unpacking\">tools for unpacking archive files</a>\n",
      "provided on python.org is available.</li>\n",
      "<li><strong>Tip</strong>: even if you download a ready-made binary for your\n",
      "platform, it makes sense to also download the <a class=\"reference external\" href=\"source\">source</a>.\n",
      "This lets you browse the standard library (the subdirectory <strong>Lib</strong>)\n",
      "and the standard collections of demos (<strong>Demo</strong>) and tools\n",
      "(<strong>Tools</strong>) that come with it.  There's a lot you can learn from the\n",
      "source!</li>\n",
      "<li>There is also a <a class=\"reference external\" href=\"https://wiki.python.org/moin/EmacsEditor\">collection of Emacs packages</a>\n",
      "that the Emacsing Pythoneer might find useful.  This includes major\n",
      "modes for editing Python, C, C++, Java, etc., Python debugger\n",
      "interfaces and more.  Most packages are compatible with Emacs and\n",
      "XEmacs.</li>\n",
      "</ul>\n",
      "\n",
      "<h2>Want to contribute?</h2>\n",
      "\n",
      "<p>Want to contribute?  See the <a class=\"reference external\" href=\"/dev/\">Python Developer's Guide</a>\n",
      "to learn about how Python development is managed.</p>\n",
      "</div>\n",
      "                </div>\n",
      "\n",
      "\n",
      "                </section>\n",
      "\n",
      "                \n",
      "                \n",
      "\n",
      "                \n",
      "                \n",
      "\n",
      "\n",
      "            </div><!-- end .container -->\n",
      "        </div><!-- end #content .content-wrapper -->\n",
      "\n",
      "        <!-- Footer and social media list -->\n",
      "        \n",
      "        <footer id=\"site-map\" class=\"main-footer\" role=\"contentinfo\">\n",
      "            <div class=\"main-footer-links\">\n",
      "                <div class=\"container\">\n",
      "\n",
      "                    \n",
      "                    <a id=\"back-to-top-1\" class=\"jump-link\" href=\"#python-network\"><span aria-hidden=\"true\" class=\"icon-arrow-up\"><span>&#9650;</span></span> Back to Top</a>\n",
      "\n",
      "                    \n",
      "\n",
      "<ul class=\"sitemap navigation menu do-not-print\" role=\"tree\" id=\"container\">\n",
      "    \n",
      "    <li class=\"tier-1 element-1\">\n",
      "        <a href=\"/about/\" >About</a>\n",
      "        \n",
      "            \n",
      "\n",
      "<ul class=\"subnav menu\">\n",
      "    \n",
      "        <li class=\"tier-2 element-1\" role=\"treeitem\"><a href=\"/about/apps/\" title=\"\">Applications</a></li>\n",
      "    \n",
      "        <li class=\"tier-2 element-2\" role=\"treeitem\"><a href=\"/about/quotes/\" title=\"\">Quotes</a></li>\n",
      "    \n",
      "        <li class=\"tier-2 element-3\" role=\"treeitem\"><a href=\"/about/gettingstarted/\" title=\"\">Getting Started</a></li>\n",
      "    \n",
      "        <li class=\"tier-2 element-4\" role=\"treeitem\"><a href=\"/about/help/\" title=\"\">Help</a></li>\n",
      "    \n",
      "        <li class=\"tier-2 element-5\" role=\"treeitem\"><a href=\"http://brochure.getpython.info/\" title=\"\">Python Brochure</a></li>\n",
      "    \n",
      "</ul>\n",
      "\n",
      "        \n",
      "    </li>\n",
      "    \n",
      "    <li class=\"tier-1 element-2\">\n",
      "        <a href=\"/downloads/\" >Downloads</a>\n",
      "        \n",
      "            \n",
      "\n",
      "<ul class=\"subnav menu\">\n",
      "    \n",
      "        <li class=\"tier-2 element-1\" role=\"treeitem\"><a href=\"/downloads/\" title=\"\">All releases</a></li>\n",
      "    \n",
      "        <li class=\"tier-2 element-2\" role=\"treeitem\"><a href=\"/downloads/source/\" title=\"\">Source code</a></li>\n",
      "    \n",
      "        <li class=\"tier-2 element-3\" role=\"treeitem\"><a href=\"/downloads/windows/\" title=\"\">Windows</a></li>\n",
      "    \n",
      "        <li class=\"tier-2 element-4\" role=\"treeitem\"><a href=\"/downloads/macos/\" title=\"\">macOS</a></li>\n",
      "    \n",
      "        <li class=\"tier-2 element-5\" role=\"treeitem\"><a href=\"/download/other/\" title=\"\">Other Platforms</a></li>\n",
      "    \n",
      "        <li class=\"tier-2 element-6\" role=\"treeitem\"><a href=\"https://docs.python.org/3/license.html\" title=\"\">License</a></li>\n",
      "    \n",
      "        <li class=\"tier-2 element-7\" role=\"treeitem\"><a href=\"/download/alternatives\" title=\"\">Alternative Implementations</a></li>\n",
      "    \n",
      "</ul>\n",
      "\n",
      "        \n",
      "    </li>\n",
      "    \n",
      "    <li class=\"tier-1 element-3\">\n",
      "        <a href=\"/doc/\" >Documentation</a>\n",
      "        \n",
      "            \n",
      "\n",
      "<ul class=\"subnav menu\">\n",
      "    \n",
      "        <li class=\"tier-2 element-1\" role=\"treeitem\"><a href=\"/doc/\" title=\"\">Docs</a></li>\n",
      "    \n",
      "        <li class=\"tier-2 element-2\" role=\"treeitem\"><a href=\"/doc/av\" title=\"\">Audio/Visual Talks</a></li>\n",
      "    \n",
      "        <li class=\"tier-2 element-3\" role=\"treeitem\"><a href=\"https://wiki.python.org/moin/BeginnersGuide\" title=\"\">Beginner&#39;s Guide</a></li>\n",
      "    \n",
      "        <li class=\"tier-2 element-4\" role=\"treeitem\"><a href=\"https://devguide.python.org/\" title=\"\">Developer&#39;s Guide</a></li>\n",
      "    \n",
      "        <li class=\"tier-2 element-5\" role=\"treeitem\"><a href=\"https://docs.python.org/faq/\" title=\"\">FAQ</a></li>\n",
      "    \n",
      "        <li class=\"tier-2 element-6\" role=\"treeitem\"><a href=\"http://wiki.python.org/moin/Languages\" title=\"\">Non-English Docs</a></li>\n",
      "    \n",
      "        <li class=\"tier-2 element-7\" role=\"treeitem\"><a href=\"http://python.org/dev/peps/\" title=\"\">PEP Index</a></li>\n",
      "    \n",
      "        <li class=\"tier-2 element-8\" role=\"treeitem\"><a href=\"https://wiki.python.org/moin/PythonBooks\" title=\"\">Python Books</a></li>\n",
      "    \n",
      "        <li class=\"tier-2 element-9\" role=\"treeitem\"><a href=\"/doc/essays/\" title=\"\">Python Essays</a></li>\n",
      "    \n",
      "</ul>\n",
      "\n",
      "        \n",
      "    </li>\n",
      "    \n",
      "    <li class=\"tier-1 element-4\">\n",
      "        <a href=\"/community/\" >Community</a>\n",
      "        \n",
      "            \n",
      "\n",
      "<ul class=\"subnav menu\">\n",
      "    \n",
      "        <li class=\"tier-2 element-1\" role=\"treeitem\"><a href=\"/community/diversity/\" title=\"\">Diversity</a></li>\n",
      "    \n",
      "        <li class=\"tier-2 element-2\" role=\"treeitem\"><a href=\"/community/lists/\" title=\"\">Mailing Lists</a></li>\n",
      "    \n",
      "        <li class=\"tier-2 element-3\" role=\"treeitem\"><a href=\"/community/irc/\" title=\"\">IRC</a></li>\n",
      "    \n",
      "        <li class=\"tier-2 element-4\" role=\"treeitem\"><a href=\"/community/forums/\" title=\"\">Forums</a></li>\n",
      "    \n",
      "        <li class=\"tier-2 element-5\" role=\"treeitem\"><a href=\"/psf/annual-report/2021/\" title=\"\">PSF Annual Impact Report</a></li>\n",
      "    \n",
      "        <li class=\"tier-2 element-6\" role=\"treeitem\"><a href=\"/community/workshops/\" title=\"\">Python Conferences</a></li>\n",
      "    \n",
      "        <li class=\"tier-2 element-7\" role=\"treeitem\"><a href=\"/community/sigs/\" title=\"\">Special Interest Groups</a></li>\n",
      "    \n",
      "        <li class=\"tier-2 element-8\" role=\"treeitem\"><a href=\"/community/logos/\" title=\"\">Python Logo</a></li>\n",
      "    \n",
      "        <li class=\"tier-2 element-9\" role=\"treeitem\"><a href=\"https://wiki.python.org/moin/\" title=\"\">Python Wiki</a></li>\n",
      "    \n",
      "        <li class=\"tier-2 element-10\" role=\"treeitem\"><a href=\"/psf/conduct/\" title=\"\">Code of Conduct</a></li>\n",
      "    \n",
      "        <li class=\"tier-2 element-11\" role=\"treeitem\"><a href=\"/community/awards\" title=\"\">Community Awards</a></li>\n",
      "    \n",
      "        <li class=\"tier-2 element-12\" role=\"treeitem\"><a href=\"/psf/get-involved/\" title=\"\">Get Involved</a></li>\n",
      "    \n",
      "        <li class=\"tier-2 element-13\" role=\"treeitem\"><a href=\"/psf/community-stories/\" title=\"\">Shared Stories</a></li>\n",
      "    \n",
      "</ul>\n",
      "\n",
      "        \n",
      "    </li>\n",
      "    \n",
      "    <li class=\"tier-1 element-5\">\n",
      "        <a href=\"/success-stories/\" title=\"success-stories\">Success Stories</a>\n",
      "        \n",
      "            \n",
      "\n",
      "<ul class=\"subnav menu\">\n",
      "    \n",
      "        <li class=\"tier-2 element-1\" role=\"treeitem\"><a href=\"/success-stories/category/arts/\" title=\"\">Arts</a></li>\n",
      "    \n",
      "        <li class=\"tier-2 element-2\" role=\"treeitem\"><a href=\"/success-stories/category/business/\" title=\"\">Business</a></li>\n",
      "    \n",
      "        <li class=\"tier-2 element-3\" role=\"treeitem\"><a href=\"/success-stories/category/education/\" title=\"\">Education</a></li>\n",
      "    \n",
      "        <li class=\"tier-2 element-4\" role=\"treeitem\"><a href=\"/success-stories/category/engineering/\" title=\"\">Engineering</a></li>\n",
      "    \n",
      "        <li class=\"tier-2 element-5\" role=\"treeitem\"><a href=\"/success-stories/category/government/\" title=\"\">Government</a></li>\n",
      "    \n",
      "        <li class=\"tier-2 element-6\" role=\"treeitem\"><a href=\"/success-stories/category/scientific/\" title=\"\">Scientific</a></li>\n",
      "    \n",
      "        <li class=\"tier-2 element-7\" role=\"treeitem\"><a href=\"/success-stories/category/software-development/\" title=\"\">Software Development</a></li>\n",
      "    \n",
      "</ul>\n",
      "\n",
      "        \n",
      "    </li>\n",
      "    \n",
      "    <li class=\"tier-1 element-6\">\n",
      "        <a href=\"/blogs/\" title=\"News from around the Python world\">News</a>\n",
      "        \n",
      "            \n",
      "\n",
      "<ul class=\"subnav menu\">\n",
      "    \n",
      "        <li class=\"tier-2 element-1\" role=\"treeitem\"><a href=\"/blogs/\" title=\"Python Insider Blog Posts\">Python News</a></li>\n",
      "    \n",
      "        <li class=\"tier-2 element-2\" role=\"treeitem\"><a href=\"/psf/newsletter/\" title=\"Python Software Foundation Newsletter\">PSF Newsletter</a></li>\n",
      "    \n",
      "        <li class=\"tier-2 element-3\" role=\"treeitem\"><a href=\"http://pyfound.blogspot.com/\" title=\"PSF Blog\">PSF News</a></li>\n",
      "    \n",
      "        <li class=\"tier-2 element-4\" role=\"treeitem\"><a href=\"http://pycon.blogspot.com/\" title=\"PyCon Blog\">PyCon US News</a></li>\n",
      "    \n",
      "        <li class=\"tier-2 element-5\" role=\"treeitem\"><a href=\"http://planetpython.org/\" title=\"Planet Python\">News from the Community</a></li>\n",
      "    \n",
      "</ul>\n",
      "\n",
      "        \n",
      "    </li>\n",
      "    \n",
      "    <li class=\"tier-1 element-7\">\n",
      "        <a href=\"/events/\" >Events</a>\n",
      "        \n",
      "            \n",
      "\n",
      "<ul class=\"subnav menu\">\n",
      "    \n",
      "        <li class=\"tier-2 element-1\" role=\"treeitem\"><a href=\"/events/python-events/\" title=\"\">Python Events</a></li>\n",
      "    \n",
      "        <li class=\"tier-2 element-2\" role=\"treeitem\"><a href=\"/events/python-user-group/\" title=\"\">User Group Events</a></li>\n",
      "    \n",
      "        <li class=\"tier-2 element-3\" role=\"treeitem\"><a href=\"/events/python-events/past/\" title=\"\">Python Events Archive</a></li>\n",
      "    \n",
      "        <li class=\"tier-2 element-4\" role=\"treeitem\"><a href=\"/events/python-user-group/past/\" title=\"\">User Group Events Archive</a></li>\n",
      "    \n",
      "        <li class=\"tier-2 element-5\" role=\"treeitem\"><a href=\"https://wiki.python.org/moin/PythonEventsCalendar#Submitting_an_Event\" title=\"\">Submit an Event</a></li>\n",
      "    \n",
      "</ul>\n",
      "\n",
      "        \n",
      "    </li>\n",
      "    \n",
      "    <li class=\"tier-1 element-8\">\n",
      "        <a href=\"/dev/\" >Contributing</a>\n",
      "        \n",
      "            \n",
      "\n",
      "<ul class=\"subnav menu\">\n",
      "    \n",
      "        <li class=\"tier-2 element-1\" role=\"treeitem\"><a href=\"https://devguide.python.org/\" title=\"\">Developer&#39;s Guide</a></li>\n",
      "    \n",
      "        <li class=\"tier-2 element-2\" role=\"treeitem\"><a href=\"https://bugs.python.org/\" title=\"\">Issue Tracker</a></li>\n",
      "    \n",
      "        <li class=\"tier-2 element-3\" role=\"treeitem\"><a href=\"https://mail.python.org/mailman/listinfo/python-dev\" title=\"\">python-dev list</a></li>\n",
      "    \n",
      "        <li class=\"tier-2 element-4\" role=\"treeitem\"><a href=\"/dev/core-mentorship/\" title=\"\">Core Mentorship</a></li>\n",
      "    \n",
      "        <li class=\"tier-2 element-5\" role=\"treeitem\"><a href=\"/dev/security/\" title=\"\">Report a Security Issue</a></li>\n",
      "    \n",
      "</ul>\n",
      "\n",
      "        \n",
      "    </li>\n",
      "    \n",
      "</ul>\n",
      "\n",
      "\n",
      "                    <a id=\"back-to-top-2\" class=\"jump-link\" href=\"#python-network\"><span aria-hidden=\"true\" class=\"icon-arrow-up\"><span>&#9650;</span></span> Back to Top</a>\n",
      "                    \n",
      "\n",
      "                </div><!-- end .container -->\n",
      "            </div> <!-- end .main-footer-links -->\n",
      "\n",
      "            <div class=\"site-base\">\n",
      "                <div class=\"container\">\n",
      "                    \n",
      "                    <ul class=\"footer-links navigation menu do-not-print\" role=\"tree\">\n",
      "                        <li class=\"tier-1 element-1\"><a href=\"/about/help/\">Help &amp; <span class=\"say-no-more\">General</span> Contact</a></li>\n",
      "                        <li class=\"tier-1 element-2\"><a href=\"/community/diversity/\">Diversity <span class=\"say-no-more\">Initiatives</span></a></li>\n",
      "                        <li class=\"tier-1 element-3\"><a href=\"https://github.com/python/pythondotorg/issues\">Submit Website Bug</a></li>\n",
      "                        <li class=\"tier-1 element-4\">\n",
      "                            <a href=\"https://status.python.org/\">Status <span class=\"python-status-indicator-default\" id=\"python-status-indicator\"></span></a>\n",
      "                        </li>\n",
      "                    </ul>\n",
      "\n",
      "                    <div class=\"copyright\">\n",
      "                        <p><small>\n",
      "                            <span class=\"pre\">Copyright &copy;2001-2023.</span>\n",
      "                            &nbsp;<span class=\"pre\"><a href=\"/psf-landing/\">Python Software Foundation</a></span>\n",
      "                            &nbsp;<span class=\"pre\"><a href=\"/about/legal/\">Legal Statements</a></span>\n",
      "                            &nbsp;<span class=\"pre\"><a href=\"/privacy/\">Privacy Policy</a></span>\n",
      "                            &nbsp;<span class=\"pre\"><a href=\"/psf/sponsorship/sponsors/#heroku\">Powered by Heroku</a></span>\n",
      "                        </small></p>\n",
      "                    </div>\n",
      "\n",
      "                </div><!-- end .container -->\n",
      "            </div><!-- end .site-base -->\n",
      "\n",
      "        </footer>\n",
      "        \n",
      "\n",
      "    </div><!-- end #touchnav-wrapper -->\n",
      "\n",
      "    \n",
      "    <script src=\"//ajax.googleapis.com/ajax/libs/jquery/1.8.2/jquery.min.js\"></script>\n",
      "    <script>window.jQuery || document.write('<script src=\"/static/js/libs/jquery-1.8.2.min.js\"><\\/script>')</script>\n",
      "    <script src=\"//ajax.googleapis.com/ajax/libs/jqueryui/1.12.1/jquery-ui.min.js\"></script>\n",
      "    <script>window.jQuery || document.write('<script src=\"/static/js/libs/jquery-ui-1.12.1.min.js\"><\\/script>')</script>\n",
      "\n",
      "    <script src=\"/static/js/libs/masonry.pkgd.min.js\"></script>\n",
      "    <script src=\"/static/js/libs/html-includes.js\"></script>\n",
      "\n",
      "    <script type=\"text/javascript\" src=\"/static/js/main-min.f5487accf7ed.js\" charset=\"utf-8\"></script>\n",
      "    \n",
      "\n",
      "    <!--[if lte IE 7]>\n",
      "    <script type=\"text/javascript\" src=\"/static/js/plugins/IE8-min.8af6e26c7a3b.js\" charset=\"utf-8\"></script>\n",
      "    \n",
      "    \n",
      "    <![endif]-->\n",
      "\n",
      "    <!--[if lte IE 8]>\n",
      "    <script type=\"text/javascript\" src=\"/static/js/plugins/getComputedStyle-min.d41d8cd98f00.js\" charset=\"utf-8\"></script>\n",
      "    \n",
      "    \n",
      "    <![endif]-->\n",
      "\n",
      "    \n",
      "\n",
      "    \n",
      "    \n",
      "\n",
      "</body>\n",
      "</html>\n",
      "\n"
     ]
    }
   ],
   "source": [
    "import requests\n",
    "response = requests.get('https://www.python.org/downloads/')\n",
    "text = response.text\n",
    "print(text)"
   ]
  },
  {
   "cell_type": "code",
   "execution_count": null,
   "metadata": {},
   "outputs": [],
   "source": [
    "import http.client\n",
    "conn = http.client.HTTPSConnection('www.python.org')\n",
    "conn.request('GET', '/downloads')\n",
    "response = conn.getresponse()\n",
    "text = response.read().decode('UTF-8')\n",
    "print(text)\n",
    "conn.close()"
   ]
  },
  {
   "attachments": {},
   "cell_type": "markdown",
   "metadata": {},
   "source": [
    "## 7.7 練習問題"
   ]
  },
  {
   "attachments": {},
   "cell_type": "markdown",
   "metadata": {},
   "source": [
    "### 練習 7-1"
   ]
  },
  {
   "attachments": {},
   "cell_type": "markdown",
   "metadata": {},
   "source": [
    "1. X 記述する必要はない\n",
    "2. O\n",
    "3. X できる\n",
    "4. O\n",
    "5. X 相応の学習が必要"
   ]
  },
  {
   "attachments": {},
   "cell_type": "markdown",
   "metadata": {},
   "source": [
    "### 練習 7-2"
   ]
  },
  {
   "attachments": {},
   "cell_type": "markdown",
   "metadata": {},
   "source": [
    "1. A.func()\n",
    "2. B.func()"
   ]
  },
  {
   "attachments": {},
   "cell_type": "markdown",
   "metadata": {},
   "source": [
    "### 練習 7-3"
   ]
  },
  {
   "attachments": {},
   "cell_type": "markdown",
   "metadata": {},
   "source": [
    "from A import func"
   ]
  },
  {
   "attachments": {},
   "cell_type": "markdown",
   "metadata": {},
   "source": [
    "### 練習 7-4"
   ]
  },
  {
   "cell_type": "code",
   "execution_count": 3,
   "metadata": {},
   "outputs": [
    {
     "name": "stdout",
     "output_type": "stream",
     "text": [
      "8\n"
     ]
    }
   ],
   "source": [
    "nums = list()\n",
    "for n in range(3):\n",
    "    i = int(input(f'{n + 1}番目の整数を入力してください >>'))\n",
    "    nums.append(i)\n",
    "print(max(nums))"
   ]
  },
  {
   "cell_type": "code",
   "execution_count": 7,
   "metadata": {},
   "outputs": [
    {
     "name": "stdout",
     "output_type": "stream",
     "text": [
      "3.14159\n"
     ]
    }
   ],
   "source": [
    "import math\n",
    "n = (int(math.pi * 100000)) / 100000\n",
    "print(n)"
   ]
  },
  {
   "attachments": {},
   "cell_type": "markdown",
   "metadata": {},
   "source": [
    "### 練習 7-5"
   ]
  },
  {
   "cell_type": "code",
   "execution_count": null,
   "metadata": {},
   "outputs": [],
   "source": [
    "file_r = open('sample.txt', 'r')\n",
    "file_w = open('copy.txt', 'w')\n",
    "for line in file_r:\n",
    "    file_w.write(line)\n",
    "file_r.close()\n",
    "file_w.close()"
   ]
  },
  {
   "cell_type": "code",
   "execution_count": 9,
   "metadata": {},
   "outputs": [
    {
     "name": "stdout",
     "output_type": "stream",
     "text": [
      "数当てゲームを始めます。3桁の数を当ててください!\n",
      "0ヒット!0ボール!\n",
      "正解は[1, 6, 8]\n"
     ]
    }
   ],
   "source": [
    "from random import randint\n",
    "print('数当てゲームを始めます。3桁の数を当ててください!')\n",
    "answer = list()\n",
    "for i in range(3):\n",
    "    answer.append(randint(0, 9))\n",
    "is_continue = True\n",
    "while is_continue == True:\n",
    "    prediction = list()\n",
    "    for j in range(3):\n",
    "        num = int(input(f'{j + 1}桁目の予想を入力 >>'))\n",
    "        prediction.append(num)\n",
    "    hit = 0\n",
    "    blow = 0\n",
    "    for k in range(3):\n",
    "        if answer[k] == prediction[k]:\n",
    "            hit += 1\n",
    "        else:\n",
    "            for l in range(3):\n",
    "                if answer[k] == prediction[l]:\n",
    "                    blow += 1\n",
    "    print(f'{hit}ヒット!{blow}ボール!')\n",
    "    if hit == 3:\n",
    "        print('正解です!')\n",
    "        is_continue = False\n",
    "    else:\n",
    "        response = int(input('続けますか? 1:続ける 2:終了 >>'))\n",
    "        if response == 1:\n",
    "            is_continue = True\n",
    "        else:\n",
    "            print(f'正解は{answer}')\n",
    "            is_continue = False"
   ]
  },
  {
   "attachments": {},
   "cell_type": "markdown",
   "metadata": {},
   "source": [
    "# 第8章 まだまだ広がるPythonの世界"
   ]
  },
  {
   "attachments": {},
   "cell_type": "markdown",
   "metadata": {},
   "source": [
    "## 8.1 まだまだ広がるPythonの世界"
   ]
  },
  {
   "cell_type": "code",
   "execution_count": null,
   "metadata": {},
   "outputs": [],
   "source": [
    "import urllib.request\n",
    "\n",
    "url = 'https://blog.python.org/'\n",
    "req = urllib.request.Request(url)\n",
    "with urllib.request.urlopen(req) as res:\n",
    "    body = str(res.read())\n",
    "\n",
    "if 'security' in body or 'vulnerability' in body:\n",
    "    print('セキュリティに関する記述があります')\n",
    "    print('https://blog.python.org/を確認してください')\n",
    "else:\n",
    "    print('調査対象のセキュリティ用語はありませんでした')"
   ]
  },
  {
   "cell_type": "code",
   "execution_count": null,
   "metadata": {},
   "outputs": [],
   "source": [
    "import sqlite3\n",
    "with sqlite3.connect('sample.db') as conn:\n",
    "    cursor = conn.cursor()\n",
    "    cursor.execute('SELECT IN, NAME FROM EMPLOYEES')\n",
    "    for row in cursor.fetchall():\n",
    "        print(row[0])\n",
    "        print(row[1])"
   ]
  },
  {
   "cell_type": "code",
   "execution_count": null,
   "metadata": {},
   "outputs": [],
   "source": [
    "import tkinter as tk\n",
    "root = tk.TK()\n",
    "root.geometry('240x240')\n",
    "root.title('GUI Sample')\n",
    "button = tk.Button(root, text = 'Hello, World')\n",
    "button.pack()\n",
    "root.mainloop()"
   ]
  },
  {
   "cell_type": "code",
   "execution_count": 13,
   "metadata": {},
   "outputs": [
    {
     "name": "stdout",
     "output_type": "stream",
     "text": [
      " * Serving Flask app '__main__'\n",
      " * Debug mode: off\n"
     ]
    },
    {
     "name": "stderr",
     "output_type": "stream",
     "text": [
      "\u001b[31m\u001b[1mWARNING: This is a development server. Do not use it in a production deployment. Use a production WSGI server instead.\u001b[0m\n",
      " * Running on http://127.0.0.1:5000\n",
      "\u001b[33mPress CTRL+C to quit\u001b[0m\n",
      "127.0.0.1 - - [07/Jul/2023 17:41:05] \"GET / HTTP/1.1\" 200 -\n",
      "127.0.0.1 - - [07/Jul/2023 17:41:06] \"\u001b[33mGET /favicon.ico HTTP/1.1\u001b[0m\" 404 -\n"
     ]
    }
   ],
   "source": [
    "from flask import Flask\n",
    "import datetime\n",
    "app = Flask(__name__)\n",
    "@app.route('/')\n",
    "def hello():\n",
    "    dt = datetime.datetime.now()\n",
    "    html = '<!DOCTYPE html>'\n",
    "    html += '<html>'\n",
    "    html += '<head><title>Flask Sample</title></head>'\n",
    "    html += '<body>'\n",
    "    html += f'{dt.year}年{dt.month}月{dt.day}日 {dt.hour}時{dt.minute}分{dt.second}秒です'\n",
    "    html += '</body></html>'\n",
    "    return html\n",
    "if __name__ == '__main__':\n",
    "    app.run()"
   ]
  },
  {
   "attachments": {},
   "cell_type": "markdown",
   "metadata": {},
   "source": [
    "# B.3 例外処理"
   ]
  },
  {
   "cell_type": "code",
   "execution_count": 14,
   "metadata": {},
   "outputs": [
    {
     "name": "stdout",
     "output_type": "stream",
     "text": [
      "料金または人数は整数を入力してください\n",
      "プログラムを終了します\n"
     ]
    }
   ],
   "source": [
    "try:\n",
    "    price = int(input('料金を入力 >>'))\n",
    "    number = int(input('人数を入力 >>'))\n",
    "    print(f'1人あたり{price / number}円です')\n",
    "except ValueError:\n",
    "    print('料金または人数は整数を入力してください')\n",
    "print('プログラムを終了します')"
   ]
  },
  {
   "cell_type": "code",
   "execution_count": 15,
   "metadata": {},
   "outputs": [
    {
     "name": "stdout",
     "output_type": "stream",
     "text": [
      "人数に0は入力しないでください\n",
      "プログラムを終了します\n"
     ]
    }
   ],
   "source": [
    "try:\n",
    "    price = int(input('料金を入力 >>'))\n",
    "    number = int(input('人数を入力 >>'))\n",
    "    print(f'1人あたり{price / number}円です')\n",
    "except ValueError:\n",
    "    print('料金または人数は整数を入力してください')\n",
    "except ZeroDivisionError:\n",
    "    print('人数に0は入力しないでください')\n",
    "print('プログラムを終了します')"
   ]
  },
  {
   "cell_type": "code",
   "execution_count": 16,
   "metadata": {},
   "outputs": [
    {
     "name": "stdout",
     "output_type": "stream",
     "text": [
      "料金と人数に適切な整数を入力してください\n",
      "プログラムを終了します\n"
     ]
    }
   ],
   "source": [
    "try:\n",
    "    price = int(input('料金を入力 >>'))\n",
    "    number = int(input('人数を入力 >>'))\n",
    "    print(f'1人あたり{price / number}円です')\n",
    "except:\n",
    "    print('料金と人数に適切な整数を入力してください')\n",
    "print('プログラムを終了します')"
   ]
  },
  {
   "cell_type": "code",
   "execution_count": null,
   "metadata": {},
   "outputs": [],
   "source": []
  }
 ],
 "metadata": {
  "kernelspec": {
   "display_name": "Python 3",
   "language": "python",
   "name": "python3"
  },
  "language_info": {
   "codemirror_mode": {
    "name": "ipython",
    "version": 3
   },
   "file_extension": ".py",
   "mimetype": "text/x-python",
   "name": "python",
   "nbconvert_exporter": "python",
   "pygments_lexer": "ipython3",
   "version": "3.11.4"
  },
  "orig_nbformat": 4
 },
 "nbformat": 4,
 "nbformat_minor": 2
}
